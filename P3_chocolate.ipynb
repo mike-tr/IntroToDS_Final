{
 "cells": [
  {
   "cell_type": "markdown",
   "metadata": {
    "collapsed": true,
    "pycharm": {
     "name": "#%% md\n"
    }
   },
   "source": [
    "# Introduction\n",
    "in this dataset we have about 2000 entries about different chocolate bars,\n",
    "their manufacturers, the origin of the bean etc...\n",
    "\n",
    "the dataset contains a rating for the quality of the chocolate,\n",
    "\n",
    "## Flavors of Cacao Rating System:\n",
    "- #### Rating Scale:\n",
    "    - 4.0 - 5.0 = Outstanding\n",
    "    - 3.5 - 3.9 = Highly Recommended\n",
    "    - 3.0 - 3.49 = Recommended\n",
    "    - 2.0 - 2.9 = Disappointing\n",
    "    - 1.0 - 1.9 = Unpleasant\n",
    "\n",
    "### About this project\n",
    "in this project we will try to predict the rating of the chocolate,\n",
    "based on  the data we have, and we will conclude what are the factors\n",
    "for the rating and quality of the chocolate,\n",
    "or maybe it is a \"secret\" formula, that we do not have."
   ]
  },
  {
   "cell_type": "code",
   "execution_count": 1,
   "outputs": [],
   "source": [
    "import numpy as np\n",
    "import pandas as pd\n",
    "import seaborn as sn\n",
    "import matplotlib.pyplot as plt\n",
    "from sklearn.linear_model import LogisticRegression\n",
    "from sklearn.model_selection import train_test_split\n",
    "from sklearn.model_selection import cross_val_score\n",
    "from sklearn.model_selection import RandomizedSearchCV\n",
    "from sklearn.metrics import plot_confusion_matrix, confusion_matrix"
   ],
   "metadata": {
    "collapsed": false,
    "pycharm": {
     "name": "#%%\n"
    }
   }
  },
  {
   "cell_type": "code",
   "execution_count": 2,
   "outputs": [
    {
     "data": {
      "text/plain": "   Unnamed: 0   ref   company company_location  review_date  \\\n0           0  2454      5150            U.S.A         2019   \n1           1  2458      5150            U.S.A         2019   \n2           2  2454      5150            U.S.A         2019   \n3           3   797  A. Morin           France         2012   \n4           4   797  A. Morin           France         2012   \n\n  country_of_bean_origin specific_bean_origin_or_bar_name  cocoa_percent  \\\n0             Madagascar           Bejofo Estate, batch 1           76.0   \n1     Dominican republic                  Zorzal, batch 1           76.0   \n2               Tanzania            Kokoa Kamili, batch 1           76.0   \n3                   Peru                             Peru           63.0   \n4                Bolivia                          Bolivia           70.0   \n\n   rating  counts_of_ingredients      beans       cocoa_butter  \\\n0    3.75                      3  have_bean  have_cocoa_butter   \n1    3.50                      3  have_bean  have_cocoa_butter   \n2    3.25                      3  have_bean  have_cocoa_butter   \n3    3.75                      4  have_bean  have_cocoa_butter   \n4    3.50                      4  have_bean  have_cocoa_butter   \n\n           vanilla           lecithin           salt       sugar  \\\n0  have_not_vanila  have_not_lecithin  have_not_salt  have_sugar   \n1  have_not_vanila  have_not_lecithin  have_not_salt  have_sugar   \n2  have_not_vanila  have_not_lecithin  have_not_salt  have_sugar   \n3  have_not_vanila      have_lecithin  have_not_salt  have_sugar   \n4  have_not_vanila      have_lecithin  have_not_salt  have_sugar   \n\n            sweetener_without_sugar first_taste second_taste third_taste  \\\n0  have_not_sweetener_without_sugar       cocoa   blackberry   full body   \n1  have_not_sweetener_without_sugar       cocoa      vegetal      savory   \n2  have_not_sweetener_without_sugar  rich cocoa        fatty      bready   \n3  have_not_sweetener_without_sugar      fruity        melon      roasty   \n4  have_not_sweetener_without_sugar     vegetal        nutty         NaN   \n\n  fourth_taste  \n0          NaN  \n1          NaN  \n2          NaN  \n3          NaN  \n4          NaN  ",
      "text/html": "<div>\n<style scoped>\n    .dataframe tbody tr th:only-of-type {\n        vertical-align: middle;\n    }\n\n    .dataframe tbody tr th {\n        vertical-align: top;\n    }\n\n    .dataframe thead th {\n        text-align: right;\n    }\n</style>\n<table border=\"1\" class=\"dataframe\">\n  <thead>\n    <tr style=\"text-align: right;\">\n      <th></th>\n      <th>Unnamed: 0</th>\n      <th>ref</th>\n      <th>company</th>\n      <th>company_location</th>\n      <th>review_date</th>\n      <th>country_of_bean_origin</th>\n      <th>specific_bean_origin_or_bar_name</th>\n      <th>cocoa_percent</th>\n      <th>rating</th>\n      <th>counts_of_ingredients</th>\n      <th>beans</th>\n      <th>cocoa_butter</th>\n      <th>vanilla</th>\n      <th>lecithin</th>\n      <th>salt</th>\n      <th>sugar</th>\n      <th>sweetener_without_sugar</th>\n      <th>first_taste</th>\n      <th>second_taste</th>\n      <th>third_taste</th>\n      <th>fourth_taste</th>\n    </tr>\n  </thead>\n  <tbody>\n    <tr>\n      <th>0</th>\n      <td>0</td>\n      <td>2454</td>\n      <td>5150</td>\n      <td>U.S.A</td>\n      <td>2019</td>\n      <td>Madagascar</td>\n      <td>Bejofo Estate, batch 1</td>\n      <td>76.0</td>\n      <td>3.75</td>\n      <td>3</td>\n      <td>have_bean</td>\n      <td>have_cocoa_butter</td>\n      <td>have_not_vanila</td>\n      <td>have_not_lecithin</td>\n      <td>have_not_salt</td>\n      <td>have_sugar</td>\n      <td>have_not_sweetener_without_sugar</td>\n      <td>cocoa</td>\n      <td>blackberry</td>\n      <td>full body</td>\n      <td>NaN</td>\n    </tr>\n    <tr>\n      <th>1</th>\n      <td>1</td>\n      <td>2458</td>\n      <td>5150</td>\n      <td>U.S.A</td>\n      <td>2019</td>\n      <td>Dominican republic</td>\n      <td>Zorzal, batch 1</td>\n      <td>76.0</td>\n      <td>3.50</td>\n      <td>3</td>\n      <td>have_bean</td>\n      <td>have_cocoa_butter</td>\n      <td>have_not_vanila</td>\n      <td>have_not_lecithin</td>\n      <td>have_not_salt</td>\n      <td>have_sugar</td>\n      <td>have_not_sweetener_without_sugar</td>\n      <td>cocoa</td>\n      <td>vegetal</td>\n      <td>savory</td>\n      <td>NaN</td>\n    </tr>\n    <tr>\n      <th>2</th>\n      <td>2</td>\n      <td>2454</td>\n      <td>5150</td>\n      <td>U.S.A</td>\n      <td>2019</td>\n      <td>Tanzania</td>\n      <td>Kokoa Kamili, batch 1</td>\n      <td>76.0</td>\n      <td>3.25</td>\n      <td>3</td>\n      <td>have_bean</td>\n      <td>have_cocoa_butter</td>\n      <td>have_not_vanila</td>\n      <td>have_not_lecithin</td>\n      <td>have_not_salt</td>\n      <td>have_sugar</td>\n      <td>have_not_sweetener_without_sugar</td>\n      <td>rich cocoa</td>\n      <td>fatty</td>\n      <td>bready</td>\n      <td>NaN</td>\n    </tr>\n    <tr>\n      <th>3</th>\n      <td>3</td>\n      <td>797</td>\n      <td>A. Morin</td>\n      <td>France</td>\n      <td>2012</td>\n      <td>Peru</td>\n      <td>Peru</td>\n      <td>63.0</td>\n      <td>3.75</td>\n      <td>4</td>\n      <td>have_bean</td>\n      <td>have_cocoa_butter</td>\n      <td>have_not_vanila</td>\n      <td>have_lecithin</td>\n      <td>have_not_salt</td>\n      <td>have_sugar</td>\n      <td>have_not_sweetener_without_sugar</td>\n      <td>fruity</td>\n      <td>melon</td>\n      <td>roasty</td>\n      <td>NaN</td>\n    </tr>\n    <tr>\n      <th>4</th>\n      <td>4</td>\n      <td>797</td>\n      <td>A. Morin</td>\n      <td>France</td>\n      <td>2012</td>\n      <td>Bolivia</td>\n      <td>Bolivia</td>\n      <td>70.0</td>\n      <td>3.50</td>\n      <td>4</td>\n      <td>have_bean</td>\n      <td>have_cocoa_butter</td>\n      <td>have_not_vanila</td>\n      <td>have_lecithin</td>\n      <td>have_not_salt</td>\n      <td>have_sugar</td>\n      <td>have_not_sweetener_without_sugar</td>\n      <td>vegetal</td>\n      <td>nutty</td>\n      <td>NaN</td>\n      <td>NaN</td>\n    </tr>\n  </tbody>\n</table>\n</div>"
     },
     "execution_count": 2,
     "metadata": {},
     "output_type": "execute_result"
    }
   ],
   "source": [
    "chocolate = pd.read_csv('data/chocolate.csv')\n",
    "pd.set_option('display.max_columns', None)\n",
    "chocolate.head()"
   ],
   "metadata": {
    "collapsed": false,
    "pycharm": {
     "name": "#%%\n"
    }
   }
  },
  {
   "cell_type": "code",
   "execution_count": 3,
   "outputs": [
    {
     "name": "stdout",
     "output_type": "stream",
     "text": [
      "<class 'pandas.core.frame.DataFrame'>\n",
      "RangeIndex: 2224 entries, 0 to 2223\n",
      "Data columns (total 21 columns):\n",
      " #   Column                            Non-Null Count  Dtype  \n",
      "---  ------                            --------------  -----  \n",
      " 0   Unnamed: 0                        2224 non-null   int64  \n",
      " 1   ref                               2224 non-null   int64  \n",
      " 2   company                           2224 non-null   object \n",
      " 3   company_location                  2224 non-null   object \n",
      " 4   review_date                       2224 non-null   int64  \n",
      " 5   country_of_bean_origin            2224 non-null   object \n",
      " 6   specific_bean_origin_or_bar_name  2224 non-null   object \n",
      " 7   cocoa_percent                     2224 non-null   float64\n",
      " 8   rating                            2224 non-null   float64\n",
      " 9   counts_of_ingredients             2224 non-null   int64  \n",
      " 10  beans                             2224 non-null   object \n",
      " 11  cocoa_butter                      2224 non-null   object \n",
      " 12  vanilla                           2224 non-null   object \n",
      " 13  lecithin                          2224 non-null   object \n",
      " 14  salt                              2224 non-null   object \n",
      " 15  sugar                             2224 non-null   object \n",
      " 16  sweetener_without_sugar           2224 non-null   object \n",
      " 17  first_taste                       2224 non-null   object \n",
      " 18  second_taste                      2147 non-null   object \n",
      " 19  third_taste                       1604 non-null   object \n",
      " 20  fourth_taste                      242 non-null    object \n",
      "dtypes: float64(2), int64(4), object(15)\n",
      "memory usage: 365.0+ KB\n"
     ]
    }
   ],
   "source": [
    "chocolate.info()"
   ],
   "metadata": {
    "collapsed": false,
    "pycharm": {
     "name": "#%%\n"
    }
   }
  },
  {
   "cell_type": "markdown",
   "source": [
    "## data insight\n",
    "we can clearly see that there are some null values,\n",
    "but from a quick overview we can notice that \"first_taste, second_taste...\",\n",
    "are all basically a list of all tastes in the chocolate with we will need,\n",
    "to transform anyway into numerical data."
   ],
   "metadata": {
    "collapsed": false,
    "pycharm": {
     "name": "#%% md\n"
    }
   }
  },
  {
   "cell_type": "markdown",
   "source": [
    "## transforming the data for use\n",
    "in this section we will transform all the categories into data that we can use."
   ],
   "metadata": {
    "collapsed": false,
    "pycharm": {
     "name": "#%% md\n"
    }
   }
  },
  {
   "cell_type": "code",
   "execution_count": 5,
   "outputs": [
    {
     "data": {
      "text/plain": "       company company_location country_of_bean_origin  \\\n0         5150            U.S.A             Madagascar   \n1         5150            U.S.A     Dominican republic   \n2         5150            U.S.A               Tanzania   \n3     A. Morin           France                   Peru   \n4     A. Morin           France                Bolivia   \n...        ...              ...                    ...   \n2219    Zotter          Austria                  Blend   \n2220    Zotter          Austria               Colombia   \n2221    Zotter          Austria                 Belize   \n2222    Zotter          Austria                  Congo   \n2223    Zotter          Austria                  Blend   \n\n     specific_bean_origin_or_bar_name      beans       cocoa_butter  \\\n0              Bejofo Estate, batch 1  have_bean  have_cocoa_butter   \n1                     Zorzal, batch 1  have_bean  have_cocoa_butter   \n2               Kokoa Kamili, batch 1  have_bean  have_cocoa_butter   \n3                                Peru  have_bean  have_cocoa_butter   \n4                             Bolivia  have_bean  have_cocoa_butter   \n...                               ...        ...                ...   \n2219                              Raw  have_bean  have_cocoa_butter   \n2220                 APROCAFA, Acandi  have_bean  have_cocoa_butter   \n2221                         Maya Mtn  have_bean  have_cocoa_butter   \n2222            Mountains of the Moon  have_bean  have_cocoa_butter   \n2223  Dry Aged, 30 yr Anniversary bar  have_bean  have_cocoa_butter   \n\n              vanilla           lecithin           salt           sugar  \\\n0     have_not_vanila  have_not_lecithin  have_not_salt      have_sugar   \n1     have_not_vanila  have_not_lecithin  have_not_salt      have_sugar   \n2     have_not_vanila  have_not_lecithin  have_not_salt      have_sugar   \n3     have_not_vanila      have_lecithin  have_not_salt      have_sugar   \n4     have_not_vanila      have_lecithin  have_not_salt      have_sugar   \n...               ...                ...            ...             ...   \n2219  have_not_vanila  have_not_lecithin      have_salt  have_not_sugar   \n2220  have_not_vanila  have_not_lecithin  have_not_salt      have_sugar   \n2221  have_not_vanila  have_not_lecithin  have_not_salt      have_sugar   \n2222  have_not_vanila  have_not_lecithin  have_not_salt      have_sugar   \n2223  have_not_vanila  have_not_lecithin  have_not_salt      have_sugar   \n\n               sweetener_without_sugar   first_taste second_taste third_taste  \\\n0     have_not_sweetener_without_sugar         cocoa   blackberry   full body   \n1     have_not_sweetener_without_sugar         cocoa      vegetal      savory   \n2     have_not_sweetener_without_sugar    rich cocoa        fatty      bready   \n3     have_not_sweetener_without_sugar        fruity        melon      roasty   \n4     have_not_sweetener_without_sugar       vegetal        nutty         NaN   \n...                                ...           ...          ...         ...   \n2219      have_sweetener_without_sugar          waxy      cloying     vegetal   \n2220  have_not_sweetener_without_sugar  strong nutty  marshmallow         NaN   \n2221  have_not_sweetener_without_sugar         muted       roasty  accessible   \n2222  have_not_sweetener_without_sugar         fatty    mild nuts  mild fruit   \n2223  have_not_sweetener_without_sugar         fatty       earthy       cocoa   \n\n     fourth_taste  \n0             NaN  \n1             NaN  \n2             NaN  \n3             NaN  \n4             NaN  \n...           ...  \n2219          NaN  \n2220          NaN  \n2221          NaN  \n2222          NaN  \n2223          NaN  \n\n[2224 rows x 15 columns]",
      "text/html": "<div>\n<style scoped>\n    .dataframe tbody tr th:only-of-type {\n        vertical-align: middle;\n    }\n\n    .dataframe tbody tr th {\n        vertical-align: top;\n    }\n\n    .dataframe thead th {\n        text-align: right;\n    }\n</style>\n<table border=\"1\" class=\"dataframe\">\n  <thead>\n    <tr style=\"text-align: right;\">\n      <th></th>\n      <th>company</th>\n      <th>company_location</th>\n      <th>country_of_bean_origin</th>\n      <th>specific_bean_origin_or_bar_name</th>\n      <th>beans</th>\n      <th>cocoa_butter</th>\n      <th>vanilla</th>\n      <th>lecithin</th>\n      <th>salt</th>\n      <th>sugar</th>\n      <th>sweetener_without_sugar</th>\n      <th>first_taste</th>\n      <th>second_taste</th>\n      <th>third_taste</th>\n      <th>fourth_taste</th>\n    </tr>\n  </thead>\n  <tbody>\n    <tr>\n      <th>0</th>\n      <td>5150</td>\n      <td>U.S.A</td>\n      <td>Madagascar</td>\n      <td>Bejofo Estate, batch 1</td>\n      <td>have_bean</td>\n      <td>have_cocoa_butter</td>\n      <td>have_not_vanila</td>\n      <td>have_not_lecithin</td>\n      <td>have_not_salt</td>\n      <td>have_sugar</td>\n      <td>have_not_sweetener_without_sugar</td>\n      <td>cocoa</td>\n      <td>blackberry</td>\n      <td>full body</td>\n      <td>NaN</td>\n    </tr>\n    <tr>\n      <th>1</th>\n      <td>5150</td>\n      <td>U.S.A</td>\n      <td>Dominican republic</td>\n      <td>Zorzal, batch 1</td>\n      <td>have_bean</td>\n      <td>have_cocoa_butter</td>\n      <td>have_not_vanila</td>\n      <td>have_not_lecithin</td>\n      <td>have_not_salt</td>\n      <td>have_sugar</td>\n      <td>have_not_sweetener_without_sugar</td>\n      <td>cocoa</td>\n      <td>vegetal</td>\n      <td>savory</td>\n      <td>NaN</td>\n    </tr>\n    <tr>\n      <th>2</th>\n      <td>5150</td>\n      <td>U.S.A</td>\n      <td>Tanzania</td>\n      <td>Kokoa Kamili, batch 1</td>\n      <td>have_bean</td>\n      <td>have_cocoa_butter</td>\n      <td>have_not_vanila</td>\n      <td>have_not_lecithin</td>\n      <td>have_not_salt</td>\n      <td>have_sugar</td>\n      <td>have_not_sweetener_without_sugar</td>\n      <td>rich cocoa</td>\n      <td>fatty</td>\n      <td>bready</td>\n      <td>NaN</td>\n    </tr>\n    <tr>\n      <th>3</th>\n      <td>A. Morin</td>\n      <td>France</td>\n      <td>Peru</td>\n      <td>Peru</td>\n      <td>have_bean</td>\n      <td>have_cocoa_butter</td>\n      <td>have_not_vanila</td>\n      <td>have_lecithin</td>\n      <td>have_not_salt</td>\n      <td>have_sugar</td>\n      <td>have_not_sweetener_without_sugar</td>\n      <td>fruity</td>\n      <td>melon</td>\n      <td>roasty</td>\n      <td>NaN</td>\n    </tr>\n    <tr>\n      <th>4</th>\n      <td>A. Morin</td>\n      <td>France</td>\n      <td>Bolivia</td>\n      <td>Bolivia</td>\n      <td>have_bean</td>\n      <td>have_cocoa_butter</td>\n      <td>have_not_vanila</td>\n      <td>have_lecithin</td>\n      <td>have_not_salt</td>\n      <td>have_sugar</td>\n      <td>have_not_sweetener_without_sugar</td>\n      <td>vegetal</td>\n      <td>nutty</td>\n      <td>NaN</td>\n      <td>NaN</td>\n    </tr>\n    <tr>\n      <th>...</th>\n      <td>...</td>\n      <td>...</td>\n      <td>...</td>\n      <td>...</td>\n      <td>...</td>\n      <td>...</td>\n      <td>...</td>\n      <td>...</td>\n      <td>...</td>\n      <td>...</td>\n      <td>...</td>\n      <td>...</td>\n      <td>...</td>\n      <td>...</td>\n      <td>...</td>\n    </tr>\n    <tr>\n      <th>2219</th>\n      <td>Zotter</td>\n      <td>Austria</td>\n      <td>Blend</td>\n      <td>Raw</td>\n      <td>have_bean</td>\n      <td>have_cocoa_butter</td>\n      <td>have_not_vanila</td>\n      <td>have_not_lecithin</td>\n      <td>have_salt</td>\n      <td>have_not_sugar</td>\n      <td>have_sweetener_without_sugar</td>\n      <td>waxy</td>\n      <td>cloying</td>\n      <td>vegetal</td>\n      <td>NaN</td>\n    </tr>\n    <tr>\n      <th>2220</th>\n      <td>Zotter</td>\n      <td>Austria</td>\n      <td>Colombia</td>\n      <td>APROCAFA, Acandi</td>\n      <td>have_bean</td>\n      <td>have_cocoa_butter</td>\n      <td>have_not_vanila</td>\n      <td>have_not_lecithin</td>\n      <td>have_not_salt</td>\n      <td>have_sugar</td>\n      <td>have_not_sweetener_without_sugar</td>\n      <td>strong nutty</td>\n      <td>marshmallow</td>\n      <td>NaN</td>\n      <td>NaN</td>\n    </tr>\n    <tr>\n      <th>2221</th>\n      <td>Zotter</td>\n      <td>Austria</td>\n      <td>Belize</td>\n      <td>Maya Mtn</td>\n      <td>have_bean</td>\n      <td>have_cocoa_butter</td>\n      <td>have_not_vanila</td>\n      <td>have_not_lecithin</td>\n      <td>have_not_salt</td>\n      <td>have_sugar</td>\n      <td>have_not_sweetener_without_sugar</td>\n      <td>muted</td>\n      <td>roasty</td>\n      <td>accessible</td>\n      <td>NaN</td>\n    </tr>\n    <tr>\n      <th>2222</th>\n      <td>Zotter</td>\n      <td>Austria</td>\n      <td>Congo</td>\n      <td>Mountains of the Moon</td>\n      <td>have_bean</td>\n      <td>have_cocoa_butter</td>\n      <td>have_not_vanila</td>\n      <td>have_not_lecithin</td>\n      <td>have_not_salt</td>\n      <td>have_sugar</td>\n      <td>have_not_sweetener_without_sugar</td>\n      <td>fatty</td>\n      <td>mild nuts</td>\n      <td>mild fruit</td>\n      <td>NaN</td>\n    </tr>\n    <tr>\n      <th>2223</th>\n      <td>Zotter</td>\n      <td>Austria</td>\n      <td>Blend</td>\n      <td>Dry Aged, 30 yr Anniversary bar</td>\n      <td>have_bean</td>\n      <td>have_cocoa_butter</td>\n      <td>have_not_vanila</td>\n      <td>have_not_lecithin</td>\n      <td>have_not_salt</td>\n      <td>have_sugar</td>\n      <td>have_not_sweetener_without_sugar</td>\n      <td>fatty</td>\n      <td>earthy</td>\n      <td>cocoa</td>\n      <td>NaN</td>\n    </tr>\n  </tbody>\n</table>\n<p>2224 rows × 15 columns</p>\n</div>"
     },
     "execution_count": 5,
     "metadata": {},
     "output_type": "execute_result"
    }
   ],
   "source": [
    "cat = chocolate.select_dtypes(include=['object']).copy()"
   ],
   "metadata": {
    "collapsed": false,
    "pycharm": {
     "name": "#%%\n"
    }
   }
  },
  {
   "cell_type": "code",
   "execution_count": 11,
   "outputs": [
    {
     "name": "stdout",
     "output_type": "stream",
     "text": [
      "company 502\n",
      "company_location 66\n",
      "country_of_bean_origin 62\n",
      "specific_bean_origin_or_bar_name 1398\n",
      "beans ['have_bean']\n",
      "cocoa_butter ['have_cocoa_butter' 'have_not_cocoa_butter']\n",
      "vanilla ['have_not_vanila' 'have_vanila']\n",
      "lecithin ['have_not_lecithin' 'have_lecithin']\n",
      "salt ['have_not_salt' 'have_salt']\n",
      "sugar ['have_sugar' 'have_not_sugar']\n",
      "sweetener_without_sugar ['have_not_sweetener_without_sugar' 'have_sweetener_without_sugar']\n",
      "first_taste 456\n",
      "second_taste 480\n",
      "third_taste 333\n",
      "fourth_taste 89\n"
     ]
    }
   ],
   "source": [
    "for col in cat.columns:\n",
    "    num = len(cat[col].unique())\n",
    "    if num < 4:\n",
    "        print(col, cat[col].unique())\n",
    "    else:\n",
    "        print(col, num)\n",
    "#chocolate[\"sugar\"].unique()"
   ],
   "metadata": {
    "collapsed": false,
    "pycharm": {
     "name": "#%%\n"
    }
   }
  },
  {
   "cell_type": "markdown",
   "source": [
    "for instance \"sugar\" has only values, so in reality it's a binary data,\n",
    "that we can transform into 1, for sugar and 0 for no sugar.\n",
    "<br>\n",
    "on the other hand \"beans\" have just 1 value, so we can drop that column.\n"
   ],
   "metadata": {
    "collapsed": false,
    "pycharm": {
     "name": "#%% md\n"
    }
   }
  }
 ],
 "metadata": {
  "kernelspec": {
   "display_name": "Python 3",
   "language": "python",
   "name": "python3"
  },
  "language_info": {
   "codemirror_mode": {
    "name": "ipython",
    "version": 2
   },
   "file_extension": ".py",
   "mimetype": "text/x-python",
   "name": "python",
   "nbconvert_exporter": "python",
   "pygments_lexer": "ipython2",
   "version": "2.7.6"
  }
 },
 "nbformat": 4,
 "nbformat_minor": 0
}