{
 "cells": [
  {
   "cell_type": "markdown",
   "metadata": {
    "collapsed": true,
    "pycharm": {
     "name": "#%% md\n"
    }
   },
   "source": [
    "# Introduction\n",
    "in this dataset we have about 2000 entries about different chocolate bars,\n",
    "their manufacturers, the origin of the bean etc...\n",
    "\n",
    "the dataset contains a rating for the quality of the chocolate,\n",
    "\n",
    "## Flavors of Cacao Rating System:\n",
    "- #### Rating Scale:\n",
    "    - 4.0 - 5.0 = Outstanding\n",
    "    - 3.5 - 3.9 = Highly Recommended\n",
    "    - 3.0 - 3.49 = Recommended\n",
    "    - 2.0 - 2.9 = Disappointing\n",
    "    - 1.0 - 1.9 = Unpleasant\n",
    "\n",
    "### About this project\n",
    "in this project we will try to predict the rating of the chocolate,\n",
    "based on  the data we have, and we will conclude what are the factors\n",
    "for the rating and quality of the chocolate,\n",
    "or maybe it is a \"secret\" formula, that we do not have."
   ]
  },
  {
   "cell_type": "code",
   "execution_count": 458,
   "outputs": [],
   "source": [
    "import numpy as np\n",
    "import pandas as pd\n",
    "import seaborn as sn\n",
    "import matplotlib.pyplot as plt\n",
    "from sklearn.linear_model import LogisticRegression\n",
    "from sklearn.model_selection import train_test_split\n",
    "from sklearn.model_selection import cross_val_score\n",
    "from sklearn.model_selection import RandomizedSearchCV\n",
    "from sklearn.metrics import plot_confusion_matrix, confusion_matrix\n",
    "from sklearn.pipeline import Pipeline\n",
    "from sklearn.preprocessing import StandardScaler"
   ],
   "metadata": {
    "collapsed": false,
    "pycharm": {
     "name": "#%%\n"
    }
   }
  },
  {
   "cell_type": "code",
   "execution_count": 459,
   "outputs": [
    {
     "data": {
      "text/plain": "    ref   company company_location  review_date country_of_bean_origin  \\\n0  2454      5150            U.S.A         2019             Madagascar   \n1  2458      5150            U.S.A         2019     Dominican republic   \n2  2454      5150            U.S.A         2019               Tanzania   \n3   797  A. Morin           France         2012                   Peru   \n4   797  A. Morin           France         2012                Bolivia   \n\n  specific_bean_origin_or_bar_name  cocoa_percent  rating  \\\n0           Bejofo Estate, batch 1           76.0    3.75   \n1                  Zorzal, batch 1           76.0    3.50   \n2            Kokoa Kamili, batch 1           76.0    3.25   \n3                             Peru           63.0    3.75   \n4                          Bolivia           70.0    3.50   \n\n   counts_of_ingredients      beans       cocoa_butter          vanilla  \\\n0                      3  have_bean  have_cocoa_butter  have_not_vanila   \n1                      3  have_bean  have_cocoa_butter  have_not_vanila   \n2                      3  have_bean  have_cocoa_butter  have_not_vanila   \n3                      4  have_bean  have_cocoa_butter  have_not_vanila   \n4                      4  have_bean  have_cocoa_butter  have_not_vanila   \n\n            lecithin           salt       sugar  \\\n0  have_not_lecithin  have_not_salt  have_sugar   \n1  have_not_lecithin  have_not_salt  have_sugar   \n2  have_not_lecithin  have_not_salt  have_sugar   \n3      have_lecithin  have_not_salt  have_sugar   \n4      have_lecithin  have_not_salt  have_sugar   \n\n            sweetener_without_sugar first_taste second_taste third_taste  \\\n0  have_not_sweetener_without_sugar       cocoa   blackberry   full body   \n1  have_not_sweetener_without_sugar       cocoa      vegetal      savory   \n2  have_not_sweetener_without_sugar  rich cocoa        fatty      bready   \n3  have_not_sweetener_without_sugar      fruity        melon      roasty   \n4  have_not_sweetener_without_sugar     vegetal        nutty         NaN   \n\n  fourth_taste  \n0          NaN  \n1          NaN  \n2          NaN  \n3          NaN  \n4          NaN  ",
      "text/html": "<div>\n<style scoped>\n    .dataframe tbody tr th:only-of-type {\n        vertical-align: middle;\n    }\n\n    .dataframe tbody tr th {\n        vertical-align: top;\n    }\n\n    .dataframe thead th {\n        text-align: right;\n    }\n</style>\n<table border=\"1\" class=\"dataframe\">\n  <thead>\n    <tr style=\"text-align: right;\">\n      <th></th>\n      <th>ref</th>\n      <th>company</th>\n      <th>company_location</th>\n      <th>review_date</th>\n      <th>country_of_bean_origin</th>\n      <th>specific_bean_origin_or_bar_name</th>\n      <th>cocoa_percent</th>\n      <th>rating</th>\n      <th>counts_of_ingredients</th>\n      <th>beans</th>\n      <th>cocoa_butter</th>\n      <th>vanilla</th>\n      <th>lecithin</th>\n      <th>salt</th>\n      <th>sugar</th>\n      <th>sweetener_without_sugar</th>\n      <th>first_taste</th>\n      <th>second_taste</th>\n      <th>third_taste</th>\n      <th>fourth_taste</th>\n    </tr>\n  </thead>\n  <tbody>\n    <tr>\n      <th>0</th>\n      <td>2454</td>\n      <td>5150</td>\n      <td>U.S.A</td>\n      <td>2019</td>\n      <td>Madagascar</td>\n      <td>Bejofo Estate, batch 1</td>\n      <td>76.0</td>\n      <td>3.75</td>\n      <td>3</td>\n      <td>have_bean</td>\n      <td>have_cocoa_butter</td>\n      <td>have_not_vanila</td>\n      <td>have_not_lecithin</td>\n      <td>have_not_salt</td>\n      <td>have_sugar</td>\n      <td>have_not_sweetener_without_sugar</td>\n      <td>cocoa</td>\n      <td>blackberry</td>\n      <td>full body</td>\n      <td>NaN</td>\n    </tr>\n    <tr>\n      <th>1</th>\n      <td>2458</td>\n      <td>5150</td>\n      <td>U.S.A</td>\n      <td>2019</td>\n      <td>Dominican republic</td>\n      <td>Zorzal, batch 1</td>\n      <td>76.0</td>\n      <td>3.50</td>\n      <td>3</td>\n      <td>have_bean</td>\n      <td>have_cocoa_butter</td>\n      <td>have_not_vanila</td>\n      <td>have_not_lecithin</td>\n      <td>have_not_salt</td>\n      <td>have_sugar</td>\n      <td>have_not_sweetener_without_sugar</td>\n      <td>cocoa</td>\n      <td>vegetal</td>\n      <td>savory</td>\n      <td>NaN</td>\n    </tr>\n    <tr>\n      <th>2</th>\n      <td>2454</td>\n      <td>5150</td>\n      <td>U.S.A</td>\n      <td>2019</td>\n      <td>Tanzania</td>\n      <td>Kokoa Kamili, batch 1</td>\n      <td>76.0</td>\n      <td>3.25</td>\n      <td>3</td>\n      <td>have_bean</td>\n      <td>have_cocoa_butter</td>\n      <td>have_not_vanila</td>\n      <td>have_not_lecithin</td>\n      <td>have_not_salt</td>\n      <td>have_sugar</td>\n      <td>have_not_sweetener_without_sugar</td>\n      <td>rich cocoa</td>\n      <td>fatty</td>\n      <td>bready</td>\n      <td>NaN</td>\n    </tr>\n    <tr>\n      <th>3</th>\n      <td>797</td>\n      <td>A. Morin</td>\n      <td>France</td>\n      <td>2012</td>\n      <td>Peru</td>\n      <td>Peru</td>\n      <td>63.0</td>\n      <td>3.75</td>\n      <td>4</td>\n      <td>have_bean</td>\n      <td>have_cocoa_butter</td>\n      <td>have_not_vanila</td>\n      <td>have_lecithin</td>\n      <td>have_not_salt</td>\n      <td>have_sugar</td>\n      <td>have_not_sweetener_without_sugar</td>\n      <td>fruity</td>\n      <td>melon</td>\n      <td>roasty</td>\n      <td>NaN</td>\n    </tr>\n    <tr>\n      <th>4</th>\n      <td>797</td>\n      <td>A. Morin</td>\n      <td>France</td>\n      <td>2012</td>\n      <td>Bolivia</td>\n      <td>Bolivia</td>\n      <td>70.0</td>\n      <td>3.50</td>\n      <td>4</td>\n      <td>have_bean</td>\n      <td>have_cocoa_butter</td>\n      <td>have_not_vanila</td>\n      <td>have_lecithin</td>\n      <td>have_not_salt</td>\n      <td>have_sugar</td>\n      <td>have_not_sweetener_without_sugar</td>\n      <td>vegetal</td>\n      <td>nutty</td>\n      <td>NaN</td>\n      <td>NaN</td>\n    </tr>\n  </tbody>\n</table>\n</div>"
     },
     "execution_count": 459,
     "metadata": {},
     "output_type": "execute_result"
    }
   ],
   "source": [
    "chocolate = pd.read_csv('data/chocolate.csv')\n",
    "pd.set_option('display.max_columns', None)\n",
    "chocolate = chocolate.iloc[:,1:]\n",
    "chocolate.head()"
   ],
   "metadata": {
    "collapsed": false,
    "pycharm": {
     "name": "#%%\n"
    }
   }
  },
  {
   "cell_type": "code",
   "execution_count": 460,
   "outputs": [
    {
     "name": "stdout",
     "output_type": "stream",
     "text": [
      "<class 'pandas.core.frame.DataFrame'>\n",
      "RangeIndex: 2224 entries, 0 to 2223\n",
      "Data columns (total 20 columns):\n",
      " #   Column                            Non-Null Count  Dtype  \n",
      "---  ------                            --------------  -----  \n",
      " 0   ref                               2224 non-null   int64  \n",
      " 1   company                           2224 non-null   object \n",
      " 2   company_location                  2224 non-null   object \n",
      " 3   review_date                       2224 non-null   int64  \n",
      " 4   country_of_bean_origin            2224 non-null   object \n",
      " 5   specific_bean_origin_or_bar_name  2224 non-null   object \n",
      " 6   cocoa_percent                     2224 non-null   float64\n",
      " 7   rating                            2224 non-null   float64\n",
      " 8   counts_of_ingredients             2224 non-null   int64  \n",
      " 9   beans                             2224 non-null   object \n",
      " 10  cocoa_butter                      2224 non-null   object \n",
      " 11  vanilla                           2224 non-null   object \n",
      " 12  lecithin                          2224 non-null   object \n",
      " 13  salt                              2224 non-null   object \n",
      " 14  sugar                             2224 non-null   object \n",
      " 15  sweetener_without_sugar           2224 non-null   object \n",
      " 16  first_taste                       2224 non-null   object \n",
      " 17  second_taste                      2147 non-null   object \n",
      " 18  third_taste                       1604 non-null   object \n",
      " 19  fourth_taste                      242 non-null    object \n",
      "dtypes: float64(2), int64(3), object(15)\n",
      "memory usage: 347.6+ KB\n"
     ]
    }
   ],
   "source": [
    "chocolate.info()"
   ],
   "metadata": {
    "collapsed": false,
    "pycharm": {
     "name": "#%%\n"
    }
   }
  },
  {
   "cell_type": "markdown",
   "source": [
    "## data insight\n",
    "we can clearly see that there are some null values,\n",
    "but from a quick overview we can notice that \"first_taste, second_taste...\",\n",
    "are all basically a list of all tastes in the chocolate with we will need,\n",
    "to transform anyway into numerical data."
   ],
   "metadata": {
    "collapsed": false,
    "pycharm": {
     "name": "#%% md\n"
    }
   }
  },
  {
   "cell_type": "markdown",
   "source": [
    "# transforming the data for use\n",
    "in this section we will transform all the categories into data that we can use.\n",
    "\n",
    "## Drop unnecessary columns\n",
    "we will drop company, company location, specific_bean_origin..., beans...\n",
    "review date and so one... those values should not effect the quallity of the choclate,\n",
    "well maybe company will but as there is just too much of them, we will drop them."
   ],
   "metadata": {
    "collapsed": false,
    "pycharm": {
     "name": "#%% md\n"
    }
   }
  },
  {
   "cell_type": "code",
   "execution_count": 461,
   "outputs": [
    {
     "data": {
      "text/plain": "     country_of_bean_origin  cocoa_percent  rating  counts_of_ingredients  \\\n0                Madagascar           76.0    3.75                      3   \n1        Dominican republic           76.0    3.50                      3   \n2                  Tanzania           76.0    3.25                      3   \n3                      Peru           63.0    3.75                      4   \n4                   Bolivia           70.0    3.50                      4   \n...                     ...            ...     ...                    ...   \n2219                  Blend           80.0    2.75                      4   \n2220               Colombia           75.0    3.75                      3   \n2221                 Belize           72.0    3.50                      3   \n2222                  Congo           70.0    3.25                      3   \n2223                  Blend           75.0    3.00                      3   \n\n          beans       cocoa_butter          vanilla           lecithin  \\\n0     have_bean  have_cocoa_butter  have_not_vanila  have_not_lecithin   \n1     have_bean  have_cocoa_butter  have_not_vanila  have_not_lecithin   \n2     have_bean  have_cocoa_butter  have_not_vanila  have_not_lecithin   \n3     have_bean  have_cocoa_butter  have_not_vanila      have_lecithin   \n4     have_bean  have_cocoa_butter  have_not_vanila      have_lecithin   \n...         ...                ...              ...                ...   \n2219  have_bean  have_cocoa_butter  have_not_vanila  have_not_lecithin   \n2220  have_bean  have_cocoa_butter  have_not_vanila  have_not_lecithin   \n2221  have_bean  have_cocoa_butter  have_not_vanila  have_not_lecithin   \n2222  have_bean  have_cocoa_butter  have_not_vanila  have_not_lecithin   \n2223  have_bean  have_cocoa_butter  have_not_vanila  have_not_lecithin   \n\n               salt           sugar           sweetener_without_sugar  \\\n0     have_not_salt      have_sugar  have_not_sweetener_without_sugar   \n1     have_not_salt      have_sugar  have_not_sweetener_without_sugar   \n2     have_not_salt      have_sugar  have_not_sweetener_without_sugar   \n3     have_not_salt      have_sugar  have_not_sweetener_without_sugar   \n4     have_not_salt      have_sugar  have_not_sweetener_without_sugar   \n...             ...             ...                               ...   \n2219      have_salt  have_not_sugar      have_sweetener_without_sugar   \n2220  have_not_salt      have_sugar  have_not_sweetener_without_sugar   \n2221  have_not_salt      have_sugar  have_not_sweetener_without_sugar   \n2222  have_not_salt      have_sugar  have_not_sweetener_without_sugar   \n2223  have_not_salt      have_sugar  have_not_sweetener_without_sugar   \n\n       first_taste second_taste third_taste fourth_taste  \n0            cocoa   blackberry   full body          NaN  \n1            cocoa      vegetal      savory          NaN  \n2       rich cocoa        fatty      bready          NaN  \n3           fruity        melon      roasty          NaN  \n4          vegetal        nutty         NaN          NaN  \n...            ...          ...         ...          ...  \n2219          waxy      cloying     vegetal          NaN  \n2220  strong nutty  marshmallow         NaN          NaN  \n2221         muted       roasty  accessible          NaN  \n2222         fatty    mild nuts  mild fruit          NaN  \n2223         fatty       earthy       cocoa          NaN  \n\n[2224 rows x 15 columns]",
      "text/html": "<div>\n<style scoped>\n    .dataframe tbody tr th:only-of-type {\n        vertical-align: middle;\n    }\n\n    .dataframe tbody tr th {\n        vertical-align: top;\n    }\n\n    .dataframe thead th {\n        text-align: right;\n    }\n</style>\n<table border=\"1\" class=\"dataframe\">\n  <thead>\n    <tr style=\"text-align: right;\">\n      <th></th>\n      <th>country_of_bean_origin</th>\n      <th>cocoa_percent</th>\n      <th>rating</th>\n      <th>counts_of_ingredients</th>\n      <th>beans</th>\n      <th>cocoa_butter</th>\n      <th>vanilla</th>\n      <th>lecithin</th>\n      <th>salt</th>\n      <th>sugar</th>\n      <th>sweetener_without_sugar</th>\n      <th>first_taste</th>\n      <th>second_taste</th>\n      <th>third_taste</th>\n      <th>fourth_taste</th>\n    </tr>\n  </thead>\n  <tbody>\n    <tr>\n      <th>0</th>\n      <td>Madagascar</td>\n      <td>76.0</td>\n      <td>3.75</td>\n      <td>3</td>\n      <td>have_bean</td>\n      <td>have_cocoa_butter</td>\n      <td>have_not_vanila</td>\n      <td>have_not_lecithin</td>\n      <td>have_not_salt</td>\n      <td>have_sugar</td>\n      <td>have_not_sweetener_without_sugar</td>\n      <td>cocoa</td>\n      <td>blackberry</td>\n      <td>full body</td>\n      <td>NaN</td>\n    </tr>\n    <tr>\n      <th>1</th>\n      <td>Dominican republic</td>\n      <td>76.0</td>\n      <td>3.50</td>\n      <td>3</td>\n      <td>have_bean</td>\n      <td>have_cocoa_butter</td>\n      <td>have_not_vanila</td>\n      <td>have_not_lecithin</td>\n      <td>have_not_salt</td>\n      <td>have_sugar</td>\n      <td>have_not_sweetener_without_sugar</td>\n      <td>cocoa</td>\n      <td>vegetal</td>\n      <td>savory</td>\n      <td>NaN</td>\n    </tr>\n    <tr>\n      <th>2</th>\n      <td>Tanzania</td>\n      <td>76.0</td>\n      <td>3.25</td>\n      <td>3</td>\n      <td>have_bean</td>\n      <td>have_cocoa_butter</td>\n      <td>have_not_vanila</td>\n      <td>have_not_lecithin</td>\n      <td>have_not_salt</td>\n      <td>have_sugar</td>\n      <td>have_not_sweetener_without_sugar</td>\n      <td>rich cocoa</td>\n      <td>fatty</td>\n      <td>bready</td>\n      <td>NaN</td>\n    </tr>\n    <tr>\n      <th>3</th>\n      <td>Peru</td>\n      <td>63.0</td>\n      <td>3.75</td>\n      <td>4</td>\n      <td>have_bean</td>\n      <td>have_cocoa_butter</td>\n      <td>have_not_vanila</td>\n      <td>have_lecithin</td>\n      <td>have_not_salt</td>\n      <td>have_sugar</td>\n      <td>have_not_sweetener_without_sugar</td>\n      <td>fruity</td>\n      <td>melon</td>\n      <td>roasty</td>\n      <td>NaN</td>\n    </tr>\n    <tr>\n      <th>4</th>\n      <td>Bolivia</td>\n      <td>70.0</td>\n      <td>3.50</td>\n      <td>4</td>\n      <td>have_bean</td>\n      <td>have_cocoa_butter</td>\n      <td>have_not_vanila</td>\n      <td>have_lecithin</td>\n      <td>have_not_salt</td>\n      <td>have_sugar</td>\n      <td>have_not_sweetener_without_sugar</td>\n      <td>vegetal</td>\n      <td>nutty</td>\n      <td>NaN</td>\n      <td>NaN</td>\n    </tr>\n    <tr>\n      <th>...</th>\n      <td>...</td>\n      <td>...</td>\n      <td>...</td>\n      <td>...</td>\n      <td>...</td>\n      <td>...</td>\n      <td>...</td>\n      <td>...</td>\n      <td>...</td>\n      <td>...</td>\n      <td>...</td>\n      <td>...</td>\n      <td>...</td>\n      <td>...</td>\n      <td>...</td>\n    </tr>\n    <tr>\n      <th>2219</th>\n      <td>Blend</td>\n      <td>80.0</td>\n      <td>2.75</td>\n      <td>4</td>\n      <td>have_bean</td>\n      <td>have_cocoa_butter</td>\n      <td>have_not_vanila</td>\n      <td>have_not_lecithin</td>\n      <td>have_salt</td>\n      <td>have_not_sugar</td>\n      <td>have_sweetener_without_sugar</td>\n      <td>waxy</td>\n      <td>cloying</td>\n      <td>vegetal</td>\n      <td>NaN</td>\n    </tr>\n    <tr>\n      <th>2220</th>\n      <td>Colombia</td>\n      <td>75.0</td>\n      <td>3.75</td>\n      <td>3</td>\n      <td>have_bean</td>\n      <td>have_cocoa_butter</td>\n      <td>have_not_vanila</td>\n      <td>have_not_lecithin</td>\n      <td>have_not_salt</td>\n      <td>have_sugar</td>\n      <td>have_not_sweetener_without_sugar</td>\n      <td>strong nutty</td>\n      <td>marshmallow</td>\n      <td>NaN</td>\n      <td>NaN</td>\n    </tr>\n    <tr>\n      <th>2221</th>\n      <td>Belize</td>\n      <td>72.0</td>\n      <td>3.50</td>\n      <td>3</td>\n      <td>have_bean</td>\n      <td>have_cocoa_butter</td>\n      <td>have_not_vanila</td>\n      <td>have_not_lecithin</td>\n      <td>have_not_salt</td>\n      <td>have_sugar</td>\n      <td>have_not_sweetener_without_sugar</td>\n      <td>muted</td>\n      <td>roasty</td>\n      <td>accessible</td>\n      <td>NaN</td>\n    </tr>\n    <tr>\n      <th>2222</th>\n      <td>Congo</td>\n      <td>70.0</td>\n      <td>3.25</td>\n      <td>3</td>\n      <td>have_bean</td>\n      <td>have_cocoa_butter</td>\n      <td>have_not_vanila</td>\n      <td>have_not_lecithin</td>\n      <td>have_not_salt</td>\n      <td>have_sugar</td>\n      <td>have_not_sweetener_without_sugar</td>\n      <td>fatty</td>\n      <td>mild nuts</td>\n      <td>mild fruit</td>\n      <td>NaN</td>\n    </tr>\n    <tr>\n      <th>2223</th>\n      <td>Blend</td>\n      <td>75.0</td>\n      <td>3.00</td>\n      <td>3</td>\n      <td>have_bean</td>\n      <td>have_cocoa_butter</td>\n      <td>have_not_vanila</td>\n      <td>have_not_lecithin</td>\n      <td>have_not_salt</td>\n      <td>have_sugar</td>\n      <td>have_not_sweetener_without_sugar</td>\n      <td>fatty</td>\n      <td>earthy</td>\n      <td>cocoa</td>\n      <td>NaN</td>\n    </tr>\n  </tbody>\n</table>\n<p>2224 rows × 15 columns</p>\n</div>"
     },
     "execution_count": 461,
     "metadata": {},
     "output_type": "execute_result"
    }
   ],
   "source": [
    "dropc = [\"specific_bean_origin_or_bar_name\"]\n",
    "chocolate_n = chocolate.iloc[:,4:]\n",
    "chocolate_n = chocolate_n.drop(dropc, axis = 1)\n",
    "chocolate_n"
   ],
   "metadata": {
    "collapsed": false,
    "pycharm": {
     "name": "#%%\n"
    }
   }
  },
  {
   "cell_type": "markdown",
   "source": [
    "### Look into Object dtypes, that are potential categories."
   ],
   "metadata": {
    "collapsed": false,
    "pycharm": {
     "name": "#%% md\n"
    }
   }
  },
  {
   "cell_type": "code",
   "execution_count": 462,
   "outputs": [
    {
     "name": "stdout",
     "output_type": "stream",
     "text": [
      "country_of_bean_origin 62\n",
      "cocoa_butter ['have_cocoa_butter' 'have_not_cocoa_butter']\n",
      "vanilla ['have_not_vanila' 'have_vanila']\n",
      "lecithin ['have_not_lecithin' 'have_lecithin']\n",
      "salt ['have_not_salt' 'have_salt']\n",
      "sugar ['have_sugar' 'have_not_sugar']\n",
      "sweetener_without_sugar ['have_not_sweetener_without_sugar' 'have_sweetener_without_sugar']\n",
      "first_taste 456\n",
      "second_taste 480\n",
      "third_taste 333\n",
      "fourth_taste 89\n"
     ]
    },
    {
     "data": {
      "text/plain": "     country_of_bean_origin  cocoa_percent  rating  counts_of_ingredients  \\\n0                Madagascar           76.0    3.75                      3   \n1        Dominican republic           76.0    3.50                      3   \n2                  Tanzania           76.0    3.25                      3   \n3                      Peru           63.0    3.75                      4   \n4                   Bolivia           70.0    3.50                      4   \n...                     ...            ...     ...                    ...   \n2219                  Blend           80.0    2.75                      4   \n2220               Colombia           75.0    3.75                      3   \n2221                 Belize           72.0    3.50                      3   \n2222                  Congo           70.0    3.25                      3   \n2223                  Blend           75.0    3.00                      3   \n\n           cocoa_butter          vanilla           lecithin           salt  \\\n0     have_cocoa_butter  have_not_vanila  have_not_lecithin  have_not_salt   \n1     have_cocoa_butter  have_not_vanila  have_not_lecithin  have_not_salt   \n2     have_cocoa_butter  have_not_vanila  have_not_lecithin  have_not_salt   \n3     have_cocoa_butter  have_not_vanila      have_lecithin  have_not_salt   \n4     have_cocoa_butter  have_not_vanila      have_lecithin  have_not_salt   \n...                 ...              ...                ...            ...   \n2219  have_cocoa_butter  have_not_vanila  have_not_lecithin      have_salt   \n2220  have_cocoa_butter  have_not_vanila  have_not_lecithin  have_not_salt   \n2221  have_cocoa_butter  have_not_vanila  have_not_lecithin  have_not_salt   \n2222  have_cocoa_butter  have_not_vanila  have_not_lecithin  have_not_salt   \n2223  have_cocoa_butter  have_not_vanila  have_not_lecithin  have_not_salt   \n\n               sugar           sweetener_without_sugar   first_taste  \\\n0         have_sugar  have_not_sweetener_without_sugar         cocoa   \n1         have_sugar  have_not_sweetener_without_sugar         cocoa   \n2         have_sugar  have_not_sweetener_without_sugar    rich cocoa   \n3         have_sugar  have_not_sweetener_without_sugar        fruity   \n4         have_sugar  have_not_sweetener_without_sugar       vegetal   \n...              ...                               ...           ...   \n2219  have_not_sugar      have_sweetener_without_sugar          waxy   \n2220      have_sugar  have_not_sweetener_without_sugar  strong nutty   \n2221      have_sugar  have_not_sweetener_without_sugar         muted   \n2222      have_sugar  have_not_sweetener_without_sugar         fatty   \n2223      have_sugar  have_not_sweetener_without_sugar         fatty   \n\n     second_taste third_taste fourth_taste  \n0      blackberry   full body          NaN  \n1         vegetal      savory          NaN  \n2           fatty      bready          NaN  \n3           melon      roasty          NaN  \n4           nutty         NaN          NaN  \n...           ...         ...          ...  \n2219      cloying     vegetal          NaN  \n2220  marshmallow         NaN          NaN  \n2221       roasty  accessible          NaN  \n2222    mild nuts  mild fruit          NaN  \n2223       earthy       cocoa          NaN  \n\n[2224 rows x 14 columns]",
      "text/html": "<div>\n<style scoped>\n    .dataframe tbody tr th:only-of-type {\n        vertical-align: middle;\n    }\n\n    .dataframe tbody tr th {\n        vertical-align: top;\n    }\n\n    .dataframe thead th {\n        text-align: right;\n    }\n</style>\n<table border=\"1\" class=\"dataframe\">\n  <thead>\n    <tr style=\"text-align: right;\">\n      <th></th>\n      <th>country_of_bean_origin</th>\n      <th>cocoa_percent</th>\n      <th>rating</th>\n      <th>counts_of_ingredients</th>\n      <th>cocoa_butter</th>\n      <th>vanilla</th>\n      <th>lecithin</th>\n      <th>salt</th>\n      <th>sugar</th>\n      <th>sweetener_without_sugar</th>\n      <th>first_taste</th>\n      <th>second_taste</th>\n      <th>third_taste</th>\n      <th>fourth_taste</th>\n    </tr>\n  </thead>\n  <tbody>\n    <tr>\n      <th>0</th>\n      <td>Madagascar</td>\n      <td>76.0</td>\n      <td>3.75</td>\n      <td>3</td>\n      <td>have_cocoa_butter</td>\n      <td>have_not_vanila</td>\n      <td>have_not_lecithin</td>\n      <td>have_not_salt</td>\n      <td>have_sugar</td>\n      <td>have_not_sweetener_without_sugar</td>\n      <td>cocoa</td>\n      <td>blackberry</td>\n      <td>full body</td>\n      <td>NaN</td>\n    </tr>\n    <tr>\n      <th>1</th>\n      <td>Dominican republic</td>\n      <td>76.0</td>\n      <td>3.50</td>\n      <td>3</td>\n      <td>have_cocoa_butter</td>\n      <td>have_not_vanila</td>\n      <td>have_not_lecithin</td>\n      <td>have_not_salt</td>\n      <td>have_sugar</td>\n      <td>have_not_sweetener_without_sugar</td>\n      <td>cocoa</td>\n      <td>vegetal</td>\n      <td>savory</td>\n      <td>NaN</td>\n    </tr>\n    <tr>\n      <th>2</th>\n      <td>Tanzania</td>\n      <td>76.0</td>\n      <td>3.25</td>\n      <td>3</td>\n      <td>have_cocoa_butter</td>\n      <td>have_not_vanila</td>\n      <td>have_not_lecithin</td>\n      <td>have_not_salt</td>\n      <td>have_sugar</td>\n      <td>have_not_sweetener_without_sugar</td>\n      <td>rich cocoa</td>\n      <td>fatty</td>\n      <td>bready</td>\n      <td>NaN</td>\n    </tr>\n    <tr>\n      <th>3</th>\n      <td>Peru</td>\n      <td>63.0</td>\n      <td>3.75</td>\n      <td>4</td>\n      <td>have_cocoa_butter</td>\n      <td>have_not_vanila</td>\n      <td>have_lecithin</td>\n      <td>have_not_salt</td>\n      <td>have_sugar</td>\n      <td>have_not_sweetener_without_sugar</td>\n      <td>fruity</td>\n      <td>melon</td>\n      <td>roasty</td>\n      <td>NaN</td>\n    </tr>\n    <tr>\n      <th>4</th>\n      <td>Bolivia</td>\n      <td>70.0</td>\n      <td>3.50</td>\n      <td>4</td>\n      <td>have_cocoa_butter</td>\n      <td>have_not_vanila</td>\n      <td>have_lecithin</td>\n      <td>have_not_salt</td>\n      <td>have_sugar</td>\n      <td>have_not_sweetener_without_sugar</td>\n      <td>vegetal</td>\n      <td>nutty</td>\n      <td>NaN</td>\n      <td>NaN</td>\n    </tr>\n    <tr>\n      <th>...</th>\n      <td>...</td>\n      <td>...</td>\n      <td>...</td>\n      <td>...</td>\n      <td>...</td>\n      <td>...</td>\n      <td>...</td>\n      <td>...</td>\n      <td>...</td>\n      <td>...</td>\n      <td>...</td>\n      <td>...</td>\n      <td>...</td>\n      <td>...</td>\n    </tr>\n    <tr>\n      <th>2219</th>\n      <td>Blend</td>\n      <td>80.0</td>\n      <td>2.75</td>\n      <td>4</td>\n      <td>have_cocoa_butter</td>\n      <td>have_not_vanila</td>\n      <td>have_not_lecithin</td>\n      <td>have_salt</td>\n      <td>have_not_sugar</td>\n      <td>have_sweetener_without_sugar</td>\n      <td>waxy</td>\n      <td>cloying</td>\n      <td>vegetal</td>\n      <td>NaN</td>\n    </tr>\n    <tr>\n      <th>2220</th>\n      <td>Colombia</td>\n      <td>75.0</td>\n      <td>3.75</td>\n      <td>3</td>\n      <td>have_cocoa_butter</td>\n      <td>have_not_vanila</td>\n      <td>have_not_lecithin</td>\n      <td>have_not_salt</td>\n      <td>have_sugar</td>\n      <td>have_not_sweetener_without_sugar</td>\n      <td>strong nutty</td>\n      <td>marshmallow</td>\n      <td>NaN</td>\n      <td>NaN</td>\n    </tr>\n    <tr>\n      <th>2221</th>\n      <td>Belize</td>\n      <td>72.0</td>\n      <td>3.50</td>\n      <td>3</td>\n      <td>have_cocoa_butter</td>\n      <td>have_not_vanila</td>\n      <td>have_not_lecithin</td>\n      <td>have_not_salt</td>\n      <td>have_sugar</td>\n      <td>have_not_sweetener_without_sugar</td>\n      <td>muted</td>\n      <td>roasty</td>\n      <td>accessible</td>\n      <td>NaN</td>\n    </tr>\n    <tr>\n      <th>2222</th>\n      <td>Congo</td>\n      <td>70.0</td>\n      <td>3.25</td>\n      <td>3</td>\n      <td>have_cocoa_butter</td>\n      <td>have_not_vanila</td>\n      <td>have_not_lecithin</td>\n      <td>have_not_salt</td>\n      <td>have_sugar</td>\n      <td>have_not_sweetener_without_sugar</td>\n      <td>fatty</td>\n      <td>mild nuts</td>\n      <td>mild fruit</td>\n      <td>NaN</td>\n    </tr>\n    <tr>\n      <th>2223</th>\n      <td>Blend</td>\n      <td>75.0</td>\n      <td>3.00</td>\n      <td>3</td>\n      <td>have_cocoa_butter</td>\n      <td>have_not_vanila</td>\n      <td>have_not_lecithin</td>\n      <td>have_not_salt</td>\n      <td>have_sugar</td>\n      <td>have_not_sweetener_without_sugar</td>\n      <td>fatty</td>\n      <td>earthy</td>\n      <td>cocoa</td>\n      <td>NaN</td>\n    </tr>\n  </tbody>\n</table>\n<p>2224 rows × 14 columns</p>\n</div>"
     },
     "execution_count": 462,
     "metadata": {},
     "output_type": "execute_result"
    }
   ],
   "source": [
    "# select the columns where the dtype is object\n",
    "cat = chocolate_n.select_dtypes(include=['object']).copy()\n",
    "\n",
    "huge = []\n",
    "is_binary = []\n",
    "drop_cols = []\n",
    "for col in cat.columns:\n",
    "    num = len(cat[col].unique())\n",
    "    if num < 4:\n",
    "        if num == 1:\n",
    "            drop_cols.append(col)\n",
    "            continue\n",
    "        elif num == 2:\n",
    "            is_binary.append(col)\n",
    "        else:\n",
    "            huge.append(col)\n",
    "        print(col, cat[col].unique())\n",
    "    else:\n",
    "        huge.append(col)\n",
    "        print(col, num)\n",
    "chocolate_n = chocolate_n.drop(drop_cols, axis=1)\n",
    "chocolate_n\n",
    "#chocolate[\"sugar\"].unique()"
   ],
   "metadata": {
    "collapsed": false,
    "pycharm": {
     "name": "#%%\n"
    }
   }
  },
  {
   "cell_type": "markdown",
   "source": [
    "## First look\n",
    "for instance \"sugar\" has only two values, so it's a boolean value,\n",
    "<br> on the other hand \"beans\" have just 1 value, so we can drop that column."
   ],
   "metadata": {
    "collapsed": false
   }
  },
  {
   "cell_type": "code",
   "execution_count": 463,
   "outputs": [
    {
     "data": {
      "text/plain": "     country_of_bean_origin  cocoa_percent  rating  counts_of_ingredients  \\\n0                Madagascar           76.0    3.75                      3   \n1        Dominican republic           76.0    3.50                      3   \n2                  Tanzania           76.0    3.25                      3   \n3                      Peru           63.0    3.75                      4   \n4                   Bolivia           70.0    3.50                      4   \n...                     ...            ...     ...                    ...   \n2219                  Blend           80.0    2.75                      4   \n2220               Colombia           75.0    3.75                      3   \n2221                 Belize           72.0    3.50                      3   \n2222                  Congo           70.0    3.25                      3   \n2223                  Blend           75.0    3.00                      3   \n\n      cocoa_butter  vanilla  lecithin  salt  sugar  sweetener_without_sugar  \\\n0                1        0         0     0      1                        0   \n1                1        0         0     0      1                        0   \n2                1        0         0     0      1                        0   \n3                1        0         1     0      1                        0   \n4                1        0         1     0      1                        0   \n...            ...      ...       ...   ...    ...                      ...   \n2219             1        0         0     1      0                        1   \n2220             1        0         0     0      1                        0   \n2221             1        0         0     0      1                        0   \n2222             1        0         0     0      1                        0   \n2223             1        0         0     0      1                        0   \n\n       first_taste second_taste third_taste fourth_taste  \n0            cocoa   blackberry   full body          NaN  \n1            cocoa      vegetal      savory          NaN  \n2       rich cocoa        fatty      bready          NaN  \n3           fruity        melon      roasty          NaN  \n4          vegetal        nutty         NaN          NaN  \n...            ...          ...         ...          ...  \n2219          waxy      cloying     vegetal          NaN  \n2220  strong nutty  marshmallow         NaN          NaN  \n2221         muted       roasty  accessible          NaN  \n2222         fatty    mild nuts  mild fruit          NaN  \n2223         fatty       earthy       cocoa          NaN  \n\n[2224 rows x 14 columns]",
      "text/html": "<div>\n<style scoped>\n    .dataframe tbody tr th:only-of-type {\n        vertical-align: middle;\n    }\n\n    .dataframe tbody tr th {\n        vertical-align: top;\n    }\n\n    .dataframe thead th {\n        text-align: right;\n    }\n</style>\n<table border=\"1\" class=\"dataframe\">\n  <thead>\n    <tr style=\"text-align: right;\">\n      <th></th>\n      <th>country_of_bean_origin</th>\n      <th>cocoa_percent</th>\n      <th>rating</th>\n      <th>counts_of_ingredients</th>\n      <th>cocoa_butter</th>\n      <th>vanilla</th>\n      <th>lecithin</th>\n      <th>salt</th>\n      <th>sugar</th>\n      <th>sweetener_without_sugar</th>\n      <th>first_taste</th>\n      <th>second_taste</th>\n      <th>third_taste</th>\n      <th>fourth_taste</th>\n    </tr>\n  </thead>\n  <tbody>\n    <tr>\n      <th>0</th>\n      <td>Madagascar</td>\n      <td>76.0</td>\n      <td>3.75</td>\n      <td>3</td>\n      <td>1</td>\n      <td>0</td>\n      <td>0</td>\n      <td>0</td>\n      <td>1</td>\n      <td>0</td>\n      <td>cocoa</td>\n      <td>blackberry</td>\n      <td>full body</td>\n      <td>NaN</td>\n    </tr>\n    <tr>\n      <th>1</th>\n      <td>Dominican republic</td>\n      <td>76.0</td>\n      <td>3.50</td>\n      <td>3</td>\n      <td>1</td>\n      <td>0</td>\n      <td>0</td>\n      <td>0</td>\n      <td>1</td>\n      <td>0</td>\n      <td>cocoa</td>\n      <td>vegetal</td>\n      <td>savory</td>\n      <td>NaN</td>\n    </tr>\n    <tr>\n      <th>2</th>\n      <td>Tanzania</td>\n      <td>76.0</td>\n      <td>3.25</td>\n      <td>3</td>\n      <td>1</td>\n      <td>0</td>\n      <td>0</td>\n      <td>0</td>\n      <td>1</td>\n      <td>0</td>\n      <td>rich cocoa</td>\n      <td>fatty</td>\n      <td>bready</td>\n      <td>NaN</td>\n    </tr>\n    <tr>\n      <th>3</th>\n      <td>Peru</td>\n      <td>63.0</td>\n      <td>3.75</td>\n      <td>4</td>\n      <td>1</td>\n      <td>0</td>\n      <td>1</td>\n      <td>0</td>\n      <td>1</td>\n      <td>0</td>\n      <td>fruity</td>\n      <td>melon</td>\n      <td>roasty</td>\n      <td>NaN</td>\n    </tr>\n    <tr>\n      <th>4</th>\n      <td>Bolivia</td>\n      <td>70.0</td>\n      <td>3.50</td>\n      <td>4</td>\n      <td>1</td>\n      <td>0</td>\n      <td>1</td>\n      <td>0</td>\n      <td>1</td>\n      <td>0</td>\n      <td>vegetal</td>\n      <td>nutty</td>\n      <td>NaN</td>\n      <td>NaN</td>\n    </tr>\n    <tr>\n      <th>...</th>\n      <td>...</td>\n      <td>...</td>\n      <td>...</td>\n      <td>...</td>\n      <td>...</td>\n      <td>...</td>\n      <td>...</td>\n      <td>...</td>\n      <td>...</td>\n      <td>...</td>\n      <td>...</td>\n      <td>...</td>\n      <td>...</td>\n      <td>...</td>\n    </tr>\n    <tr>\n      <th>2219</th>\n      <td>Blend</td>\n      <td>80.0</td>\n      <td>2.75</td>\n      <td>4</td>\n      <td>1</td>\n      <td>0</td>\n      <td>0</td>\n      <td>1</td>\n      <td>0</td>\n      <td>1</td>\n      <td>waxy</td>\n      <td>cloying</td>\n      <td>vegetal</td>\n      <td>NaN</td>\n    </tr>\n    <tr>\n      <th>2220</th>\n      <td>Colombia</td>\n      <td>75.0</td>\n      <td>3.75</td>\n      <td>3</td>\n      <td>1</td>\n      <td>0</td>\n      <td>0</td>\n      <td>0</td>\n      <td>1</td>\n      <td>0</td>\n      <td>strong nutty</td>\n      <td>marshmallow</td>\n      <td>NaN</td>\n      <td>NaN</td>\n    </tr>\n    <tr>\n      <th>2221</th>\n      <td>Belize</td>\n      <td>72.0</td>\n      <td>3.50</td>\n      <td>3</td>\n      <td>1</td>\n      <td>0</td>\n      <td>0</td>\n      <td>0</td>\n      <td>1</td>\n      <td>0</td>\n      <td>muted</td>\n      <td>roasty</td>\n      <td>accessible</td>\n      <td>NaN</td>\n    </tr>\n    <tr>\n      <th>2222</th>\n      <td>Congo</td>\n      <td>70.0</td>\n      <td>3.25</td>\n      <td>3</td>\n      <td>1</td>\n      <td>0</td>\n      <td>0</td>\n      <td>0</td>\n      <td>1</td>\n      <td>0</td>\n      <td>fatty</td>\n      <td>mild nuts</td>\n      <td>mild fruit</td>\n      <td>NaN</td>\n    </tr>\n    <tr>\n      <th>2223</th>\n      <td>Blend</td>\n      <td>75.0</td>\n      <td>3.00</td>\n      <td>3</td>\n      <td>1</td>\n      <td>0</td>\n      <td>0</td>\n      <td>0</td>\n      <td>1</td>\n      <td>0</td>\n      <td>fatty</td>\n      <td>earthy</td>\n      <td>cocoa</td>\n      <td>NaN</td>\n    </tr>\n  </tbody>\n</table>\n<p>2224 rows × 14 columns</p>\n</div>"
     },
     "execution_count": 463,
     "metadata": {},
     "output_type": "execute_result"
    }
   ],
   "source": [
    "def replace_binary(data_set : pd.DataFrame, cols : []):\n",
    "    data_copy = data_set.copy()\n",
    "    for column in cols:\n",
    "        data_copy[column] = np.where(data_set[column].str.contains(\"_not_\"), 0, 1)\n",
    "    return data_copy\n",
    "\n",
    "chocolate_n2 = replace_binary(chocolate_n, is_binary)\n",
    "chocolate_n2"
   ],
   "metadata": {
    "collapsed": false,
    "pycharm": {
     "name": "#%%\n"
    }
   }
  },
  {
   "cell_type": "markdown",
   "source": [
    "# first approach\n",
    "###  Label Encoding\n",
    "let's use label encoding to encode the tastes, and try to predict the score after that.\n",
    "\n",
    "this approach is quite easy to implement but might work badly,\n",
    "due to the fact that we will \"rank\" some categories by order and there is no way,\n",
    "for instance that \"cocoa\" should be 10 when \"mild fruit\" would be given the value 1.\n",
    "<br>hence it will add x10 weight."
   ],
   "metadata": {
    "collapsed": false,
    "pycharm": {
     "name": "#%% md\n"
    }
   }
  },
  {
   "cell_type": "code",
   "execution_count": 464,
   "outputs": [
    {
     "data": {
      "text/plain": "      country_of_bean_origin  cocoa_percent  rating  counts_of_ingredients  \\\n0                         28           76.0    3.75                      3   \n1                         12           76.0    3.50                      3   \n2                         52           76.0    3.25                      3   \n3                         36           63.0    3.75                      4   \n4                          3           70.0    3.50                      4   \n...                      ...            ...     ...                    ...   \n2219                       2           80.0    2.75                      4   \n2220                       8           75.0    3.75                      3   \n2221                       1           72.0    3.50                      3   \n2222                       9           70.0    3.25                      3   \n2223                       2           75.0    3.00                      3   \n\n      cocoa_butter  vanilla  lecithin  salt  sugar  sweetener_without_sugar  \\\n0                1        0         0     0      1                        0   \n1                1        0         0     0      1                        0   \n2                1        0         0     0      1                        0   \n3                1        0         1     0      1                        0   \n4                1        0         1     0      1                        0   \n...            ...      ...       ...   ...    ...                      ...   \n2219             1        0         0     1      0                        1   \n2220             1        0         0     0      1                        0   \n2221             1        0         0     0      1                        0   \n2222             1        0         0     0      1                        0   \n2223             1        0         0     0      1                        0   \n\n      first_taste  second_taste  third_taste  fourth_taste  \n0              86            27          111            -1  \n1              86           460          256            -1  \n2             319           126           26            -1  \n3             137           222          247            -1  \n4             437           288           -1            -1  \n...           ...           ...          ...           ...  \n2219          446            84          316            -1  \n2220          397           214           -1            -1  \n2221          265           357            0            -1  \n2222          130           255          180            -1  \n2223          130           121           63            -1  \n\n[2224 rows x 14 columns]",
      "text/html": "<div>\n<style scoped>\n    .dataframe tbody tr th:only-of-type {\n        vertical-align: middle;\n    }\n\n    .dataframe tbody tr th {\n        vertical-align: top;\n    }\n\n    .dataframe thead th {\n        text-align: right;\n    }\n</style>\n<table border=\"1\" class=\"dataframe\">\n  <thead>\n    <tr style=\"text-align: right;\">\n      <th></th>\n      <th>country_of_bean_origin</th>\n      <th>cocoa_percent</th>\n      <th>rating</th>\n      <th>counts_of_ingredients</th>\n      <th>cocoa_butter</th>\n      <th>vanilla</th>\n      <th>lecithin</th>\n      <th>salt</th>\n      <th>sugar</th>\n      <th>sweetener_without_sugar</th>\n      <th>first_taste</th>\n      <th>second_taste</th>\n      <th>third_taste</th>\n      <th>fourth_taste</th>\n    </tr>\n  </thead>\n  <tbody>\n    <tr>\n      <th>0</th>\n      <td>28</td>\n      <td>76.0</td>\n      <td>3.75</td>\n      <td>3</td>\n      <td>1</td>\n      <td>0</td>\n      <td>0</td>\n      <td>0</td>\n      <td>1</td>\n      <td>0</td>\n      <td>86</td>\n      <td>27</td>\n      <td>111</td>\n      <td>-1</td>\n    </tr>\n    <tr>\n      <th>1</th>\n      <td>12</td>\n      <td>76.0</td>\n      <td>3.50</td>\n      <td>3</td>\n      <td>1</td>\n      <td>0</td>\n      <td>0</td>\n      <td>0</td>\n      <td>1</td>\n      <td>0</td>\n      <td>86</td>\n      <td>460</td>\n      <td>256</td>\n      <td>-1</td>\n    </tr>\n    <tr>\n      <th>2</th>\n      <td>52</td>\n      <td>76.0</td>\n      <td>3.25</td>\n      <td>3</td>\n      <td>1</td>\n      <td>0</td>\n      <td>0</td>\n      <td>0</td>\n      <td>1</td>\n      <td>0</td>\n      <td>319</td>\n      <td>126</td>\n      <td>26</td>\n      <td>-1</td>\n    </tr>\n    <tr>\n      <th>3</th>\n      <td>36</td>\n      <td>63.0</td>\n      <td>3.75</td>\n      <td>4</td>\n      <td>1</td>\n      <td>0</td>\n      <td>1</td>\n      <td>0</td>\n      <td>1</td>\n      <td>0</td>\n      <td>137</td>\n      <td>222</td>\n      <td>247</td>\n      <td>-1</td>\n    </tr>\n    <tr>\n      <th>4</th>\n      <td>3</td>\n      <td>70.0</td>\n      <td>3.50</td>\n      <td>4</td>\n      <td>1</td>\n      <td>0</td>\n      <td>1</td>\n      <td>0</td>\n      <td>1</td>\n      <td>0</td>\n      <td>437</td>\n      <td>288</td>\n      <td>-1</td>\n      <td>-1</td>\n    </tr>\n    <tr>\n      <th>...</th>\n      <td>...</td>\n      <td>...</td>\n      <td>...</td>\n      <td>...</td>\n      <td>...</td>\n      <td>...</td>\n      <td>...</td>\n      <td>...</td>\n      <td>...</td>\n      <td>...</td>\n      <td>...</td>\n      <td>...</td>\n      <td>...</td>\n      <td>...</td>\n    </tr>\n    <tr>\n      <th>2219</th>\n      <td>2</td>\n      <td>80.0</td>\n      <td>2.75</td>\n      <td>4</td>\n      <td>1</td>\n      <td>0</td>\n      <td>0</td>\n      <td>1</td>\n      <td>0</td>\n      <td>1</td>\n      <td>446</td>\n      <td>84</td>\n      <td>316</td>\n      <td>-1</td>\n    </tr>\n    <tr>\n      <th>2220</th>\n      <td>8</td>\n      <td>75.0</td>\n      <td>3.75</td>\n      <td>3</td>\n      <td>1</td>\n      <td>0</td>\n      <td>0</td>\n      <td>0</td>\n      <td>1</td>\n      <td>0</td>\n      <td>397</td>\n      <td>214</td>\n      <td>-1</td>\n      <td>-1</td>\n    </tr>\n    <tr>\n      <th>2221</th>\n      <td>1</td>\n      <td>72.0</td>\n      <td>3.50</td>\n      <td>3</td>\n      <td>1</td>\n      <td>0</td>\n      <td>0</td>\n      <td>0</td>\n      <td>1</td>\n      <td>0</td>\n      <td>265</td>\n      <td>357</td>\n      <td>0</td>\n      <td>-1</td>\n    </tr>\n    <tr>\n      <th>2222</th>\n      <td>9</td>\n      <td>70.0</td>\n      <td>3.25</td>\n      <td>3</td>\n      <td>1</td>\n      <td>0</td>\n      <td>0</td>\n      <td>0</td>\n      <td>1</td>\n      <td>0</td>\n      <td>130</td>\n      <td>255</td>\n      <td>180</td>\n      <td>-1</td>\n    </tr>\n    <tr>\n      <th>2223</th>\n      <td>2</td>\n      <td>75.0</td>\n      <td>3.00</td>\n      <td>3</td>\n      <td>1</td>\n      <td>0</td>\n      <td>0</td>\n      <td>0</td>\n      <td>1</td>\n      <td>0</td>\n      <td>130</td>\n      <td>121</td>\n      <td>63</td>\n      <td>-1</td>\n    </tr>\n  </tbody>\n</table>\n<p>2224 rows × 14 columns</p>\n</div>"
     },
     "execution_count": 464,
     "metadata": {},
     "output_type": "execute_result"
    }
   ],
   "source": [
    "def label_encode(data_set : pd.DataFrame, columns : []):\n",
    "    data_copy = data_set.copy()\n",
    "    for column in columns:\n",
    "        data_copy[column] = data_copy[column].astype('category')\n",
    "        data_copy[column] = data_copy[column].cat.codes\n",
    "    return data_copy\n",
    "chocolate_cat = label_encode(chocolate_n2, huge)\n",
    "chocolate_cat"
   ],
   "metadata": {
    "collapsed": false,
    "pycharm": {
     "name": "#%%\n"
    }
   }
  },
  {
   "cell_type": "markdown",
   "source": [
    "## Trying few models\n",
    "### preparing the data"
   ],
   "metadata": {
    "collapsed": false,
    "pycharm": {
     "name": "#%% md\n"
    }
   }
  },
  {
   "cell_type": "code",
   "execution_count": 465,
   "outputs": [
    {
     "name": "stdout",
     "output_type": "stream",
     "text": [
      "(1779, 14) (445, 14)\n"
     ]
    }
   ],
   "source": [
    "train_set, test_set = train_test_split(chocolate_cat, test_size = 0.2, random_state = 2)\n",
    "# print( train_set.shape)\n",
    "# print( test_set.shape)\n",
    "\n",
    "def split_x_y(data_set):\n",
    "    return data_set.drop('rating', axis = 1), data_set['rating']\n",
    "\n",
    "x_train, y_train = split_x_y(train_set)\n",
    "x_test, y_test = split_x_y(test_set)\n",
    "print(train_set.shape, test_set.shape)"
   ],
   "metadata": {
    "collapsed": false,
    "pycharm": {
     "name": "#%%\n"
    }
   }
  },
  {
   "cell_type": "markdown",
   "source": [
    "## KNN\n",
    "let's use knn for our first try"
   ],
   "metadata": {
    "collapsed": false,
    "pycharm": {
     "name": "#%% md\n"
    }
   }
  },
  {
   "cell_type": "code",
   "execution_count": 466,
   "outputs": [
    {
     "name": "stdout",
     "output_type": "stream",
     "text": [
      "KNeighborsRegressor(n_neighbors=3)\n",
      "Scores: [0.5158611  0.45784363 0.46132409 0.45754358 0.47781625 0.46253353\n",
      " 0.50016071 0.4723966  0.46928938 0.42753068]\n",
      "Mean: 0.470229954669768\n",
      "Standard deviation: 0.023059324603576885\n",
      "\n",
      "KNeighborsRegressor(n_neighbors=9)\n",
      "Scores: [0.45440806 0.43384781 0.42844363 0.41732532 0.45175    0.43334574\n",
      " 0.46102555 0.44397388 0.44680902 0.38126735]\n",
      "Mean: 0.43521963672249014\n",
      "Standard deviation: 0.021910518194583048\n",
      "\n",
      "KNeighborsRegressor(n_neighbors=15)\n",
      "Scores: [0.44910787 0.41608116 0.4094478  0.41019034 0.43898845 0.43051881\n",
      " 0.45018494 0.4374701  0.43571543 0.38828433]\n",
      "Mean: 0.4265989236206152\n",
      "Standard deviation: 0.018908055844986532\n",
      "\n",
      "KNeighborsRegressor(n_neighbors=21)\n",
      "Scores: [0.45233234 0.41429402 0.40581815 0.40351865 0.43596292 0.42975818\n",
      " 0.443765   0.43676509 0.43294371 0.39120936]\n",
      "Mean: 0.4246367404165433\n",
      "Standard deviation: 0.01878303862173257\n",
      "\n",
      "KNeighborsRegressor(n_neighbors=27)\n",
      "Scores: [0.45142911 0.41165207 0.40502322 0.40031172 0.43549966 0.42796887\n",
      " 0.44236309 0.43472592 0.43343525 0.38957261]\n",
      "Mean: 0.4231981520814907\n",
      "Standard deviation: 0.01922020381445323\n",
      "\n"
     ]
    }
   ],
   "source": [
    "def display_scores(m_scores):\n",
    "    sqrt_scores = np.sqrt(-m_scores)\n",
    "    print(\"Scores:\", sqrt_scores)\n",
    "    print(\"Mean:\", sqrt_scores.mean())\n",
    "    print(\"Standard deviation:\", sqrt_scores.std())\n",
    "\n",
    "from sklearn.neighbors import KNeighborsRegressor\n",
    "\n",
    "x_train_copy = x_train.copy()\n",
    "\n",
    "scalar = StandardScaler()\n",
    "x_train_copy = scalar.fit_transform(x_train_copy)\n",
    "\n",
    "for i in range(3, 30, 6):\n",
    "    model = KNeighborsRegressor(n_neighbors=i)\n",
    "    scores = cross_val_score(model, x_train_copy, y_train, scoring=\"neg_mean_squared_error\", cv = 10)\n",
    "    print(model)\n",
    "    display_scores(scores)\n",
    "    print()"
   ],
   "metadata": {
    "collapsed": false,
    "pycharm": {
     "name": "#%%\n"
    }
   }
  },
  {
   "cell_type": "markdown",
   "source": [
    "### KNN overview\n",
    "Surprisingly even with the \"Bad\" encoding of tastes its looks like KNN performs pretty well.\n",
    "with an average error of -0.18, that actually might be just enough as again,\n",
    "this is an expert rating and well it might be a bit subjective, so 0.18 error is quite low.\n",
    "\n",
    "on the other hand most of our values are between 2.5-4 so 0.2 error might be significant.\n",
    "\n",
    "\n",
    "#### we will try to improve the score later\n",
    "\n",
    "## linear Regression\n",
    "next step lets try the linear regression model"
   ],
   "metadata": {
    "collapsed": false,
    "pycharm": {
     "name": "#%% md\n"
    }
   }
  },
  {
   "cell_type": "code",
   "execution_count": 467,
   "outputs": [
    {
     "name": "stdout",
     "output_type": "stream",
     "text": [
      "Scores: [0.44092177 0.41540094 0.41062824 0.39885982 0.41700179 0.4286739\n",
      " 0.4334701  0.44040698 0.43278802 0.38106429]\n",
      "Mean: 0.4199215859702467\n",
      "Standard deviation: 0.018317160989485017\n"
     ]
    }
   ],
   "source": [
    "from sklearn.linear_model import LinearRegression\n",
    "from sklearn.metrics import mean_squared_error\n",
    "\n",
    "lin_reg = LinearRegression()\n",
    "scores = cross_val_score(lin_reg, x_train_copy, y_train, scoring=\"neg_mean_squared_error\", cv = 10)\n",
    "\n",
    "display_scores(scores)"
   ],
   "metadata": {
    "collapsed": false,
    "pycharm": {
     "name": "#%%\n"
    }
   }
  },
  {
   "cell_type": "markdown",
   "source": [
    "### Linear Regression overview\n",
    "linear regression actually perform a little bit better than the KNN model.\n",
    "with an error of 0.17 that again isn't that bad.\n"
   ],
   "metadata": {
    "collapsed": false,
    "pycharm": {
     "name": "#%% md\n"
    }
   }
  },
  {
   "cell_type": "code",
   "execution_count": 468,
   "outputs": [
    {
     "name": "stdout",
     "output_type": "stream",
     "text": [
      "0.430718973948816 0.18551883451952084\n",
      "[2.97389056 3.13620375 2.98275809 2.98894151 3.18459156 3.07516332\n",
      " 3.17256206 3.28733251 3.20915721 3.17708218]\n"
     ]
    }
   ],
   "source": [
    "lin_reg.fit(x_train_copy, y_train)\n",
    "\n",
    "x_test_copy = scalar.transform(x_test)\n",
    "pred = lin_reg.predict(x_test_copy)\n",
    "\n",
    "lin_mse = mean_squared_error(y_test, pred)\n",
    "lin_rmse = np.sqrt(lin_mse)\n",
    "lin_rmse\n",
    "print(lin_rmse, lin_mse)\n",
    "print(pred[:10])\n",
    "#pred"
   ],
   "metadata": {
    "collapsed": false,
    "pycharm": {
     "name": "#%%\n"
    }
   }
  },
  {
   "cell_type": "code",
   "execution_count": 469,
   "outputs": [
    {
     "data": {
      "text/plain": "0.5043699484939802"
     },
     "execution_count": 469,
     "metadata": {},
     "output_type": "execute_result"
    }
   ],
   "source": [
    "model = KNeighborsRegressor(n_neighbors=10)\n",
    "model.fit(x_train, y_train)\n",
    "\n",
    "pred = model.predict(x_test_copy)\n",
    "\n",
    "lin_mse = mean_squared_error(y_test, pred)\n",
    "lin_rmse = np.sqrt(lin_mse)\n",
    "lin_rmse"
   ],
   "metadata": {
    "collapsed": false,
    "pycharm": {
     "name": "#%%\n"
    }
   }
  },
  {
   "cell_type": "markdown",
   "source": [
    "### Correlation to rating\n",
    "lets take a look at the correlation's we have to \"rating\""
   ],
   "metadata": {
    "collapsed": false,
    "pycharm": {
     "name": "#%% md\n",
     "is_executing": true
    }
   }
  },
  {
   "cell_type": "code",
   "execution_count": 470,
   "outputs": [
    {
     "data": {
      "text/plain": "country_of_bean_origin     0.038539\ncocoa_percent             -0.082468\nrating                     1.000000\ncounts_of_ingredients     -0.083579\ncocoa_butter               0.022779\nvanilla                   -0.158961\nlecithin                  -0.063290\nsalt                      -0.043152\nsugar                      0.099833\nsweetener_without_sugar   -0.096052\nfirst_taste               -0.061379\nsecond_taste              -0.074703\nthird_taste               -0.103739\nfourth_taste              -0.044089\nName: rating, dtype: float64"
     },
     "execution_count": 470,
     "metadata": {},
     "output_type": "execute_result"
    }
   ],
   "source": [
    "train_set.corr()[\"rating\"]"
   ],
   "metadata": {
    "collapsed": false,
    "pycharm": {
     "name": "#%%\n"
    }
   }
  },
  {
   "cell_type": "markdown",
   "source": [
    "we can see that more or less every thing effect the outcome,\n",
    "\n",
    "country of bean origin doesnt have any effect ( expected due to poor choice of encoding )\n",
    "and surprisingly first,second... tastes hae some minor impact,\n",
    "with the negative correlation i the fact that -1 is No taste\n",
    "we can conclude that the less taste's there are in a chocolate the higher the quality is.\n",
    "\n",
    "## Another approach\n",
    "let's take a look at home many \"Values\" there are in country of bean.\n",
    "and binary encode only the top choices for country of origin."
   ],
   "metadata": {
    "collapsed": false
   }
  },
  {
   "cell_type": "code",
   "execution_count": 471,
   "outputs": [
    {
     "data": {
      "text/plain": "Venezuela             238\nPeru                  207\nDominican republic    200\nEcuador               194\nMadagascar            157\nBlend                 140\nNicaragua              92\nBrazil                 74\nBolivia                71\nBelize                 65\nColombia               65\nVietnam                64\nTanzania               63\nGuatemala              53\nPapua new guinea       48\nMexico                 45\nCosta rica             42\nTrinidad               38\nGhana                  32\nU.s.a.                 28\nName: country_of_bean_origin, dtype: int64"
     },
     "execution_count": 471,
     "metadata": {},
     "output_type": "execute_result"
    }
   ],
   "source": [
    "chocolate_n2[\"country_of_bean_origin\"].value_counts().head(20)"
   ],
   "metadata": {
    "collapsed": false,
    "pycharm": {
     "name": "#%%\n"
    }
   }
  },
  {
   "cell_type": "code",
   "execution_count": 472,
   "outputs": [
    {
     "data": {
      "text/plain": "     country_of_bean_origin  cocoa_percent  rating  counts_of_ingredients  \\\n0                Madagascar           76.0    3.75                      3   \n1        Dominican republic           76.0    3.50                      3   \n2                  Tanzania           76.0    3.25                      3   \n3                      Peru           63.0    3.75                      4   \n4                   Bolivia           70.0    3.50                      4   \n...                     ...            ...     ...                    ...   \n2219                  Blend           80.0    2.75                      4   \n2220               Colombia           75.0    3.75                      3   \n2221                 Belize           72.0    3.50                      3   \n2222                  Congo           70.0    3.25                      3   \n2223                  Blend           75.0    3.00                      3   \n\n      cocoa_butter  vanilla  lecithin  salt  sugar  sweetener_without_sugar  \\\n0                1        0         0     0      1                        0   \n1                1        0         0     0      1                        0   \n2                1        0         0     0      1                        0   \n3                1        0         1     0      1                        0   \n4                1        0         1     0      1                        0   \n...            ...      ...       ...   ...    ...                      ...   \n2219             1        0         0     1      0                        1   \n2220             1        0         0     0      1                        0   \n2221             1        0         0     0      1                        0   \n2222             1        0         0     0      1                        0   \n2223             1        0         0     0      1                        0   \n\n       first_taste second_taste third_taste fourth_taste  \n0            cocoa   blackberry   full body          NaN  \n1            cocoa      vegetal      savory          NaN  \n2       rich cocoa        fatty      bready          NaN  \n3           fruity        melon      roasty          NaN  \n4          vegetal        nutty         NaN          NaN  \n...            ...          ...         ...          ...  \n2219          waxy      cloying     vegetal          NaN  \n2220  strong nutty  marshmallow         NaN          NaN  \n2221         muted       roasty  accessible          NaN  \n2222         fatty    mild nuts  mild fruit          NaN  \n2223         fatty       earthy       cocoa          NaN  \n\n[2224 rows x 14 columns]",
      "text/html": "<div>\n<style scoped>\n    .dataframe tbody tr th:only-of-type {\n        vertical-align: middle;\n    }\n\n    .dataframe tbody tr th {\n        vertical-align: top;\n    }\n\n    .dataframe thead th {\n        text-align: right;\n    }\n</style>\n<table border=\"1\" class=\"dataframe\">\n  <thead>\n    <tr style=\"text-align: right;\">\n      <th></th>\n      <th>country_of_bean_origin</th>\n      <th>cocoa_percent</th>\n      <th>rating</th>\n      <th>counts_of_ingredients</th>\n      <th>cocoa_butter</th>\n      <th>vanilla</th>\n      <th>lecithin</th>\n      <th>salt</th>\n      <th>sugar</th>\n      <th>sweetener_without_sugar</th>\n      <th>first_taste</th>\n      <th>second_taste</th>\n      <th>third_taste</th>\n      <th>fourth_taste</th>\n    </tr>\n  </thead>\n  <tbody>\n    <tr>\n      <th>0</th>\n      <td>Madagascar</td>\n      <td>76.0</td>\n      <td>3.75</td>\n      <td>3</td>\n      <td>1</td>\n      <td>0</td>\n      <td>0</td>\n      <td>0</td>\n      <td>1</td>\n      <td>0</td>\n      <td>cocoa</td>\n      <td>blackberry</td>\n      <td>full body</td>\n      <td>NaN</td>\n    </tr>\n    <tr>\n      <th>1</th>\n      <td>Dominican republic</td>\n      <td>76.0</td>\n      <td>3.50</td>\n      <td>3</td>\n      <td>1</td>\n      <td>0</td>\n      <td>0</td>\n      <td>0</td>\n      <td>1</td>\n      <td>0</td>\n      <td>cocoa</td>\n      <td>vegetal</td>\n      <td>savory</td>\n      <td>NaN</td>\n    </tr>\n    <tr>\n      <th>2</th>\n      <td>Tanzania</td>\n      <td>76.0</td>\n      <td>3.25</td>\n      <td>3</td>\n      <td>1</td>\n      <td>0</td>\n      <td>0</td>\n      <td>0</td>\n      <td>1</td>\n      <td>0</td>\n      <td>rich cocoa</td>\n      <td>fatty</td>\n      <td>bready</td>\n      <td>NaN</td>\n    </tr>\n    <tr>\n      <th>3</th>\n      <td>Peru</td>\n      <td>63.0</td>\n      <td>3.75</td>\n      <td>4</td>\n      <td>1</td>\n      <td>0</td>\n      <td>1</td>\n      <td>0</td>\n      <td>1</td>\n      <td>0</td>\n      <td>fruity</td>\n      <td>melon</td>\n      <td>roasty</td>\n      <td>NaN</td>\n    </tr>\n    <tr>\n      <th>4</th>\n      <td>Bolivia</td>\n      <td>70.0</td>\n      <td>3.50</td>\n      <td>4</td>\n      <td>1</td>\n      <td>0</td>\n      <td>1</td>\n      <td>0</td>\n      <td>1</td>\n      <td>0</td>\n      <td>vegetal</td>\n      <td>nutty</td>\n      <td>NaN</td>\n      <td>NaN</td>\n    </tr>\n    <tr>\n      <th>...</th>\n      <td>...</td>\n      <td>...</td>\n      <td>...</td>\n      <td>...</td>\n      <td>...</td>\n      <td>...</td>\n      <td>...</td>\n      <td>...</td>\n      <td>...</td>\n      <td>...</td>\n      <td>...</td>\n      <td>...</td>\n      <td>...</td>\n      <td>...</td>\n    </tr>\n    <tr>\n      <th>2219</th>\n      <td>Blend</td>\n      <td>80.0</td>\n      <td>2.75</td>\n      <td>4</td>\n      <td>1</td>\n      <td>0</td>\n      <td>0</td>\n      <td>1</td>\n      <td>0</td>\n      <td>1</td>\n      <td>waxy</td>\n      <td>cloying</td>\n      <td>vegetal</td>\n      <td>NaN</td>\n    </tr>\n    <tr>\n      <th>2220</th>\n      <td>Colombia</td>\n      <td>75.0</td>\n      <td>3.75</td>\n      <td>3</td>\n      <td>1</td>\n      <td>0</td>\n      <td>0</td>\n      <td>0</td>\n      <td>1</td>\n      <td>0</td>\n      <td>strong nutty</td>\n      <td>marshmallow</td>\n      <td>NaN</td>\n      <td>NaN</td>\n    </tr>\n    <tr>\n      <th>2221</th>\n      <td>Belize</td>\n      <td>72.0</td>\n      <td>3.50</td>\n      <td>3</td>\n      <td>1</td>\n      <td>0</td>\n      <td>0</td>\n      <td>0</td>\n      <td>1</td>\n      <td>0</td>\n      <td>muted</td>\n      <td>roasty</td>\n      <td>accessible</td>\n      <td>NaN</td>\n    </tr>\n    <tr>\n      <th>2222</th>\n      <td>Congo</td>\n      <td>70.0</td>\n      <td>3.25</td>\n      <td>3</td>\n      <td>1</td>\n      <td>0</td>\n      <td>0</td>\n      <td>0</td>\n      <td>1</td>\n      <td>0</td>\n      <td>fatty</td>\n      <td>mild nuts</td>\n      <td>mild fruit</td>\n      <td>NaN</td>\n    </tr>\n    <tr>\n      <th>2223</th>\n      <td>Blend</td>\n      <td>75.0</td>\n      <td>3.00</td>\n      <td>3</td>\n      <td>1</td>\n      <td>0</td>\n      <td>0</td>\n      <td>0</td>\n      <td>1</td>\n      <td>0</td>\n      <td>fatty</td>\n      <td>earthy</td>\n      <td>cocoa</td>\n      <td>NaN</td>\n    </tr>\n  </tbody>\n</table>\n<p>2224 rows × 14 columns</p>\n</div>"
     },
     "execution_count": 472,
     "metadata": {},
     "output_type": "execute_result"
    }
   ],
   "source": [
    "chocolate_n2"
   ],
   "metadata": {
    "collapsed": false,
    "pycharm": {
     "name": "#%%\n"
    }
   }
  },
  {
   "cell_type": "code",
   "execution_count": 473,
   "outputs": [
    {
     "name": "stdout",
     "output_type": "stream",
     "text": [
      "Venezuela 0\n",
      "Peru 1\n",
      "Dominican republic 2\n",
      "Ecuador 3\n",
      "Madagascar 4\n",
      "Blend 5\n",
      "Nicaragua 6\n",
      "Brazil 7\n",
      "Bolivia 8\n",
      "Belize 9\n",
      "Colombia 10\n",
      "Vietnam 11\n",
      "Tanzania 12\n",
      "Guatemala 13\n",
      "Papua new guinea 14\n"
     ]
    },
    {
     "data": {
      "text/plain": "      bean_origin  cocoa_percent  rating  counts_of_ingredients  cocoa_butter  \\\n0               4           76.0    3.75                      3             1   \n1               2           76.0    3.50                      3             1   \n2              12           76.0    3.25                      3             1   \n3               1           63.0    3.75                      4             1   \n4               8           70.0    3.50                      4             1   \n...           ...            ...     ...                    ...           ...   \n2219            5           80.0    2.75                      4             1   \n2220           10           75.0    3.75                      3             1   \n2221            9           72.0    3.50                      3             1   \n2222           15           70.0    3.25                      3             1   \n2223            5           75.0    3.00                      3             1   \n\n      vanilla  lecithin  salt  sugar  sweetener_without_sugar   first_taste  \\\n0           0         0     0      1                        0         cocoa   \n1           0         0     0      1                        0         cocoa   \n2           0         0     0      1                        0    rich cocoa   \n3           0         1     0      1                        0        fruity   \n4           0         1     0      1                        0       vegetal   \n...       ...       ...   ...    ...                      ...           ...   \n2219        0         0     1      0                        1          waxy   \n2220        0         0     0      1                        0  strong nutty   \n2221        0         0     0      1                        0         muted   \n2222        0         0     0      1                        0         fatty   \n2223        0         0     0      1                        0         fatty   \n\n     second_taste third_taste fourth_taste  \n0      blackberry   full body          NaN  \n1         vegetal      savory          NaN  \n2           fatty      bready          NaN  \n3           melon      roasty          NaN  \n4           nutty         NaN          NaN  \n...           ...         ...          ...  \n2219      cloying     vegetal          NaN  \n2220  marshmallow         NaN          NaN  \n2221       roasty  accessible          NaN  \n2222    mild nuts  mild fruit          NaN  \n2223       earthy       cocoa          NaN  \n\n[2224 rows x 14 columns]",
      "text/html": "<div>\n<style scoped>\n    .dataframe tbody tr th:only-of-type {\n        vertical-align: middle;\n    }\n\n    .dataframe tbody tr th {\n        vertical-align: top;\n    }\n\n    .dataframe thead th {\n        text-align: right;\n    }\n</style>\n<table border=\"1\" class=\"dataframe\">\n  <thead>\n    <tr style=\"text-align: right;\">\n      <th></th>\n      <th>bean_origin</th>\n      <th>cocoa_percent</th>\n      <th>rating</th>\n      <th>counts_of_ingredients</th>\n      <th>cocoa_butter</th>\n      <th>vanilla</th>\n      <th>lecithin</th>\n      <th>salt</th>\n      <th>sugar</th>\n      <th>sweetener_without_sugar</th>\n      <th>first_taste</th>\n      <th>second_taste</th>\n      <th>third_taste</th>\n      <th>fourth_taste</th>\n    </tr>\n  </thead>\n  <tbody>\n    <tr>\n      <th>0</th>\n      <td>4</td>\n      <td>76.0</td>\n      <td>3.75</td>\n      <td>3</td>\n      <td>1</td>\n      <td>0</td>\n      <td>0</td>\n      <td>0</td>\n      <td>1</td>\n      <td>0</td>\n      <td>cocoa</td>\n      <td>blackberry</td>\n      <td>full body</td>\n      <td>NaN</td>\n    </tr>\n    <tr>\n      <th>1</th>\n      <td>2</td>\n      <td>76.0</td>\n      <td>3.50</td>\n      <td>3</td>\n      <td>1</td>\n      <td>0</td>\n      <td>0</td>\n      <td>0</td>\n      <td>1</td>\n      <td>0</td>\n      <td>cocoa</td>\n      <td>vegetal</td>\n      <td>savory</td>\n      <td>NaN</td>\n    </tr>\n    <tr>\n      <th>2</th>\n      <td>12</td>\n      <td>76.0</td>\n      <td>3.25</td>\n      <td>3</td>\n      <td>1</td>\n      <td>0</td>\n      <td>0</td>\n      <td>0</td>\n      <td>1</td>\n      <td>0</td>\n      <td>rich cocoa</td>\n      <td>fatty</td>\n      <td>bready</td>\n      <td>NaN</td>\n    </tr>\n    <tr>\n      <th>3</th>\n      <td>1</td>\n      <td>63.0</td>\n      <td>3.75</td>\n      <td>4</td>\n      <td>1</td>\n      <td>0</td>\n      <td>1</td>\n      <td>0</td>\n      <td>1</td>\n      <td>0</td>\n      <td>fruity</td>\n      <td>melon</td>\n      <td>roasty</td>\n      <td>NaN</td>\n    </tr>\n    <tr>\n      <th>4</th>\n      <td>8</td>\n      <td>70.0</td>\n      <td>3.50</td>\n      <td>4</td>\n      <td>1</td>\n      <td>0</td>\n      <td>1</td>\n      <td>0</td>\n      <td>1</td>\n      <td>0</td>\n      <td>vegetal</td>\n      <td>nutty</td>\n      <td>NaN</td>\n      <td>NaN</td>\n    </tr>\n    <tr>\n      <th>...</th>\n      <td>...</td>\n      <td>...</td>\n      <td>...</td>\n      <td>...</td>\n      <td>...</td>\n      <td>...</td>\n      <td>...</td>\n      <td>...</td>\n      <td>...</td>\n      <td>...</td>\n      <td>...</td>\n      <td>...</td>\n      <td>...</td>\n      <td>...</td>\n    </tr>\n    <tr>\n      <th>2219</th>\n      <td>5</td>\n      <td>80.0</td>\n      <td>2.75</td>\n      <td>4</td>\n      <td>1</td>\n      <td>0</td>\n      <td>0</td>\n      <td>1</td>\n      <td>0</td>\n      <td>1</td>\n      <td>waxy</td>\n      <td>cloying</td>\n      <td>vegetal</td>\n      <td>NaN</td>\n    </tr>\n    <tr>\n      <th>2220</th>\n      <td>10</td>\n      <td>75.0</td>\n      <td>3.75</td>\n      <td>3</td>\n      <td>1</td>\n      <td>0</td>\n      <td>0</td>\n      <td>0</td>\n      <td>1</td>\n      <td>0</td>\n      <td>strong nutty</td>\n      <td>marshmallow</td>\n      <td>NaN</td>\n      <td>NaN</td>\n    </tr>\n    <tr>\n      <th>2221</th>\n      <td>9</td>\n      <td>72.0</td>\n      <td>3.50</td>\n      <td>3</td>\n      <td>1</td>\n      <td>0</td>\n      <td>0</td>\n      <td>0</td>\n      <td>1</td>\n      <td>0</td>\n      <td>muted</td>\n      <td>roasty</td>\n      <td>accessible</td>\n      <td>NaN</td>\n    </tr>\n    <tr>\n      <th>2222</th>\n      <td>15</td>\n      <td>70.0</td>\n      <td>3.25</td>\n      <td>3</td>\n      <td>1</td>\n      <td>0</td>\n      <td>0</td>\n      <td>0</td>\n      <td>1</td>\n      <td>0</td>\n      <td>fatty</td>\n      <td>mild nuts</td>\n      <td>mild fruit</td>\n      <td>NaN</td>\n    </tr>\n    <tr>\n      <th>2223</th>\n      <td>5</td>\n      <td>75.0</td>\n      <td>3.00</td>\n      <td>3</td>\n      <td>1</td>\n      <td>0</td>\n      <td>0</td>\n      <td>0</td>\n      <td>1</td>\n      <td>0</td>\n      <td>fatty</td>\n      <td>earthy</td>\n      <td>cocoa</td>\n      <td>NaN</td>\n    </tr>\n  </tbody>\n</table>\n<p>2224 rows × 14 columns</p>\n</div>"
     },
     "execution_count": 473,
     "metadata": {},
     "output_type": "execute_result"
    }
   ],
   "source": [
    "def replace_names(data_set : pd.DataFrame, column : str, top_n = 15):\n",
    "    value_map = {}\n",
    "    data_copy = data_set.copy()\n",
    "    index_val = 0\n",
    "    for name in data_set[column].value_counts().index:\n",
    "        val = data_set[column].value_counts()[name]\n",
    "        #print(name, val)\n",
    "        if index_val < top_n:\n",
    "            print(name, index_val)\n",
    "            value_map[name] = index_val\n",
    "        else:\n",
    "            #print(name, top_n)\n",
    "            value_map[name] = top_n\n",
    "        index_val += 1\n",
    "    data_copy[column] = data_copy[column].replace(value_map)\n",
    "    return data_copy, value_map\n",
    "\n",
    "\n",
    "#chocolate_n2[\"country_of_bean_origin\"].value_counts().index\n",
    "chocolate_n3 = replace_names(chocolate_n2, \"country_of_bean_origin\")[0]\n",
    "chocolate_n3 = chocolate_n3.rename(columns={\"country_of_bean_origin\" : \"bean_origin\"})\n",
    "chocolate_n3"
   ],
   "metadata": {
    "collapsed": false,
    "pycharm": {
     "name": "#%%\n"
    }
   }
  },
  {
   "cell_type": "code",
   "execution_count": 474,
   "outputs": [
    {
     "name": "stderr",
     "output_type": "stream",
     "text": [
      "f:\\python\\projects\\pythonnotebooks\\venv\\lib\\site-packages\\category_encoders\\utils.py:21: FutureWarning: is_categorical is deprecated and will be removed in a future version.  Use is_categorical_dtype instead\n",
      "  elif pd.api.types.is_categorical(cols):\n"
     ]
    },
    {
     "data": {
      "text/plain": "      bean_origin_0  bean_origin_1  bean_origin_2  bean_origin_3  \\\n0                 0              0              0              0   \n1                 0              0              0              1   \n2                 0              0              0              1   \n3                 0              0              1              0   \n4                 0              0              1              0   \n...             ...            ...            ...            ...   \n2219              0              1              1              1   \n2220              0              1              0              1   \n2221              0              1              1              1   \n2222              0              1              0              1   \n2223              0              1              1              1   \n\n      bean_origin_4  cocoa_percent  rating  counts_of_ingredients  \\\n0                 1           76.0    3.75                      3   \n1                 0           76.0    3.50                      3   \n2                 1           76.0    3.25                      3   \n3                 0           63.0    3.75                      4   \n4                 1           70.0    3.50                      4   \n...             ...            ...     ...                    ...   \n2219              1           80.0    2.75                      4   \n2220              1           75.0    3.75                      3   \n2221              0           72.0    3.50                      3   \n2222              0           70.0    3.25                      3   \n2223              1           75.0    3.00                      3   \n\n      cocoa_butter  vanilla  lecithin  salt  sugar  sweetener_without_sugar  \\\n0                1        0         0     0      1                        0   \n1                1        0         0     0      1                        0   \n2                1        0         0     0      1                        0   \n3                1        0         1     0      1                        0   \n4                1        0         1     0      1                        0   \n...            ...      ...       ...   ...    ...                      ...   \n2219             1        0         0     1      0                        1   \n2220             1        0         0     0      1                        0   \n2221             1        0         0     0      1                        0   \n2222             1        0         0     0      1                        0   \n2223             1        0         0     0      1                        0   \n\n       first_taste second_taste third_taste fourth_taste  \n0            cocoa   blackberry   full body          NaN  \n1            cocoa      vegetal      savory          NaN  \n2       rich cocoa        fatty      bready          NaN  \n3           fruity        melon      roasty          NaN  \n4          vegetal        nutty         NaN          NaN  \n...            ...          ...         ...          ...  \n2219          waxy      cloying     vegetal          NaN  \n2220  strong nutty  marshmallow         NaN          NaN  \n2221         muted       roasty  accessible          NaN  \n2222         fatty    mild nuts  mild fruit          NaN  \n2223         fatty       earthy       cocoa          NaN  \n\n[2224 rows x 18 columns]",
      "text/html": "<div>\n<style scoped>\n    .dataframe tbody tr th:only-of-type {\n        vertical-align: middle;\n    }\n\n    .dataframe tbody tr th {\n        vertical-align: top;\n    }\n\n    .dataframe thead th {\n        text-align: right;\n    }\n</style>\n<table border=\"1\" class=\"dataframe\">\n  <thead>\n    <tr style=\"text-align: right;\">\n      <th></th>\n      <th>bean_origin_0</th>\n      <th>bean_origin_1</th>\n      <th>bean_origin_2</th>\n      <th>bean_origin_3</th>\n      <th>bean_origin_4</th>\n      <th>cocoa_percent</th>\n      <th>rating</th>\n      <th>counts_of_ingredients</th>\n      <th>cocoa_butter</th>\n      <th>vanilla</th>\n      <th>lecithin</th>\n      <th>salt</th>\n      <th>sugar</th>\n      <th>sweetener_without_sugar</th>\n      <th>first_taste</th>\n      <th>second_taste</th>\n      <th>third_taste</th>\n      <th>fourth_taste</th>\n    </tr>\n  </thead>\n  <tbody>\n    <tr>\n      <th>0</th>\n      <td>0</td>\n      <td>0</td>\n      <td>0</td>\n      <td>0</td>\n      <td>1</td>\n      <td>76.0</td>\n      <td>3.75</td>\n      <td>3</td>\n      <td>1</td>\n      <td>0</td>\n      <td>0</td>\n      <td>0</td>\n      <td>1</td>\n      <td>0</td>\n      <td>cocoa</td>\n      <td>blackberry</td>\n      <td>full body</td>\n      <td>NaN</td>\n    </tr>\n    <tr>\n      <th>1</th>\n      <td>0</td>\n      <td>0</td>\n      <td>0</td>\n      <td>1</td>\n      <td>0</td>\n      <td>76.0</td>\n      <td>3.50</td>\n      <td>3</td>\n      <td>1</td>\n      <td>0</td>\n      <td>0</td>\n      <td>0</td>\n      <td>1</td>\n      <td>0</td>\n      <td>cocoa</td>\n      <td>vegetal</td>\n      <td>savory</td>\n      <td>NaN</td>\n    </tr>\n    <tr>\n      <th>2</th>\n      <td>0</td>\n      <td>0</td>\n      <td>0</td>\n      <td>1</td>\n      <td>1</td>\n      <td>76.0</td>\n      <td>3.25</td>\n      <td>3</td>\n      <td>1</td>\n      <td>0</td>\n      <td>0</td>\n      <td>0</td>\n      <td>1</td>\n      <td>0</td>\n      <td>rich cocoa</td>\n      <td>fatty</td>\n      <td>bready</td>\n      <td>NaN</td>\n    </tr>\n    <tr>\n      <th>3</th>\n      <td>0</td>\n      <td>0</td>\n      <td>1</td>\n      <td>0</td>\n      <td>0</td>\n      <td>63.0</td>\n      <td>3.75</td>\n      <td>4</td>\n      <td>1</td>\n      <td>0</td>\n      <td>1</td>\n      <td>0</td>\n      <td>1</td>\n      <td>0</td>\n      <td>fruity</td>\n      <td>melon</td>\n      <td>roasty</td>\n      <td>NaN</td>\n    </tr>\n    <tr>\n      <th>4</th>\n      <td>0</td>\n      <td>0</td>\n      <td>1</td>\n      <td>0</td>\n      <td>1</td>\n      <td>70.0</td>\n      <td>3.50</td>\n      <td>4</td>\n      <td>1</td>\n      <td>0</td>\n      <td>1</td>\n      <td>0</td>\n      <td>1</td>\n      <td>0</td>\n      <td>vegetal</td>\n      <td>nutty</td>\n      <td>NaN</td>\n      <td>NaN</td>\n    </tr>\n    <tr>\n      <th>...</th>\n      <td>...</td>\n      <td>...</td>\n      <td>...</td>\n      <td>...</td>\n      <td>...</td>\n      <td>...</td>\n      <td>...</td>\n      <td>...</td>\n      <td>...</td>\n      <td>...</td>\n      <td>...</td>\n      <td>...</td>\n      <td>...</td>\n      <td>...</td>\n      <td>...</td>\n      <td>...</td>\n      <td>...</td>\n      <td>...</td>\n    </tr>\n    <tr>\n      <th>2219</th>\n      <td>0</td>\n      <td>1</td>\n      <td>1</td>\n      <td>1</td>\n      <td>1</td>\n      <td>80.0</td>\n      <td>2.75</td>\n      <td>4</td>\n      <td>1</td>\n      <td>0</td>\n      <td>0</td>\n      <td>1</td>\n      <td>0</td>\n      <td>1</td>\n      <td>waxy</td>\n      <td>cloying</td>\n      <td>vegetal</td>\n      <td>NaN</td>\n    </tr>\n    <tr>\n      <th>2220</th>\n      <td>0</td>\n      <td>1</td>\n      <td>0</td>\n      <td>1</td>\n      <td>1</td>\n      <td>75.0</td>\n      <td>3.75</td>\n      <td>3</td>\n      <td>1</td>\n      <td>0</td>\n      <td>0</td>\n      <td>0</td>\n      <td>1</td>\n      <td>0</td>\n      <td>strong nutty</td>\n      <td>marshmallow</td>\n      <td>NaN</td>\n      <td>NaN</td>\n    </tr>\n    <tr>\n      <th>2221</th>\n      <td>0</td>\n      <td>1</td>\n      <td>1</td>\n      <td>1</td>\n      <td>0</td>\n      <td>72.0</td>\n      <td>3.50</td>\n      <td>3</td>\n      <td>1</td>\n      <td>0</td>\n      <td>0</td>\n      <td>0</td>\n      <td>1</td>\n      <td>0</td>\n      <td>muted</td>\n      <td>roasty</td>\n      <td>accessible</td>\n      <td>NaN</td>\n    </tr>\n    <tr>\n      <th>2222</th>\n      <td>0</td>\n      <td>1</td>\n      <td>0</td>\n      <td>1</td>\n      <td>0</td>\n      <td>70.0</td>\n      <td>3.25</td>\n      <td>3</td>\n      <td>1</td>\n      <td>0</td>\n      <td>0</td>\n      <td>0</td>\n      <td>1</td>\n      <td>0</td>\n      <td>fatty</td>\n      <td>mild nuts</td>\n      <td>mild fruit</td>\n      <td>NaN</td>\n    </tr>\n    <tr>\n      <th>2223</th>\n      <td>0</td>\n      <td>1</td>\n      <td>1</td>\n      <td>1</td>\n      <td>1</td>\n      <td>75.0</td>\n      <td>3.00</td>\n      <td>3</td>\n      <td>1</td>\n      <td>0</td>\n      <td>0</td>\n      <td>0</td>\n      <td>1</td>\n      <td>0</td>\n      <td>fatty</td>\n      <td>earthy</td>\n      <td>cocoa</td>\n      <td>NaN</td>\n    </tr>\n  </tbody>\n</table>\n<p>2224 rows × 18 columns</p>\n</div>"
     },
     "execution_count": 474,
     "metadata": {},
     "output_type": "execute_result"
    }
   ],
   "source": [
    "import category_encoders as ce\n",
    "\n",
    "encoder = ce.BinaryEncoder(cols=['bean_origin'])\n",
    "df_binary = encoder.fit_transform(chocolate_n3)\n",
    "\n",
    "df_binary"
   ],
   "metadata": {
    "collapsed": false,
    "pycharm": {
     "name": "#%%\n"
    }
   }
  },
  {
   "cell_type": "markdown",
   "source": [
    "## let's take a look at how well this approach performes\n",
    "but we will drop the taste columns for now."
   ],
   "metadata": {
    "collapsed": false,
    "pycharm": {
     "name": "#%% md\n"
    }
   }
  },
  {
   "cell_type": "code",
   "execution_count": 491,
   "outputs": [],
   "source": [
    "# function for easy comparing two data sets performances.\n",
    "def run_test(data_set, name :str, test_model):\n",
    "    print()\n",
    "    print(test_model)\n",
    "    print(name)\n",
    "    train_set_r, test_set_r = train_test_split(data_set, test_size = 0.2, random_state = 2)\n",
    "    x_train_r, y_train_r = split_x_y(train_set_r)\n",
    "\n",
    "    scalar_r = StandardScaler()\n",
    "    x_train_copy_r = scalar_r.fit_transform(x_train_r)\n",
    "\n",
    "    scores_r = cross_val_score(test_model, x_train_copy_r, y_train_r, scoring=\"neg_mean_squared_error\", cv = 10)\n",
    "\n",
    "    display_scores(scores_r)\n",
    "\n",
    "    train_set_r2, test_set_r2 = train_test_split(train_set_r, test_size = 0.1, random_state = 2)\n",
    "    x_train_r2, y_train_r2 = split_x_y(train_set_r2)\n",
    "    x_test_r2, y_test_r2 = split_x_y(test_set_r2)\n",
    "\n",
    "    x_train_copy_r2 = scalar_r.fit_transform(x_train_r2)\n",
    "    test_model.fit(x_train_copy_r2, y_train_r2)\n",
    "    x_test_r2_copy = scalar_r.transform(x_test_r2)\n",
    "    pred_lin = test_model.predict(x_test_r2_copy)\n",
    "    print(pred_lin[:10])\n",
    "    print(list(y_test_r2[:10]))\n",
    "    print(\"original mean : \", y_test_r2.mean(), \"original std:\", y_test_r2.std())\n",
    "    print(\"predicted mean : \", pred_lin.mean(), \"predicted std:\", pred_lin.std())"
   ],
   "metadata": {
    "collapsed": false,
    "pycharm": {
     "name": "#%%\n"
    }
   }
  },
  {
   "cell_type": "code",
   "execution_count": 492,
   "outputs": [
    {
     "name": "stdout",
     "output_type": "stream",
     "text": [
      "\n",
      "LinearRegression()\n",
      "test binary encoding\n",
      "Scores: [0.4445332  0.42453713 0.41445475 0.40282278 0.42194185 0.42386839\n",
      " 0.44024029 0.44091397 0.42978971 0.39638413]\n",
      "Mean: 0.423948620266262\n",
      "Standard deviation: 0.015204277477613201\n",
      "[3.27503926 3.15785176 2.83271748 3.28578144 3.19239765 3.28810078\n",
      " 3.20643574 3.20729023 3.10060078 3.28578144]\n",
      "[3.0, 3.25, 3.0, 3.0, 3.75, 3.5, 4.0, 3.5, 3.5, 3.25]\n",
      "original mean :  3.1980337078651684 original std: 0.4165150806593712\n",
      "predicted mean :  3.209007445746225 predicted std: 0.10450094663238171\n",
      "\n",
      "LinearRegression()\n",
      "test without origin\n",
      "Scores: [0.44386937 0.42342922 0.41372851 0.40215668 0.42306793 0.42691484\n",
      " 0.44227604 0.44061876 0.43012784 0.38867406]\n",
      "Mean: 0.42348632420423254\n",
      "Standard deviation: 0.016970996870033766\n",
      "[3.24651736 3.1986658  2.84908694 3.28313846 3.18743533 3.22454471\n",
      " 3.24651736 3.13421268 3.08880252 3.28313846]\n",
      "[3.0, 3.25, 3.0, 3.0, 3.75, 3.5, 4.0, 3.5, 3.5, 3.25]\n",
      "original mean :  3.1980337078651684 original std: 0.4165150806593712\n",
      "predicted mean :  3.210292656516994 predicted std: 0.1003071058529714\n",
      "\n",
      "LinearRegression()\n",
      "test cat encoding\n",
      "Scores: [0.44284836 0.42413866 0.4141898  0.40019794 0.42406628 0.42941967\n",
      " 0.43975287 0.44025972 0.42962598 0.38991769]\n",
      "Mean: 0.4234416981217223\n",
      "Standard deviation: 0.016583440828087787\n",
      "[3.22476977 3.17789477 2.83571642 3.30020922 3.17679613 3.22660082\n",
      " 3.23551195 3.14603442 3.11234301 3.30020922]\n",
      "[3.0, 3.25, 3.0, 3.0, 3.75, 3.5, 4.0, 3.5, 3.5, 3.25]\n",
      "original mean :  3.1980337078651684 original std: 0.4165150806593712\n",
      "predicted mean :  3.2108225480807393 predicted std: 0.1012159232218701\n",
      "\n",
      "LinearRegression()\n",
      "test cat encoding\n",
      "Scores: [0.44092177 0.41540094 0.41062824 0.39885982 0.41700179 0.4286739\n",
      " 0.4334701  0.44040698 0.43278802 0.38106429]\n",
      "Mean: 0.4199215859702467\n",
      "Standard deviation: 0.018317160989485017\n",
      "[3.25619145 3.11357763 2.85399349 3.315351   3.13602287 3.17686425\n",
      " 3.33373301 3.10932092 3.14602521 3.28330545]\n",
      "[3.0, 3.25, 3.0, 3.0, 3.75, 3.5, 4.0, 3.5, 3.5, 3.25]\n",
      "original mean :  3.1980337078651684 original std: 0.4165150806593712\n",
      "predicted mean :  3.2133369048956832 predicted std: 0.11758394383956086\n",
      "\n",
      "----- KNN : 50 ----\n",
      "\n",
      "KNeighborsRegressor(n_neighbors=50)\n",
      "test binary encoding\n",
      "Scores: [0.44539121 0.40816354 0.40488733 0.40124078 0.42891048 0.41590652\n",
      " 0.44344353 0.44292554 0.43369954 0.38987438]\n",
      "Mean: 0.4214442838027642\n",
      "Standard deviation: 0.01900215675006358\n",
      "[3.27  3.16  2.995 3.415 3.18  3.29  3.225 3.195 3.03  3.415]\n",
      "[3.0, 3.25, 3.0, 3.0, 3.75, 3.5, 4.0, 3.5, 3.5, 3.25]\n",
      "original mean :  3.1980337078651684 original std: 0.4165150806593712\n",
      "predicted mean :  3.221842696629214 predicted std: 0.11739091507030176\n",
      "\n",
      "KNeighborsRegressor(n_neighbors=50)\n",
      "test without origin\n",
      "Scores: [0.44294041 0.41362928 0.40067972 0.39265321 0.42589364 0.42789152\n",
      " 0.44599812 0.4400841  0.43010075 0.39027569]\n",
      "Mean: 0.4210146458158528\n",
      "Standard deviation: 0.01959468754273026\n",
      "[3.33  3.125 2.94  3.29  3.1   3.365 3.33  3.05  3.23  3.29 ]\n",
      "[3.0, 3.25, 3.0, 3.0, 3.75, 3.5, 4.0, 3.5, 3.5, 3.25]\n",
      "original mean :  3.1980337078651684 original std: 0.4165150806593712\n",
      "predicted mean :  3.2296629213483152 predicted std: 0.10978348904944778\n",
      "\n",
      "KNeighborsRegressor(n_neighbors=50)\n",
      "test cat encoding\n",
      "Scores: [0.44629606 0.409997   0.40213788 0.40026721 0.43068526 0.41983109\n",
      " 0.44897333 0.4391121  0.42975887 0.38862513]\n",
      "Mean: 0.4215683924651149\n",
      "Standard deviation: 0.019682301636436632\n",
      "[3.24  3.13  2.945 3.36  3.16  3.295 3.295 3.02  3.17  3.36 ]\n",
      "[3.0, 3.25, 3.0, 3.0, 3.75, 3.5, 4.0, 3.5, 3.5, 3.25]\n",
      "original mean :  3.1980337078651684 original std: 0.4165150806593712\n",
      "predicted mean :  3.2322865168539323 predicted std: 0.11202448537629062\n",
      "\n",
      "KNeighborsRegressor(n_neighbors=50)\n",
      "test cat encoding\n",
      "Scores: [0.45292938 0.40648861 0.39647244 0.39873959 0.42571924 0.4214783\n",
      " 0.43681939 0.44074345 0.43390771 0.3863612 ]\n",
      "Mean: 0.419965932184017\n",
      "Standard deviation: 0.020845891330716623\n",
      "[3.345 3.205 2.96  3.34  3.205 3.095 3.315 3.01  3.17  3.27 ]\n",
      "[3.0, 3.25, 3.0, 3.0, 3.75, 3.5, 4.0, 3.5, 3.5, 3.25]\n",
      "original mean :  3.1980337078651684 original std: 0.4165150806593712\n",
      "predicted mean :  3.2228707865168538 predicted std: 0.10680787192956784\n"
     ]
    }
   ],
   "source": [
    "lin_reg = LinearRegression()\n",
    "\n",
    "df_binary_nl = df_binary.iloc[:,:-4]\n",
    "run_test(df_binary_nl, \"test binary encoding\", lin_reg)\n",
    "\n",
    "df_binary_nl = df_binary_nl.iloc[:,5:]\n",
    "run_test(df_binary_nl, \"test without origin\", lin_reg)\n",
    "\n",
    "chocolate_cat_r = chocolate_cat.iloc[:,:-4]\n",
    "run_test(chocolate_cat_r, \"test cat encoding\", lin_reg)\n",
    "\n",
    "run_test(chocolate_cat, \"test cat encoding\", lin_reg)\n",
    "\n",
    "####\n",
    "print()\n",
    "print(\"----- KNN : 50 ----\")\n",
    "\n",
    "knn_model = KNeighborsRegressor(n_neighbors=50)\n",
    "\n",
    "df_binary_nl = df_binary.iloc[:,:-4]\n",
    "run_test(df_binary_nl, \"test binary encoding\", knn_model)\n",
    "\n",
    "df_binary_nl = df_binary_nl.iloc[:,5:]\n",
    "run_test(df_binary_nl, \"test without origin\", knn_model)\n",
    "\n",
    "chocolate_cat_r = chocolate_cat.iloc[:,:-4]\n",
    "run_test(chocolate_cat_r, \"test cat encoding\", knn_model)\n",
    "\n",
    "run_test(chocolate_cat, \"test cat encoding\", knn_model)"
   ],
   "metadata": {
    "collapsed": false,
    "pycharm": {
     "name": "#%%\n"
    }
   }
  },
  {
   "cell_type": "markdown",
   "source": [
    "## well we can see that out model just \"learned\" the mean.\n",
    "and just +- randomly throws values in any direction.\n",
    "\n",
    "\n",
    "Well we can see that this approach has actually failed to produce any value.\n",
    "\n",
    "in fact it even worse then the cat encoding.\n",
    "\n",
    "another approach we can do!\n",
    "<br> lets swap country names and use one_hot_encoding."
   ],
   "metadata": {
    "collapsed": false,
    "pycharm": {
     "name": "#%% md\n"
    }
   }
  },
  {
   "cell_type": "code",
   "execution_count": 477,
   "outputs": [
    {
     "name": "stdout",
     "output_type": "stream",
     "text": [
      "Grenada [12.11666666, -61.66666666]\n"
     ]
    }
   ],
   "source": [
    "country_name = \"Grenada\"\n",
    "from countryinfo import CountryInfo\n",
    "\n",
    "country = CountryInfo(country_name)\n",
    "country.region()\n",
    "country.subregion()\n",
    "def name_to_loc(country_name : str):\n",
    "    return CountryInfo(country_name).latlng()\n",
    "\n",
    "print(country_name ,name_to_loc(country_name))\n",
    "#print(pc.country_name_to_country_alpha3(country_name))"
   ],
   "metadata": {
    "collapsed": false,
    "pycharm": {
     "name": "#%%\n"
    }
   }
  },
  {
   "cell_type": "code",
   "execution_count": 478,
   "outputs": [
    {
     "name": "stdout",
     "output_type": "stream",
     "text": [
      "Americas    1545\n",
      "Africa       449\n",
      "Asia         139\n",
      "Oceania       91\n",
      "Name: country_of_bean_origin, dtype: int64\n"
     ]
    },
    {
     "data": {
      "text/plain": "     country_of_bean_origin  cocoa_percent  rating  counts_of_ingredients  \\\n0                    Africa           76.0    3.75                      3   \n1                  Americas           76.0    3.50                      3   \n2                    Africa           76.0    3.25                      3   \n3                  Americas           63.0    3.75                      4   \n4                  Americas           70.0    3.50                      4   \n...                     ...            ...     ...                    ...   \n2219                 Africa           80.0    2.75                      4   \n2220               Americas           75.0    3.75                      3   \n2221               Americas           72.0    3.50                      3   \n2222                 Africa           70.0    3.25                      3   \n2223                 Africa           75.0    3.00                      3   \n\n      cocoa_butter  vanilla  lecithin  salt  sugar  sweetener_without_sugar  \\\n0                1        0         0     0      1                        0   \n1                1        0         0     0      1                        0   \n2                1        0         0     0      1                        0   \n3                1        0         1     0      1                        0   \n4                1        0         1     0      1                        0   \n...            ...      ...       ...   ...    ...                      ...   \n2219             1        0         0     1      0                        1   \n2220             1        0         0     0      1                        0   \n2221             1        0         0     0      1                        0   \n2222             1        0         0     0      1                        0   \n2223             1        0         0     0      1                        0   \n\n     sub_country_of_bean_origin  \n0                Eastern Africa  \n1                     Caribbean  \n2                Eastern Africa  \n3                 South America  \n4                 South America  \n...                         ...  \n2219             Eastern Africa  \n2220              South America  \n2221            Central America  \n2222              Middle Africa  \n2223             Eastern Africa  \n\n[2224 rows x 11 columns]",
      "text/html": "<div>\n<style scoped>\n    .dataframe tbody tr th:only-of-type {\n        vertical-align: middle;\n    }\n\n    .dataframe tbody tr th {\n        vertical-align: top;\n    }\n\n    .dataframe thead th {\n        text-align: right;\n    }\n</style>\n<table border=\"1\" class=\"dataframe\">\n  <thead>\n    <tr style=\"text-align: right;\">\n      <th></th>\n      <th>country_of_bean_origin</th>\n      <th>cocoa_percent</th>\n      <th>rating</th>\n      <th>counts_of_ingredients</th>\n      <th>cocoa_butter</th>\n      <th>vanilla</th>\n      <th>lecithin</th>\n      <th>salt</th>\n      <th>sugar</th>\n      <th>sweetener_without_sugar</th>\n      <th>sub_country_of_bean_origin</th>\n    </tr>\n  </thead>\n  <tbody>\n    <tr>\n      <th>0</th>\n      <td>Africa</td>\n      <td>76.0</td>\n      <td>3.75</td>\n      <td>3</td>\n      <td>1</td>\n      <td>0</td>\n      <td>0</td>\n      <td>0</td>\n      <td>1</td>\n      <td>0</td>\n      <td>Eastern Africa</td>\n    </tr>\n    <tr>\n      <th>1</th>\n      <td>Americas</td>\n      <td>76.0</td>\n      <td>3.50</td>\n      <td>3</td>\n      <td>1</td>\n      <td>0</td>\n      <td>0</td>\n      <td>0</td>\n      <td>1</td>\n      <td>0</td>\n      <td>Caribbean</td>\n    </tr>\n    <tr>\n      <th>2</th>\n      <td>Africa</td>\n      <td>76.0</td>\n      <td>3.25</td>\n      <td>3</td>\n      <td>1</td>\n      <td>0</td>\n      <td>0</td>\n      <td>0</td>\n      <td>1</td>\n      <td>0</td>\n      <td>Eastern Africa</td>\n    </tr>\n    <tr>\n      <th>3</th>\n      <td>Americas</td>\n      <td>63.0</td>\n      <td>3.75</td>\n      <td>4</td>\n      <td>1</td>\n      <td>0</td>\n      <td>1</td>\n      <td>0</td>\n      <td>1</td>\n      <td>0</td>\n      <td>South America</td>\n    </tr>\n    <tr>\n      <th>4</th>\n      <td>Americas</td>\n      <td>70.0</td>\n      <td>3.50</td>\n      <td>4</td>\n      <td>1</td>\n      <td>0</td>\n      <td>1</td>\n      <td>0</td>\n      <td>1</td>\n      <td>0</td>\n      <td>South America</td>\n    </tr>\n    <tr>\n      <th>...</th>\n      <td>...</td>\n      <td>...</td>\n      <td>...</td>\n      <td>...</td>\n      <td>...</td>\n      <td>...</td>\n      <td>...</td>\n      <td>...</td>\n      <td>...</td>\n      <td>...</td>\n      <td>...</td>\n    </tr>\n    <tr>\n      <th>2219</th>\n      <td>Africa</td>\n      <td>80.0</td>\n      <td>2.75</td>\n      <td>4</td>\n      <td>1</td>\n      <td>0</td>\n      <td>0</td>\n      <td>1</td>\n      <td>0</td>\n      <td>1</td>\n      <td>Eastern Africa</td>\n    </tr>\n    <tr>\n      <th>2220</th>\n      <td>Americas</td>\n      <td>75.0</td>\n      <td>3.75</td>\n      <td>3</td>\n      <td>1</td>\n      <td>0</td>\n      <td>0</td>\n      <td>0</td>\n      <td>1</td>\n      <td>0</td>\n      <td>South America</td>\n    </tr>\n    <tr>\n      <th>2221</th>\n      <td>Americas</td>\n      <td>72.0</td>\n      <td>3.50</td>\n      <td>3</td>\n      <td>1</td>\n      <td>0</td>\n      <td>0</td>\n      <td>0</td>\n      <td>1</td>\n      <td>0</td>\n      <td>Central America</td>\n    </tr>\n    <tr>\n      <th>2222</th>\n      <td>Africa</td>\n      <td>70.0</td>\n      <td>3.25</td>\n      <td>3</td>\n      <td>1</td>\n      <td>0</td>\n      <td>0</td>\n      <td>0</td>\n      <td>1</td>\n      <td>0</td>\n      <td>Middle Africa</td>\n    </tr>\n    <tr>\n      <th>2223</th>\n      <td>Africa</td>\n      <td>75.0</td>\n      <td>3.00</td>\n      <td>3</td>\n      <td>1</td>\n      <td>0</td>\n      <td>0</td>\n      <td>0</td>\n      <td>1</td>\n      <td>0</td>\n      <td>Eastern Africa</td>\n    </tr>\n  </tbody>\n</table>\n<p>2224 rows × 11 columns</p>\n</div>"
     },
     "execution_count": 478,
     "metadata": {},
     "output_type": "execute_result"
    }
   ],
   "source": [
    "from sklearn.base import BaseEstimator, TransformerMixin\n",
    "\n",
    "country_name_fix = {\n",
    "    \"Blend\" : \"Tanzania\",\n",
    "    \"Trinidad\" : \"Trinidad and Tobago\",\n",
    "    \"U.s.a.\" : \"USA\",\n",
    "    \"Sao tome\" : \"São Tomé and Príncipe\",\n",
    "    \"Congo\" : \"Democratic Republic of the Congo\",\n",
    "    \"St. lucia\" : \"Saint Lucia\",\n",
    "    \"Sao tome & principe\" : \"São Tomé and Príncipe\",\n",
    "    \"Sumatra\" : \"Indonesia\",\n",
    "    \"Tobago\" : \"Trinidad and Tobago\",\n",
    "    \"Bolvia\" : \"Bolivia\",\n",
    "    \"Principe\" : \"São Tomé and Príncipe\",\n",
    "    \"Sulawesi\" : \"Indonesia\",\n",
    "    \"St.vincent-grenadines\" : \"Saint Vincent and the Grenadines\",\n",
    "    \"Burma\" : \"India\", # for somereason it doesn't know this name\n",
    "}\n",
    "\n",
    "class RegionTransformer(BaseEstimator, TransformerMixin):\n",
    "    def __init__(self, column : str, prefix : str = \"\", log = False):\n",
    "        self.log = log\n",
    "        self.name_map = {}\n",
    "        self.unique = {}\n",
    "        self.column = column\n",
    "        self.prefix = prefix\n",
    "        self.name_map_sub = {}\n",
    "    def fit(self, x):\n",
    "        r_set, self.name_map, self.name_map_sub, self.unique \\\n",
    "            = replace_country_name_to_continent(x, self.column, self.prefix, self.log)\n",
    "        return self\n",
    "    def transform(self, x):\n",
    "        df_copy : pd.DataFrame = x.copy()\n",
    "        for original_name in df_copy[self.column].value_counts().index:\n",
    "            name = original_name\n",
    "            if name in country_name_fix:\n",
    "                name = country_name_fix[name]\n",
    "            country_if = CountryInfo(name)\n",
    "            region_n = country_if.region()\n",
    "            sub_region_n = country_if.subregion()\n",
    "            if region_n in self.unique:\n",
    "                self.name_map[original_name] = region_n\n",
    "                self.name_map_sub[original_name] = sub_region_n\n",
    "                continue\n",
    "            else:\n",
    "                self.name_map[original_name] = \"other\"\n",
    "                self.name_map_sub[original_name] = \"other\"\n",
    "        df_copy[self.column] = df_copy[self.column].replace(self.name_map)\n",
    "        df_copy[\"sub_\" + self.column] = x[self.column].replace(self.name_map_sub)\n",
    "        return df_copy\n",
    "\n",
    "def replace_country_name_to_continent(df_data : pd.DataFrame, column : str, prefix : str, log = False):\n",
    "    name_map = {}\n",
    "    name_map_sub = {}\n",
    "    unique = {}\n",
    "    df_copy = df_data.copy()\n",
    "    for original_name in df_data[column].value_counts().index:\n",
    "        name = original_name\n",
    "        if name in country_name_fix:\n",
    "            name = country_name_fix[name]\n",
    "        country_if = CountryInfo(name)\n",
    "        region_n = country_if.region()\n",
    "        sub_region_n = country_if.subregion()\n",
    "        name_map[original_name] = region_n\n",
    "        name_map_sub[original_name] = sub_region_n\n",
    "        if region_n in unique:\n",
    "            unique[region_n] += 1\n",
    "        else:\n",
    "            unique[region_n] = 1\n",
    "    # for region, freq in unique.items():\n",
    "    #     print(region, freq)\n",
    "    df_copy[column] = df_data[column].replace(name_map)\n",
    "    df_copy[\"sub_\" + column] = df_data[column].replace(name_map_sub)\n",
    "    if log:\n",
    "        print(df_copy[column].value_counts())\n",
    "    return df_copy, name_map, name_map_sub, unique\n",
    "        #print(name, country_if.region(), country_if.subregion())\n",
    "\n",
    "region_t = RegionTransformer(\"country_of_bean_origin\", prefix=\"\", log=True)\n",
    "chocolate_no_taste = chocolate_n2.iloc[:,:-4]\n",
    "chocolate_no_taste = region_t.fit_transform(chocolate_no_taste)\n",
    "chocolate_no_taste"
   ],
   "metadata": {
    "collapsed": false,
    "pycharm": {
     "name": "#%%\n"
    }
   }
  },
  {
   "cell_type": "markdown",
   "source": [
    "next lets leave in sub_region only the top 3 values."
   ],
   "metadata": {
    "collapsed": false,
    "pycharm": {
     "name": "#%% md\n"
    }
   }
  },
  {
   "cell_type": "code",
   "execution_count": 479,
   "outputs": [
    {
     "name": "stdout",
     "output_type": "stream",
     "text": [
      "South America 0\n",
      "Eastern Africa 1\n",
      "Central America 2\n",
      "Americas 0\n",
      "Africa 1\n"
     ]
    },
    {
     "data": {
      "text/plain": "      country_of_bean_origin  cocoa_percent  rating  counts_of_ingredients  \\\n0                          1           76.0    3.75                      3   \n1                          0           76.0    3.50                      3   \n2                          1           76.0    3.25                      3   \n3                          0           63.0    3.75                      4   \n4                          0           70.0    3.50                      4   \n...                      ...            ...     ...                    ...   \n2219                       1           80.0    2.75                      4   \n2220                       0           75.0    3.75                      3   \n2221                       0           72.0    3.50                      3   \n2222                       1           70.0    3.25                      3   \n2223                       1           75.0    3.00                      3   \n\n      cocoa_butter  vanilla  lecithin  salt  sugar  sweetener_without_sugar  \\\n0                1        0         0     0      1                        0   \n1                1        0         0     0      1                        0   \n2                1        0         0     0      1                        0   \n3                1        0         1     0      1                        0   \n4                1        0         1     0      1                        0   \n...            ...      ...       ...   ...    ...                      ...   \n2219             1        0         0     1      0                        1   \n2220             1        0         0     0      1                        0   \n2221             1        0         0     0      1                        0   \n2222             1        0         0     0      1                        0   \n2223             1        0         0     0      1                        0   \n\n      sub_country_of_bean_origin  \n0                              1  \n1                              3  \n2                              1  \n3                              0  \n4                              0  \n...                          ...  \n2219                           1  \n2220                           0  \n2221                           2  \n2222                           3  \n2223                           1  \n\n[2224 rows x 11 columns]",
      "text/html": "<div>\n<style scoped>\n    .dataframe tbody tr th:only-of-type {\n        vertical-align: middle;\n    }\n\n    .dataframe tbody tr th {\n        vertical-align: top;\n    }\n\n    .dataframe thead th {\n        text-align: right;\n    }\n</style>\n<table border=\"1\" class=\"dataframe\">\n  <thead>\n    <tr style=\"text-align: right;\">\n      <th></th>\n      <th>country_of_bean_origin</th>\n      <th>cocoa_percent</th>\n      <th>rating</th>\n      <th>counts_of_ingredients</th>\n      <th>cocoa_butter</th>\n      <th>vanilla</th>\n      <th>lecithin</th>\n      <th>salt</th>\n      <th>sugar</th>\n      <th>sweetener_without_sugar</th>\n      <th>sub_country_of_bean_origin</th>\n    </tr>\n  </thead>\n  <tbody>\n    <tr>\n      <th>0</th>\n      <td>1</td>\n      <td>76.0</td>\n      <td>3.75</td>\n      <td>3</td>\n      <td>1</td>\n      <td>0</td>\n      <td>0</td>\n      <td>0</td>\n      <td>1</td>\n      <td>0</td>\n      <td>1</td>\n    </tr>\n    <tr>\n      <th>1</th>\n      <td>0</td>\n      <td>76.0</td>\n      <td>3.50</td>\n      <td>3</td>\n      <td>1</td>\n      <td>0</td>\n      <td>0</td>\n      <td>0</td>\n      <td>1</td>\n      <td>0</td>\n      <td>3</td>\n    </tr>\n    <tr>\n      <th>2</th>\n      <td>1</td>\n      <td>76.0</td>\n      <td>3.25</td>\n      <td>3</td>\n      <td>1</td>\n      <td>0</td>\n      <td>0</td>\n      <td>0</td>\n      <td>1</td>\n      <td>0</td>\n      <td>1</td>\n    </tr>\n    <tr>\n      <th>3</th>\n      <td>0</td>\n      <td>63.0</td>\n      <td>3.75</td>\n      <td>4</td>\n      <td>1</td>\n      <td>0</td>\n      <td>1</td>\n      <td>0</td>\n      <td>1</td>\n      <td>0</td>\n      <td>0</td>\n    </tr>\n    <tr>\n      <th>4</th>\n      <td>0</td>\n      <td>70.0</td>\n      <td>3.50</td>\n      <td>4</td>\n      <td>1</td>\n      <td>0</td>\n      <td>1</td>\n      <td>0</td>\n      <td>1</td>\n      <td>0</td>\n      <td>0</td>\n    </tr>\n    <tr>\n      <th>...</th>\n      <td>...</td>\n      <td>...</td>\n      <td>...</td>\n      <td>...</td>\n      <td>...</td>\n      <td>...</td>\n      <td>...</td>\n      <td>...</td>\n      <td>...</td>\n      <td>...</td>\n      <td>...</td>\n    </tr>\n    <tr>\n      <th>2219</th>\n      <td>1</td>\n      <td>80.0</td>\n      <td>2.75</td>\n      <td>4</td>\n      <td>1</td>\n      <td>0</td>\n      <td>0</td>\n      <td>1</td>\n      <td>0</td>\n      <td>1</td>\n      <td>1</td>\n    </tr>\n    <tr>\n      <th>2220</th>\n      <td>0</td>\n      <td>75.0</td>\n      <td>3.75</td>\n      <td>3</td>\n      <td>1</td>\n      <td>0</td>\n      <td>0</td>\n      <td>0</td>\n      <td>1</td>\n      <td>0</td>\n      <td>0</td>\n    </tr>\n    <tr>\n      <th>2221</th>\n      <td>0</td>\n      <td>72.0</td>\n      <td>3.50</td>\n      <td>3</td>\n      <td>1</td>\n      <td>0</td>\n      <td>0</td>\n      <td>0</td>\n      <td>1</td>\n      <td>0</td>\n      <td>2</td>\n    </tr>\n    <tr>\n      <th>2222</th>\n      <td>1</td>\n      <td>70.0</td>\n      <td>3.25</td>\n      <td>3</td>\n      <td>1</td>\n      <td>0</td>\n      <td>0</td>\n      <td>0</td>\n      <td>1</td>\n      <td>0</td>\n      <td>3</td>\n    </tr>\n    <tr>\n      <th>2223</th>\n      <td>1</td>\n      <td>75.0</td>\n      <td>3.00</td>\n      <td>3</td>\n      <td>1</td>\n      <td>0</td>\n      <td>0</td>\n      <td>0</td>\n      <td>1</td>\n      <td>0</td>\n      <td>1</td>\n    </tr>\n  </tbody>\n</table>\n<p>2224 rows × 11 columns</p>\n</div>"
     },
     "execution_count": 479,
     "metadata": {},
     "output_type": "execute_result"
    }
   ],
   "source": [
    "class TopXsub(BaseEstimator, TransformerMixin):\n",
    "    def __init__(self, column : str, top : int):\n",
    "        self.top = top\n",
    "        self.column = column\n",
    "        self.value_map = {}\n",
    "    def fit(self, x):\n",
    "        data_copy, self.value_map = replace_names(x, self.column, self.top)\n",
    "        return self\n",
    "    def transform(self, x):\n",
    "        data_copy = x.copy()\n",
    "        for name in x[self.column].value_counts().index:\n",
    "            if name in self.value_map:\n",
    "                continue\n",
    "            else:\n",
    "                self.value_map[name] = self.top\n",
    "        data_copy[self.column] = data_copy[self.column].replace(self.value_map)\n",
    "        return data_copy\n",
    "\n",
    "top3 = TopXsub(\"sub_country_of_bean_origin\", 3)\n",
    "chocolate_no_taste2 = top3.fit_transform(chocolate_no_taste)\n",
    "top3_region = TopXsub(\"country_of_bean_origin\", 2)\n",
    "chocolate_no_taste2 = top3_region.fit_transform(chocolate_no_taste2)\n",
    "chocolate_no_taste2"
   ],
   "metadata": {
    "collapsed": false,
    "pycharm": {
     "name": "#%%\n"
    }
   }
  },
  {
   "cell_type": "code",
   "execution_count": 480,
   "outputs": [
    {
     "name": "stdout",
     "output_type": "stream",
     "text": [
      "0    1545\n",
      "1     449\n",
      "2     230\n",
      "Name: country_of_bean_origin, dtype: int64\n"
     ]
    },
    {
     "data": {
      "text/plain": "0    851\n3    669\n1    370\n2    334\nName: sub_country_of_bean_origin, dtype: int64"
     },
     "execution_count": 480,
     "metadata": {},
     "output_type": "execute_result"
    }
   ],
   "source": [
    "print(chocolate_no_taste2[\"country_of_bean_origin\"].value_counts())\n",
    "chocolate_no_taste2[\"sub_country_of_bean_origin\"].value_counts()\n",
    "#chocolate_no_taste = replace_country_name_to_continent(chocolate_no_taste, \"country_of_bean_origin\", \"origin_\")[0]\n",
    "#chocolate_no_taste"
   ],
   "metadata": {
    "collapsed": false,
    "pycharm": {
     "name": "#%%\n"
    }
   }
  },
  {
   "cell_type": "markdown",
   "source": [
    "## outlook\n",
    "we can see that instead of having 100+ categories, now we are down to 13\n",
    "with each having a good amounth of entries.\n",
    "\n",
    "except for maybe\n",
    "Australia and New Zealand      3\n",
    "Polynesia                      3\n",
    "Eastern Asia                   2\n",
    "\n",
    "with we can always swap to being\n",
    "\n",
    "## new Correlations\n",
    "lets take a look at the correlations now"
   ],
   "metadata": {
    "collapsed": false,
    "pycharm": {
     "name": "#%% md\n"
    }
   }
  },
  {
   "cell_type": "code",
   "execution_count": 481,
   "outputs": [
    {
     "data": {
      "text/plain": "country_of_bean_origin       -0.022021\ncocoa_percent                -0.078508\nrating                        1.000000\ncounts_of_ingredients        -0.094850\ncocoa_butter                  0.012224\nvanilla                      -0.164881\nlecithin                     -0.070179\nsalt                         -0.051381\nsugar                         0.092216\nsweetener_without_sugar      -0.087438\nsub_country_of_bean_origin   -0.025640\nName: rating, dtype: float64"
     },
     "execution_count": 481,
     "metadata": {},
     "output_type": "execute_result"
    }
   ],
   "source": [
    "chocolate_no_taste2.corr()[\"rating\"]"
   ],
   "metadata": {
    "collapsed": false,
    "pycharm": {
     "name": "#%%\n"
    }
   }
  },
  {
   "cell_type": "code",
   "execution_count": 482,
   "outputs": [
    {
     "data": {
      "text/plain": "country_of_bean_origin     0.025628\ncocoa_percent             -0.078508\nrating                     1.000000\ncounts_of_ingredients     -0.094850\ncocoa_butter               0.012224\nvanilla                   -0.164881\nlecithin                  -0.070179\nsalt                      -0.051381\nsugar                      0.092216\nsweetener_without_sugar   -0.087438\nName: rating, dtype: float64"
     },
     "execution_count": 482,
     "metadata": {},
     "output_type": "execute_result"
    }
   ],
   "source": [
    "chocolate_cat_r.corr()[\"rating\"]"
   ],
   "metadata": {
    "collapsed": false,
    "pycharm": {
     "name": "#%%\n"
    }
   }
  },
  {
   "cell_type": "code",
   "execution_count": 483,
   "outputs": [
    {
     "data": {
      "text/plain": "0    851\n3    669\n1    370\n2    334\nName: sub_country_of_bean_origin, dtype: int64"
     },
     "execution_count": 483,
     "metadata": {},
     "output_type": "execute_result"
    }
   ],
   "source": [
    "chocolate_no_taste2[\"sub_country_of_bean_origin\"].value_counts()"
   ],
   "metadata": {
    "collapsed": false,
    "pycharm": {
     "name": "#%%\n"
    }
   }
  },
  {
   "cell_type": "markdown",
   "source": [
    "Let's take a look at the rating now\n"
   ],
   "metadata": {
    "collapsed": false,
    "pycharm": {
     "name": "#%% md\n"
    }
   }
  },
  {
   "cell_type": "code",
   "execution_count": 493,
   "outputs": [
    {
     "name": "stdout",
     "output_type": "stream",
     "text": [
      "\n",
      "KNeighborsRegressor(n_neighbors=50)\n",
      "region one-hot encoding\n",
      "Scores: [0.45236662 0.40471912 0.40158976 0.39778209 0.42847674 0.41752716\n",
      " 0.44619511 0.4348937  0.43364044 0.38601084]\n",
      "Mean: 0.4203201574930052\n",
      "Standard deviation: 0.021071193289562418\n",
      "[3.325 3.11  2.935 3.355 3.245 3.305 3.265 3.025 3.13  3.355]\n",
      "[3.0, 3.25, 3.0, 3.0, 3.75, 3.5, 4.0, 3.5, 3.5, 3.25]\n",
      "original mean :  3.1980337078651684 original std: 0.4165150806593712\n",
      "predicted mean :  3.2278707865168537 predicted std: 0.12073859841232384\n",
      "\n",
      "KNeighborsRegressor(n_neighbors=50)\n",
      "test oner-hot drop sub encoding\n",
      "Scores: [0.45518702 0.40917531 0.40009988 0.39817791 0.4255177  0.41414339\n",
      " 0.4432558  0.43888073 0.43042375 0.388908  ]\n",
      "Mean: 0.4203769491251081\n",
      "Standard deviation: 0.020648301366899723\n",
      "[3.355 3.065 2.94  3.32  3.14  3.36  3.355 3.04  3.205 3.32 ]\n",
      "[3.0, 3.25, 3.0, 3.0, 3.75, 3.5, 4.0, 3.5, 3.5, 3.25]\n",
      "original mean :  3.1980337078651684 original std: 0.4165150806593712\n",
      "predicted mean :  3.2373595505617976 predicted std: 0.12380459841444517\n",
      "\n",
      "KNeighborsRegressor(n_neighbors=50)\n",
      "test cat encoding\n",
      "Scores: [0.44629606 0.409997   0.40213788 0.40026721 0.43068526 0.41983109\n",
      " 0.44897333 0.4391121  0.42975887 0.38862513]\n",
      "Mean: 0.4215683924651149\n",
      "Standard deviation: 0.019682301636436632\n",
      "[3.24  3.13  2.945 3.36  3.16  3.295 3.295 3.02  3.17  3.36 ]\n",
      "[3.0, 3.25, 3.0, 3.0, 3.75, 3.5, 4.0, 3.5, 3.5, 3.25]\n",
      "original mean :  3.1980337078651684 original std: 0.4165150806593712\n",
      "predicted mean :  3.2322865168539323 predicted std: 0.11202448537629062\n"
     ]
    }
   ],
   "source": [
    "knn_model = KNeighborsRegressor(n_neighbors=50)\n",
    "\n",
    "run_test(chocolate_no_taste2, \"region one-hot encoding\", knn_model)\n",
    "\n",
    "chocolate_no_taste3 = chocolate_no_taste2.drop([\"sub_country_of_bean_origin\"],\n",
    "                                               axis=1)\n",
    "run_test(chocolate_no_taste3, \"test oner-hot drop sub encoding\", knn_model)\n",
    "\n",
    "chocolate_cat_r = chocolate_cat.iloc[:,:-4]\n",
    "run_test(chocolate_cat_r, \"test cat encoding\", knn_model)"
   ],
   "metadata": {
    "collapsed": false,
    "pycharm": {
     "name": "#%%\n"
    }
   }
  },
  {
   "cell_type": "markdown",
   "source": [
    "## not much effect\n",
    "sadly that almost gave no improvement at all.\n",
    "but still improvement non-the less\n",
    "\n",
    "\n",
    "## let's do the same thing for the taste values\n",
    "\n",
    "## count number of flavors"
   ],
   "metadata": {
    "collapsed": false,
    "pycharm": {
     "name": "#%% md\n"
    }
   }
  },
  {
   "cell_type": "code",
   "execution_count": 485,
   "outputs": [
    {
     "data": {
      "text/plain": "     country_of_bean_origin  cocoa_percent  rating  counts_of_ingredients  \\\n0                Madagascar           76.0    3.75                      3   \n1        Dominican republic           76.0    3.50                      3   \n2                  Tanzania           76.0    3.25                      3   \n3                      Peru           63.0    3.75                      4   \n4                   Bolivia           70.0    3.50                      4   \n...                     ...            ...     ...                    ...   \n2219                  Blend           80.0    2.75                      4   \n2220               Colombia           75.0    3.75                      3   \n2221                 Belize           72.0    3.50                      3   \n2222                  Congo           70.0    3.25                      3   \n2223                  Blend           75.0    3.00                      3   \n\n      cocoa_butter  vanilla  lecithin  salt  sugar  sweetener_without_sugar  \\\n0                1        0         0     0      1                        0   \n1                1        0         0     0      1                        0   \n2                1        0         0     0      1                        0   \n3                1        0         1     0      1                        0   \n4                1        0         1     0      1                        0   \n...            ...      ...       ...   ...    ...                      ...   \n2219             1        0         0     1      0                        1   \n2220             1        0         0     0      1                        0   \n2221             1        0         0     0      1                        0   \n2222             1        0         0     0      1                        0   \n2223             1        0         0     0      1                        0   \n\n       first_taste second_taste third_taste fourth_taste  \n0            cocoa   blackberry   full body          NaN  \n1            cocoa      vegetal      savory          NaN  \n2       rich cocoa        fatty      bready          NaN  \n3           fruity        melon      roasty          NaN  \n4          vegetal        nutty         NaN          NaN  \n...            ...          ...         ...          ...  \n2219          waxy      cloying     vegetal          NaN  \n2220  strong nutty  marshmallow         NaN          NaN  \n2221         muted       roasty  accessible          NaN  \n2222         fatty    mild nuts  mild fruit          NaN  \n2223         fatty       earthy       cocoa          NaN  \n\n[2224 rows x 14 columns]",
      "text/html": "<div>\n<style scoped>\n    .dataframe tbody tr th:only-of-type {\n        vertical-align: middle;\n    }\n\n    .dataframe tbody tr th {\n        vertical-align: top;\n    }\n\n    .dataframe thead th {\n        text-align: right;\n    }\n</style>\n<table border=\"1\" class=\"dataframe\">\n  <thead>\n    <tr style=\"text-align: right;\">\n      <th></th>\n      <th>country_of_bean_origin</th>\n      <th>cocoa_percent</th>\n      <th>rating</th>\n      <th>counts_of_ingredients</th>\n      <th>cocoa_butter</th>\n      <th>vanilla</th>\n      <th>lecithin</th>\n      <th>salt</th>\n      <th>sugar</th>\n      <th>sweetener_without_sugar</th>\n      <th>first_taste</th>\n      <th>second_taste</th>\n      <th>third_taste</th>\n      <th>fourth_taste</th>\n    </tr>\n  </thead>\n  <tbody>\n    <tr>\n      <th>0</th>\n      <td>Madagascar</td>\n      <td>76.0</td>\n      <td>3.75</td>\n      <td>3</td>\n      <td>1</td>\n      <td>0</td>\n      <td>0</td>\n      <td>0</td>\n      <td>1</td>\n      <td>0</td>\n      <td>cocoa</td>\n      <td>blackberry</td>\n      <td>full body</td>\n      <td>NaN</td>\n    </tr>\n    <tr>\n      <th>1</th>\n      <td>Dominican republic</td>\n      <td>76.0</td>\n      <td>3.50</td>\n      <td>3</td>\n      <td>1</td>\n      <td>0</td>\n      <td>0</td>\n      <td>0</td>\n      <td>1</td>\n      <td>0</td>\n      <td>cocoa</td>\n      <td>vegetal</td>\n      <td>savory</td>\n      <td>NaN</td>\n    </tr>\n    <tr>\n      <th>2</th>\n      <td>Tanzania</td>\n      <td>76.0</td>\n      <td>3.25</td>\n      <td>3</td>\n      <td>1</td>\n      <td>0</td>\n      <td>0</td>\n      <td>0</td>\n      <td>1</td>\n      <td>0</td>\n      <td>rich cocoa</td>\n      <td>fatty</td>\n      <td>bready</td>\n      <td>NaN</td>\n    </tr>\n    <tr>\n      <th>3</th>\n      <td>Peru</td>\n      <td>63.0</td>\n      <td>3.75</td>\n      <td>4</td>\n      <td>1</td>\n      <td>0</td>\n      <td>1</td>\n      <td>0</td>\n      <td>1</td>\n      <td>0</td>\n      <td>fruity</td>\n      <td>melon</td>\n      <td>roasty</td>\n      <td>NaN</td>\n    </tr>\n    <tr>\n      <th>4</th>\n      <td>Bolivia</td>\n      <td>70.0</td>\n      <td>3.50</td>\n      <td>4</td>\n      <td>1</td>\n      <td>0</td>\n      <td>1</td>\n      <td>0</td>\n      <td>1</td>\n      <td>0</td>\n      <td>vegetal</td>\n      <td>nutty</td>\n      <td>NaN</td>\n      <td>NaN</td>\n    </tr>\n    <tr>\n      <th>...</th>\n      <td>...</td>\n      <td>...</td>\n      <td>...</td>\n      <td>...</td>\n      <td>...</td>\n      <td>...</td>\n      <td>...</td>\n      <td>...</td>\n      <td>...</td>\n      <td>...</td>\n      <td>...</td>\n      <td>...</td>\n      <td>...</td>\n      <td>...</td>\n    </tr>\n    <tr>\n      <th>2219</th>\n      <td>Blend</td>\n      <td>80.0</td>\n      <td>2.75</td>\n      <td>4</td>\n      <td>1</td>\n      <td>0</td>\n      <td>0</td>\n      <td>1</td>\n      <td>0</td>\n      <td>1</td>\n      <td>waxy</td>\n      <td>cloying</td>\n      <td>vegetal</td>\n      <td>NaN</td>\n    </tr>\n    <tr>\n      <th>2220</th>\n      <td>Colombia</td>\n      <td>75.0</td>\n      <td>3.75</td>\n      <td>3</td>\n      <td>1</td>\n      <td>0</td>\n      <td>0</td>\n      <td>0</td>\n      <td>1</td>\n      <td>0</td>\n      <td>strong nutty</td>\n      <td>marshmallow</td>\n      <td>NaN</td>\n      <td>NaN</td>\n    </tr>\n    <tr>\n      <th>2221</th>\n      <td>Belize</td>\n      <td>72.0</td>\n      <td>3.50</td>\n      <td>3</td>\n      <td>1</td>\n      <td>0</td>\n      <td>0</td>\n      <td>0</td>\n      <td>1</td>\n      <td>0</td>\n      <td>muted</td>\n      <td>roasty</td>\n      <td>accessible</td>\n      <td>NaN</td>\n    </tr>\n    <tr>\n      <th>2222</th>\n      <td>Congo</td>\n      <td>70.0</td>\n      <td>3.25</td>\n      <td>3</td>\n      <td>1</td>\n      <td>0</td>\n      <td>0</td>\n      <td>0</td>\n      <td>1</td>\n      <td>0</td>\n      <td>fatty</td>\n      <td>mild nuts</td>\n      <td>mild fruit</td>\n      <td>NaN</td>\n    </tr>\n    <tr>\n      <th>2223</th>\n      <td>Blend</td>\n      <td>75.0</td>\n      <td>3.00</td>\n      <td>3</td>\n      <td>1</td>\n      <td>0</td>\n      <td>0</td>\n      <td>0</td>\n      <td>1</td>\n      <td>0</td>\n      <td>fatty</td>\n      <td>earthy</td>\n      <td>cocoa</td>\n      <td>NaN</td>\n    </tr>\n  </tbody>\n</table>\n<p>2224 rows × 14 columns</p>\n</div>"
     },
     "execution_count": 485,
     "metadata": {},
     "output_type": "execute_result"
    }
   ],
   "source": [
    "class CountFlavors(BaseEstimator, TransformerMixin):\n",
    "    def fit(self, x):\n",
    "        return self\n",
    "    def transform(self, x):\n",
    "        df_copy = x.copy()\n",
    "        df_copy[\"num_flavors\"] = 0\n",
    "        for column in df_copy.columns:\n",
    "            if \"_taste\" in column:\n",
    "                df_copy[column] = df_copy[column].fillna(\"no flavor\")\n",
    "                df_copy[\"num_flavors\"] += np.where(df_copy[column] == \"no flavor\", 0, 1)\n",
    "        return df_copy\n",
    "\n",
    "chocolate_n2"
   ],
   "metadata": {
    "collapsed": false,
    "pycharm": {
     "name": "#%%\n"
    }
   }
  },
  {
   "cell_type": "code",
   "execution_count": 486,
   "outputs": [
    {
     "name": "stdout",
     "output_type": "stream",
     "text": [
      "Americas    1545\n",
      "Africa       449\n",
      "Asia         139\n",
      "Oceania       91\n",
      "Name: country_of_bean_origin, dtype: int64\n",
      "South America 0\n",
      "Eastern Africa 1\n",
      "Central America 2\n",
      "Americas 0\n",
      "Africa 1\n",
      "creamy 0\n",
      "sandy 1\n",
      "intense 2\n",
      "sweet 0\n",
      "nutty 1\n",
      "no flavor 2\n",
      "earthy 3\n",
      "no flavor 0\n",
      "cocoa 1\n",
      "nutty 2\n",
      "no flavor 0\n",
      "cocoa 1\n",
      "roasty 2\n",
      "sour 3\n"
     ]
    },
    {
     "data": {
      "text/plain": "      country_of_bean_origin  cocoa_percent  rating  counts_of_ingredients  \\\n0                          1           76.0    3.75                      3   \n1                          0           76.0    3.50                      3   \n2                          1           76.0    3.25                      3   \n3                          0           63.0    3.75                      4   \n4                          0           70.0    3.50                      4   \n...                      ...            ...     ...                    ...   \n2219                       1           80.0    2.75                      4   \n2220                       0           75.0    3.75                      3   \n2221                       0           72.0    3.50                      3   \n2222                       1           70.0    3.25                      3   \n2223                       1           75.0    3.00                      3   \n\n      cocoa_butter  vanilla  lecithin  salt  sugar  sweetener_without_sugar  \\\n0                1        0         0     0      1                        0   \n1                1        0         0     0      1                        0   \n2                1        0         0     0      1                        0   \n3                1        0         1     0      1                        0   \n4                1        0         1     0      1                        0   \n...            ...      ...       ...   ...    ...                      ...   \n2219             1        0         0     1      0                        1   \n2220             1        0         0     0      1                        0   \n2221             1        0         0     0      1                        0   \n2222             1        0         0     0      1                        0   \n2223             1        0         0     0      1                        0   \n\n      first_taste  second_taste  third_taste  fourth_taste  \\\n0               3             4            3             0   \n1               3             4            3             0   \n2               3             4            3             0   \n3               3             4            3             0   \n4               3             1            0             0   \n...           ...           ...          ...           ...   \n2219            3             4            3             0   \n2220            3             4            0             0   \n2221            3             4            3             0   \n2222            3             4            3             0   \n2223            3             3            1             0   \n\n      sub_country_of_bean_origin  num_flavors  \n0                              1            3  \n1                              3            3  \n2                              1            3  \n3                              0            3  \n4                              0            2  \n...                          ...          ...  \n2219                           1            3  \n2220                           0            2  \n2221                           2            3  \n2222                           3            3  \n2223                           1            3  \n\n[2224 rows x 16 columns]",
      "text/html": "<div>\n<style scoped>\n    .dataframe tbody tr th:only-of-type {\n        vertical-align: middle;\n    }\n\n    .dataframe tbody tr th {\n        vertical-align: top;\n    }\n\n    .dataframe thead th {\n        text-align: right;\n    }\n</style>\n<table border=\"1\" class=\"dataframe\">\n  <thead>\n    <tr style=\"text-align: right;\">\n      <th></th>\n      <th>country_of_bean_origin</th>\n      <th>cocoa_percent</th>\n      <th>rating</th>\n      <th>counts_of_ingredients</th>\n      <th>cocoa_butter</th>\n      <th>vanilla</th>\n      <th>lecithin</th>\n      <th>salt</th>\n      <th>sugar</th>\n      <th>sweetener_without_sugar</th>\n      <th>first_taste</th>\n      <th>second_taste</th>\n      <th>third_taste</th>\n      <th>fourth_taste</th>\n      <th>sub_country_of_bean_origin</th>\n      <th>num_flavors</th>\n    </tr>\n  </thead>\n  <tbody>\n    <tr>\n      <th>0</th>\n      <td>1</td>\n      <td>76.0</td>\n      <td>3.75</td>\n      <td>3</td>\n      <td>1</td>\n      <td>0</td>\n      <td>0</td>\n      <td>0</td>\n      <td>1</td>\n      <td>0</td>\n      <td>3</td>\n      <td>4</td>\n      <td>3</td>\n      <td>0</td>\n      <td>1</td>\n      <td>3</td>\n    </tr>\n    <tr>\n      <th>1</th>\n      <td>0</td>\n      <td>76.0</td>\n      <td>3.50</td>\n      <td>3</td>\n      <td>1</td>\n      <td>0</td>\n      <td>0</td>\n      <td>0</td>\n      <td>1</td>\n      <td>0</td>\n      <td>3</td>\n      <td>4</td>\n      <td>3</td>\n      <td>0</td>\n      <td>3</td>\n      <td>3</td>\n    </tr>\n    <tr>\n      <th>2</th>\n      <td>1</td>\n      <td>76.0</td>\n      <td>3.25</td>\n      <td>3</td>\n      <td>1</td>\n      <td>0</td>\n      <td>0</td>\n      <td>0</td>\n      <td>1</td>\n      <td>0</td>\n      <td>3</td>\n      <td>4</td>\n      <td>3</td>\n      <td>0</td>\n      <td>1</td>\n      <td>3</td>\n    </tr>\n    <tr>\n      <th>3</th>\n      <td>0</td>\n      <td>63.0</td>\n      <td>3.75</td>\n      <td>4</td>\n      <td>1</td>\n      <td>0</td>\n      <td>1</td>\n      <td>0</td>\n      <td>1</td>\n      <td>0</td>\n      <td>3</td>\n      <td>4</td>\n      <td>3</td>\n      <td>0</td>\n      <td>0</td>\n      <td>3</td>\n    </tr>\n    <tr>\n      <th>4</th>\n      <td>0</td>\n      <td>70.0</td>\n      <td>3.50</td>\n      <td>4</td>\n      <td>1</td>\n      <td>0</td>\n      <td>1</td>\n      <td>0</td>\n      <td>1</td>\n      <td>0</td>\n      <td>3</td>\n      <td>1</td>\n      <td>0</td>\n      <td>0</td>\n      <td>0</td>\n      <td>2</td>\n    </tr>\n    <tr>\n      <th>...</th>\n      <td>...</td>\n      <td>...</td>\n      <td>...</td>\n      <td>...</td>\n      <td>...</td>\n      <td>...</td>\n      <td>...</td>\n      <td>...</td>\n      <td>...</td>\n      <td>...</td>\n      <td>...</td>\n      <td>...</td>\n      <td>...</td>\n      <td>...</td>\n      <td>...</td>\n      <td>...</td>\n    </tr>\n    <tr>\n      <th>2219</th>\n      <td>1</td>\n      <td>80.0</td>\n      <td>2.75</td>\n      <td>4</td>\n      <td>1</td>\n      <td>0</td>\n      <td>0</td>\n      <td>1</td>\n      <td>0</td>\n      <td>1</td>\n      <td>3</td>\n      <td>4</td>\n      <td>3</td>\n      <td>0</td>\n      <td>1</td>\n      <td>3</td>\n    </tr>\n    <tr>\n      <th>2220</th>\n      <td>0</td>\n      <td>75.0</td>\n      <td>3.75</td>\n      <td>3</td>\n      <td>1</td>\n      <td>0</td>\n      <td>0</td>\n      <td>0</td>\n      <td>1</td>\n      <td>0</td>\n      <td>3</td>\n      <td>4</td>\n      <td>0</td>\n      <td>0</td>\n      <td>0</td>\n      <td>2</td>\n    </tr>\n    <tr>\n      <th>2221</th>\n      <td>0</td>\n      <td>72.0</td>\n      <td>3.50</td>\n      <td>3</td>\n      <td>1</td>\n      <td>0</td>\n      <td>0</td>\n      <td>0</td>\n      <td>1</td>\n      <td>0</td>\n      <td>3</td>\n      <td>4</td>\n      <td>3</td>\n      <td>0</td>\n      <td>2</td>\n      <td>3</td>\n    </tr>\n    <tr>\n      <th>2222</th>\n      <td>1</td>\n      <td>70.0</td>\n      <td>3.25</td>\n      <td>3</td>\n      <td>1</td>\n      <td>0</td>\n      <td>0</td>\n      <td>0</td>\n      <td>1</td>\n      <td>0</td>\n      <td>3</td>\n      <td>4</td>\n      <td>3</td>\n      <td>0</td>\n      <td>3</td>\n      <td>3</td>\n    </tr>\n    <tr>\n      <th>2223</th>\n      <td>1</td>\n      <td>75.0</td>\n      <td>3.00</td>\n      <td>3</td>\n      <td>1</td>\n      <td>0</td>\n      <td>0</td>\n      <td>0</td>\n      <td>1</td>\n      <td>0</td>\n      <td>3</td>\n      <td>3</td>\n      <td>1</td>\n      <td>0</td>\n      <td>1</td>\n      <td>3</td>\n    </tr>\n  </tbody>\n</table>\n<p>2224 rows × 16 columns</p>\n</div>"
     },
     "execution_count": 486,
     "metadata": {},
     "output_type": "execute_result"
    }
   ],
   "source": [
    "my_pipe = Pipeline(\n",
    "    [\n",
    "      (\"1\", RegionTransformer(\"country_of_bean_origin\", prefix=\"\", log=True)),\n",
    "      (\"2\", TopXsub(\"sub_country_of_bean_origin\", 3)),\n",
    "      (\"3\", TopXsub(\"country_of_bean_origin\", 2)),\n",
    "      (\"4\", CountFlavors()),\n",
    "      (\"5\", TopXsub(\"first_taste\", 3)),\n",
    "      (\"6\", TopXsub(\"second_taste\", 4)),\n",
    "      (\"7\", TopXsub(\"third_taste\", 3)),\n",
    "      (\"8\", TopXsub(\"fourth_taste\", 4)),\n",
    "    ])\n",
    "\n",
    "chocolate_n5 = my_pipe.fit_transform(chocolate_n2)\n",
    "chocolate_n5"
   ],
   "metadata": {
    "collapsed": false,
    "pycharm": {
     "name": "#%%\n"
    }
   }
  },
  {
   "cell_type": "code",
   "execution_count": 487,
   "outputs": [
    {
     "data": {
      "text/plain": "country_of_bean_origin       -0.022021\ncocoa_percent                -0.078508\nrating                        1.000000\ncounts_of_ingredients        -0.094850\ncocoa_butter                  0.012224\nvanilla                      -0.164881\nlecithin                     -0.070179\nsalt                         -0.051381\nsugar                         0.092216\nsweetener_without_sugar      -0.087438\nfirst_taste                  -0.128189\nsecond_taste                  0.038270\nthird_taste                  -0.103693\nfourth_taste                 -0.034067\nsub_country_of_bean_origin   -0.025640\nnum_flavors                  -0.074751\nName: rating, dtype: float64"
     },
     "execution_count": 487,
     "metadata": {},
     "output_type": "execute_result"
    }
   ],
   "source": [
    "chocolate_n5.corr()[\"rating\"]"
   ],
   "metadata": {
    "collapsed": false,
    "pycharm": {
     "name": "#%%\n"
    }
   }
  },
  {
   "cell_type": "code",
   "execution_count": 494,
   "outputs": [
    {
     "name": "stdout",
     "output_type": "stream",
     "text": [
      "\n",
      "KNeighborsRegressor(n_neighbors=50)\n",
      "test\n",
      "Scores: [0.4392753  0.39657086 0.40231989 0.39007878 0.42260039 0.41858963\n",
      " 0.43140744 0.43199153 0.42918478 0.38910026]\n",
      "Mean: 0.41511188574282487\n",
      "Standard deviation: 0.017919886198967148\n",
      "[3.43  3.14  2.9   3.285 3.2   3.215 3.34  2.86  3.11  3.4  ]\n",
      "[3.0, 3.25, 3.0, 3.0, 3.75, 3.5, 4.0, 3.5, 3.5, 3.25]\n",
      "original mean :  3.1980337078651684 original std: 0.4165150806593712\n",
      "predicted mean :  3.2250505617977527 predicted std: 0.12861956237496333\n"
     ]
    }
   ],
   "source": [
    "run_test(chocolate_n5, \"test\", knn_model)"
   ],
   "metadata": {
    "collapsed": false,
    "pycharm": {
     "name": "#%%\n"
    }
   }
  },
  {
   "cell_type": "code",
   "execution_count": 531,
   "outputs": [
    {
     "name": "stdout",
     "output_type": "stream",
     "text": [
      "\n",
      "RandomForestRegressor(max_depth=4, n_estimators=30)\n",
      "test\n",
      "Scores: [0.43835896 0.40230967 0.39939744 0.37630656 0.4069506  0.42525803\n",
      " 0.43651759 0.43144148 0.41696228 0.38187672]\n",
      "Mean: 0.41153793340069045\n",
      "Standard deviation: 0.02081297686664735\n",
      "[3.18966555 3.18463689 2.93902445 3.26721461 3.18150523 3.2425894\n",
      " 3.21464215 2.93250695 2.91047429 3.67036444]\n",
      "[3.0, 3.25, 3.0, 3.0, 3.75, 3.5, 4.0, 3.5, 3.5, 3.25]\n",
      "original mean :  3.1980337078651684 original std: 0.4165150806593712\n",
      "predicted mean :  3.210064240041205 predicted std: 0.13646830559173687\n"
     ]
    }
   ],
   "source": [
    "from sklearn.ensemble import RandomForestRegressor\n",
    "forest = RandomForestRegressor(n_estimators=30, max_depth=4)\n",
    "run_test(chocolate_n5, \"test\", forest)"
   ],
   "metadata": {
    "collapsed": false,
    "pycharm": {
     "name": "#%%\n"
    }
   }
  },
  {
   "cell_type": "code",
   "execution_count": 490,
   "outputs": [
    {
     "name": "stdout",
     "output_type": "stream",
     "text": [
      "original mean : 3.198561151079137 , original std: 0.43432896919136804\n"
     ]
    }
   ],
   "source": [
    "print(\"original mean :\",chocolate[\"rating\"].mean(), \", original std:\",\n",
    "      chocolate[\"rating\"].std())"
   ],
   "metadata": {
    "collapsed": false,
    "pycharm": {
     "name": "#%%\n"
    }
   }
  },
  {
   "cell_type": "markdown",
   "source": [
    "## Honsetly i have no idea if i can improve this.\n",
    "\n",
    "our model just \"predicts\" the mean of the sample, and gives as random value\n",
    "near the mean, it's not really that great, the only thing we can learn\n",
    "from this is that on average experts rate chocolate at about 3.2 score.\n",
    "\n",
    "there might be just to little data!\n",
    "\n",
    "### conclusion\n",
    "well maybe there just not enough data about each chocolate,\n",
    "or there is a secret that we do not know,\n",
    "there is almost to no correlation between \"bean-origin\" and\n",
    "bean the rating, and there is little correlation between the ingredients,\n",
    "and the rating.\n",
    "\n",
    "the fact that there is so many ingredient's doesn't make our job easy,\n",
    "as we simply have to little data per ingredient.\n",
    "\n",
    "so in conclusion neither KNN nor linear regression,\n",
    "could give as a good result.\n",
    "\n",
    "\n"
   ],
   "metadata": {
    "collapsed": false,
    "pycharm": {
     "name": "#%% md\n"
    }
   }
  }
 ],
 "metadata": {
  "kernelspec": {
   "display_name": "Python 3",
   "language": "python",
   "name": "python3"
  },
  "language_info": {
   "codemirror_mode": {
    "name": "ipython",
    "version": 2
   },
   "file_extension": ".py",
   "mimetype": "text/x-python",
   "name": "python",
   "nbconvert_exporter": "python",
   "pygments_lexer": "ipython2",
   "version": "2.7.6"
  }
 },
 "nbformat": 4,
 "nbformat_minor": 0
}