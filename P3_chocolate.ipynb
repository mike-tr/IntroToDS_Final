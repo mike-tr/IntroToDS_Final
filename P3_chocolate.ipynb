{
 "cells": [
  {
   "cell_type": "markdown",
   "metadata": {
    "collapsed": true,
    "pycharm": {
     "name": "#%% md\n"
    }
   },
   "source": [
    "# Introduction\n",
    "in this dataset we have about 2000 entries about different chocolate bars,\n",
    "their manufacturers, the origin of the bean etc...\n",
    "\n",
    "the dataset contains a rating for the quality of the chocolate,\n",
    "\n",
    "## Flavors of Cacao Rating System:\n",
    "- #### Rating Scale:\n",
    "    - 4.0 - 5.0 = Outstanding\n",
    "    - 3.5 - 3.9 = Highly Recommended\n",
    "    - 3.0 - 3.49 = Recommended\n",
    "    - 2.0 - 2.9 = Disappointing\n",
    "    - 1.0 - 1.9 = Unpleasant\n",
    "\n",
    "### About this project\n",
    "in this project we will try to predict the rating of the chocolate,\n",
    "based on  the data we have, and we will conclude what are the factors\n",
    "for the rating and quality of the chocolate,\n",
    "or maybe it is a \"secret\" formula, that we do not have."
   ]
  },
  {
   "cell_type": "code",
   "execution_count": 351,
   "outputs": [],
   "source": [
    "import numpy as np\n",
    "import pandas as pd\n",
    "import seaborn as sn\n",
    "import matplotlib.pyplot as plt\n",
    "from sklearn.linear_model import LogisticRegression\n",
    "from sklearn.model_selection import train_test_split\n",
    "from sklearn.model_selection import cross_val_score\n",
    "from sklearn.model_selection import RandomizedSearchCV\n",
    "from sklearn.metrics import plot_confusion_matrix, confusion_matrix\n",
    "from sklearn.pipeline import Pipeline\n",
    "from sklearn.preprocessing import StandardScaler"
   ],
   "metadata": {
    "collapsed": false,
    "pycharm": {
     "name": "#%%\n"
    }
   }
  },
  {
   "cell_type": "code",
   "execution_count": 352,
   "outputs": [
    {
     "data": {
      "text/plain": "    ref   company company_location  review_date country_of_bean_origin  \\\n0  2454      5150            U.S.A         2019             Madagascar   \n1  2458      5150            U.S.A         2019     Dominican republic   \n2  2454      5150            U.S.A         2019               Tanzania   \n3   797  A. Morin           France         2012                   Peru   \n4   797  A. Morin           France         2012                Bolivia   \n\n  specific_bean_origin_or_bar_name  cocoa_percent  rating  \\\n0           Bejofo Estate, batch 1           76.0    3.75   \n1                  Zorzal, batch 1           76.0    3.50   \n2            Kokoa Kamili, batch 1           76.0    3.25   \n3                             Peru           63.0    3.75   \n4                          Bolivia           70.0    3.50   \n\n   counts_of_ingredients      beans       cocoa_butter          vanilla  \\\n0                      3  have_bean  have_cocoa_butter  have_not_vanila   \n1                      3  have_bean  have_cocoa_butter  have_not_vanila   \n2                      3  have_bean  have_cocoa_butter  have_not_vanila   \n3                      4  have_bean  have_cocoa_butter  have_not_vanila   \n4                      4  have_bean  have_cocoa_butter  have_not_vanila   \n\n            lecithin           salt       sugar  \\\n0  have_not_lecithin  have_not_salt  have_sugar   \n1  have_not_lecithin  have_not_salt  have_sugar   \n2  have_not_lecithin  have_not_salt  have_sugar   \n3      have_lecithin  have_not_salt  have_sugar   \n4      have_lecithin  have_not_salt  have_sugar   \n\n            sweetener_without_sugar first_taste second_taste third_taste  \\\n0  have_not_sweetener_without_sugar       cocoa   blackberry   full body   \n1  have_not_sweetener_without_sugar       cocoa      vegetal      savory   \n2  have_not_sweetener_without_sugar  rich cocoa        fatty      bready   \n3  have_not_sweetener_without_sugar      fruity        melon      roasty   \n4  have_not_sweetener_without_sugar     vegetal        nutty         NaN   \n\n  fourth_taste  \n0          NaN  \n1          NaN  \n2          NaN  \n3          NaN  \n4          NaN  ",
      "text/html": "<div>\n<style scoped>\n    .dataframe tbody tr th:only-of-type {\n        vertical-align: middle;\n    }\n\n    .dataframe tbody tr th {\n        vertical-align: top;\n    }\n\n    .dataframe thead th {\n        text-align: right;\n    }\n</style>\n<table border=\"1\" class=\"dataframe\">\n  <thead>\n    <tr style=\"text-align: right;\">\n      <th></th>\n      <th>ref</th>\n      <th>company</th>\n      <th>company_location</th>\n      <th>review_date</th>\n      <th>country_of_bean_origin</th>\n      <th>specific_bean_origin_or_bar_name</th>\n      <th>cocoa_percent</th>\n      <th>rating</th>\n      <th>counts_of_ingredients</th>\n      <th>beans</th>\n      <th>cocoa_butter</th>\n      <th>vanilla</th>\n      <th>lecithin</th>\n      <th>salt</th>\n      <th>sugar</th>\n      <th>sweetener_without_sugar</th>\n      <th>first_taste</th>\n      <th>second_taste</th>\n      <th>third_taste</th>\n      <th>fourth_taste</th>\n    </tr>\n  </thead>\n  <tbody>\n    <tr>\n      <th>0</th>\n      <td>2454</td>\n      <td>5150</td>\n      <td>U.S.A</td>\n      <td>2019</td>\n      <td>Madagascar</td>\n      <td>Bejofo Estate, batch 1</td>\n      <td>76.0</td>\n      <td>3.75</td>\n      <td>3</td>\n      <td>have_bean</td>\n      <td>have_cocoa_butter</td>\n      <td>have_not_vanila</td>\n      <td>have_not_lecithin</td>\n      <td>have_not_salt</td>\n      <td>have_sugar</td>\n      <td>have_not_sweetener_without_sugar</td>\n      <td>cocoa</td>\n      <td>blackberry</td>\n      <td>full body</td>\n      <td>NaN</td>\n    </tr>\n    <tr>\n      <th>1</th>\n      <td>2458</td>\n      <td>5150</td>\n      <td>U.S.A</td>\n      <td>2019</td>\n      <td>Dominican republic</td>\n      <td>Zorzal, batch 1</td>\n      <td>76.0</td>\n      <td>3.50</td>\n      <td>3</td>\n      <td>have_bean</td>\n      <td>have_cocoa_butter</td>\n      <td>have_not_vanila</td>\n      <td>have_not_lecithin</td>\n      <td>have_not_salt</td>\n      <td>have_sugar</td>\n      <td>have_not_sweetener_without_sugar</td>\n      <td>cocoa</td>\n      <td>vegetal</td>\n      <td>savory</td>\n      <td>NaN</td>\n    </tr>\n    <tr>\n      <th>2</th>\n      <td>2454</td>\n      <td>5150</td>\n      <td>U.S.A</td>\n      <td>2019</td>\n      <td>Tanzania</td>\n      <td>Kokoa Kamili, batch 1</td>\n      <td>76.0</td>\n      <td>3.25</td>\n      <td>3</td>\n      <td>have_bean</td>\n      <td>have_cocoa_butter</td>\n      <td>have_not_vanila</td>\n      <td>have_not_lecithin</td>\n      <td>have_not_salt</td>\n      <td>have_sugar</td>\n      <td>have_not_sweetener_without_sugar</td>\n      <td>rich cocoa</td>\n      <td>fatty</td>\n      <td>bready</td>\n      <td>NaN</td>\n    </tr>\n    <tr>\n      <th>3</th>\n      <td>797</td>\n      <td>A. Morin</td>\n      <td>France</td>\n      <td>2012</td>\n      <td>Peru</td>\n      <td>Peru</td>\n      <td>63.0</td>\n      <td>3.75</td>\n      <td>4</td>\n      <td>have_bean</td>\n      <td>have_cocoa_butter</td>\n      <td>have_not_vanila</td>\n      <td>have_lecithin</td>\n      <td>have_not_salt</td>\n      <td>have_sugar</td>\n      <td>have_not_sweetener_without_sugar</td>\n      <td>fruity</td>\n      <td>melon</td>\n      <td>roasty</td>\n      <td>NaN</td>\n    </tr>\n    <tr>\n      <th>4</th>\n      <td>797</td>\n      <td>A. Morin</td>\n      <td>France</td>\n      <td>2012</td>\n      <td>Bolivia</td>\n      <td>Bolivia</td>\n      <td>70.0</td>\n      <td>3.50</td>\n      <td>4</td>\n      <td>have_bean</td>\n      <td>have_cocoa_butter</td>\n      <td>have_not_vanila</td>\n      <td>have_lecithin</td>\n      <td>have_not_salt</td>\n      <td>have_sugar</td>\n      <td>have_not_sweetener_without_sugar</td>\n      <td>vegetal</td>\n      <td>nutty</td>\n      <td>NaN</td>\n      <td>NaN</td>\n    </tr>\n  </tbody>\n</table>\n</div>"
     },
     "execution_count": 352,
     "metadata": {},
     "output_type": "execute_result"
    }
   ],
   "source": [
    "chocolate = pd.read_csv('data/chocolate.csv')\n",
    "pd.set_option('display.max_columns', None)\n",
    "chocolate = chocolate.iloc[:,1:]\n",
    "chocolate.head()"
   ],
   "metadata": {
    "collapsed": false,
    "pycharm": {
     "name": "#%%\n"
    }
   }
  },
  {
   "cell_type": "code",
   "execution_count": 353,
   "outputs": [
    {
     "name": "stdout",
     "output_type": "stream",
     "text": [
      "<class 'pandas.core.frame.DataFrame'>\n",
      "RangeIndex: 2224 entries, 0 to 2223\n",
      "Data columns (total 20 columns):\n",
      " #   Column                            Non-Null Count  Dtype  \n",
      "---  ------                            --------------  -----  \n",
      " 0   ref                               2224 non-null   int64  \n",
      " 1   company                           2224 non-null   object \n",
      " 2   company_location                  2224 non-null   object \n",
      " 3   review_date                       2224 non-null   int64  \n",
      " 4   country_of_bean_origin            2224 non-null   object \n",
      " 5   specific_bean_origin_or_bar_name  2224 non-null   object \n",
      " 6   cocoa_percent                     2224 non-null   float64\n",
      " 7   rating                            2224 non-null   float64\n",
      " 8   counts_of_ingredients             2224 non-null   int64  \n",
      " 9   beans                             2224 non-null   object \n",
      " 10  cocoa_butter                      2224 non-null   object \n",
      " 11  vanilla                           2224 non-null   object \n",
      " 12  lecithin                          2224 non-null   object \n",
      " 13  salt                              2224 non-null   object \n",
      " 14  sugar                             2224 non-null   object \n",
      " 15  sweetener_without_sugar           2224 non-null   object \n",
      " 16  first_taste                       2224 non-null   object \n",
      " 17  second_taste                      2147 non-null   object \n",
      " 18  third_taste                       1604 non-null   object \n",
      " 19  fourth_taste                      242 non-null    object \n",
      "dtypes: float64(2), int64(3), object(15)\n",
      "memory usage: 347.6+ KB\n"
     ]
    }
   ],
   "source": [
    "chocolate.info()"
   ],
   "metadata": {
    "collapsed": false,
    "pycharm": {
     "name": "#%%\n"
    }
   }
  },
  {
   "cell_type": "markdown",
   "source": [
    "## data insight\n",
    "we can clearly see that there are some null values,\n",
    "but from a quick overview we can notice that \"first_taste, second_taste...\",\n",
    "are all basically a list of all tastes in the chocolate with we will need,\n",
    "to transform anyway into numerical data."
   ],
   "metadata": {
    "collapsed": false,
    "pycharm": {
     "name": "#%% md\n"
    }
   }
  },
  {
   "cell_type": "markdown",
   "source": [
    "# transforming the data for use\n",
    "in this section we will transform all the categories into data that we can use.\n",
    "\n",
    "## Drop unnecessary columns\n",
    "we will drop company, company location, specific_bean_origin..., beans...\n",
    "review date and so one... those values should not effect the quallity of the choclate,\n",
    "well maybe company will but as there is just too much of them, we will drop them."
   ],
   "metadata": {
    "collapsed": false,
    "pycharm": {
     "name": "#%% md\n"
    }
   }
  },
  {
   "cell_type": "code",
   "execution_count": 354,
   "outputs": [
    {
     "data": {
      "text/plain": "     country_of_bean_origin  cocoa_percent  rating  counts_of_ingredients  \\\n0                Madagascar           76.0    3.75                      3   \n1        Dominican republic           76.0    3.50                      3   \n2                  Tanzania           76.0    3.25                      3   \n3                      Peru           63.0    3.75                      4   \n4                   Bolivia           70.0    3.50                      4   \n...                     ...            ...     ...                    ...   \n2219                  Blend           80.0    2.75                      4   \n2220               Colombia           75.0    3.75                      3   \n2221                 Belize           72.0    3.50                      3   \n2222                  Congo           70.0    3.25                      3   \n2223                  Blend           75.0    3.00                      3   \n\n          beans       cocoa_butter          vanilla           lecithin  \\\n0     have_bean  have_cocoa_butter  have_not_vanila  have_not_lecithin   \n1     have_bean  have_cocoa_butter  have_not_vanila  have_not_lecithin   \n2     have_bean  have_cocoa_butter  have_not_vanila  have_not_lecithin   \n3     have_bean  have_cocoa_butter  have_not_vanila      have_lecithin   \n4     have_bean  have_cocoa_butter  have_not_vanila      have_lecithin   \n...         ...                ...              ...                ...   \n2219  have_bean  have_cocoa_butter  have_not_vanila  have_not_lecithin   \n2220  have_bean  have_cocoa_butter  have_not_vanila  have_not_lecithin   \n2221  have_bean  have_cocoa_butter  have_not_vanila  have_not_lecithin   \n2222  have_bean  have_cocoa_butter  have_not_vanila  have_not_lecithin   \n2223  have_bean  have_cocoa_butter  have_not_vanila  have_not_lecithin   \n\n               salt           sugar           sweetener_without_sugar  \\\n0     have_not_salt      have_sugar  have_not_sweetener_without_sugar   \n1     have_not_salt      have_sugar  have_not_sweetener_without_sugar   \n2     have_not_salt      have_sugar  have_not_sweetener_without_sugar   \n3     have_not_salt      have_sugar  have_not_sweetener_without_sugar   \n4     have_not_salt      have_sugar  have_not_sweetener_without_sugar   \n...             ...             ...                               ...   \n2219      have_salt  have_not_sugar      have_sweetener_without_sugar   \n2220  have_not_salt      have_sugar  have_not_sweetener_without_sugar   \n2221  have_not_salt      have_sugar  have_not_sweetener_without_sugar   \n2222  have_not_salt      have_sugar  have_not_sweetener_without_sugar   \n2223  have_not_salt      have_sugar  have_not_sweetener_without_sugar   \n\n       first_taste second_taste third_taste fourth_taste  \n0            cocoa   blackberry   full body          NaN  \n1            cocoa      vegetal      savory          NaN  \n2       rich cocoa        fatty      bready          NaN  \n3           fruity        melon      roasty          NaN  \n4          vegetal        nutty         NaN          NaN  \n...            ...          ...         ...          ...  \n2219          waxy      cloying     vegetal          NaN  \n2220  strong nutty  marshmallow         NaN          NaN  \n2221         muted       roasty  accessible          NaN  \n2222         fatty    mild nuts  mild fruit          NaN  \n2223         fatty       earthy       cocoa          NaN  \n\n[2224 rows x 15 columns]",
      "text/html": "<div>\n<style scoped>\n    .dataframe tbody tr th:only-of-type {\n        vertical-align: middle;\n    }\n\n    .dataframe tbody tr th {\n        vertical-align: top;\n    }\n\n    .dataframe thead th {\n        text-align: right;\n    }\n</style>\n<table border=\"1\" class=\"dataframe\">\n  <thead>\n    <tr style=\"text-align: right;\">\n      <th></th>\n      <th>country_of_bean_origin</th>\n      <th>cocoa_percent</th>\n      <th>rating</th>\n      <th>counts_of_ingredients</th>\n      <th>beans</th>\n      <th>cocoa_butter</th>\n      <th>vanilla</th>\n      <th>lecithin</th>\n      <th>salt</th>\n      <th>sugar</th>\n      <th>sweetener_without_sugar</th>\n      <th>first_taste</th>\n      <th>second_taste</th>\n      <th>third_taste</th>\n      <th>fourth_taste</th>\n    </tr>\n  </thead>\n  <tbody>\n    <tr>\n      <th>0</th>\n      <td>Madagascar</td>\n      <td>76.0</td>\n      <td>3.75</td>\n      <td>3</td>\n      <td>have_bean</td>\n      <td>have_cocoa_butter</td>\n      <td>have_not_vanila</td>\n      <td>have_not_lecithin</td>\n      <td>have_not_salt</td>\n      <td>have_sugar</td>\n      <td>have_not_sweetener_without_sugar</td>\n      <td>cocoa</td>\n      <td>blackberry</td>\n      <td>full body</td>\n      <td>NaN</td>\n    </tr>\n    <tr>\n      <th>1</th>\n      <td>Dominican republic</td>\n      <td>76.0</td>\n      <td>3.50</td>\n      <td>3</td>\n      <td>have_bean</td>\n      <td>have_cocoa_butter</td>\n      <td>have_not_vanila</td>\n      <td>have_not_lecithin</td>\n      <td>have_not_salt</td>\n      <td>have_sugar</td>\n      <td>have_not_sweetener_without_sugar</td>\n      <td>cocoa</td>\n      <td>vegetal</td>\n      <td>savory</td>\n      <td>NaN</td>\n    </tr>\n    <tr>\n      <th>2</th>\n      <td>Tanzania</td>\n      <td>76.0</td>\n      <td>3.25</td>\n      <td>3</td>\n      <td>have_bean</td>\n      <td>have_cocoa_butter</td>\n      <td>have_not_vanila</td>\n      <td>have_not_lecithin</td>\n      <td>have_not_salt</td>\n      <td>have_sugar</td>\n      <td>have_not_sweetener_without_sugar</td>\n      <td>rich cocoa</td>\n      <td>fatty</td>\n      <td>bready</td>\n      <td>NaN</td>\n    </tr>\n    <tr>\n      <th>3</th>\n      <td>Peru</td>\n      <td>63.0</td>\n      <td>3.75</td>\n      <td>4</td>\n      <td>have_bean</td>\n      <td>have_cocoa_butter</td>\n      <td>have_not_vanila</td>\n      <td>have_lecithin</td>\n      <td>have_not_salt</td>\n      <td>have_sugar</td>\n      <td>have_not_sweetener_without_sugar</td>\n      <td>fruity</td>\n      <td>melon</td>\n      <td>roasty</td>\n      <td>NaN</td>\n    </tr>\n    <tr>\n      <th>4</th>\n      <td>Bolivia</td>\n      <td>70.0</td>\n      <td>3.50</td>\n      <td>4</td>\n      <td>have_bean</td>\n      <td>have_cocoa_butter</td>\n      <td>have_not_vanila</td>\n      <td>have_lecithin</td>\n      <td>have_not_salt</td>\n      <td>have_sugar</td>\n      <td>have_not_sweetener_without_sugar</td>\n      <td>vegetal</td>\n      <td>nutty</td>\n      <td>NaN</td>\n      <td>NaN</td>\n    </tr>\n    <tr>\n      <th>...</th>\n      <td>...</td>\n      <td>...</td>\n      <td>...</td>\n      <td>...</td>\n      <td>...</td>\n      <td>...</td>\n      <td>...</td>\n      <td>...</td>\n      <td>...</td>\n      <td>...</td>\n      <td>...</td>\n      <td>...</td>\n      <td>...</td>\n      <td>...</td>\n      <td>...</td>\n    </tr>\n    <tr>\n      <th>2219</th>\n      <td>Blend</td>\n      <td>80.0</td>\n      <td>2.75</td>\n      <td>4</td>\n      <td>have_bean</td>\n      <td>have_cocoa_butter</td>\n      <td>have_not_vanila</td>\n      <td>have_not_lecithin</td>\n      <td>have_salt</td>\n      <td>have_not_sugar</td>\n      <td>have_sweetener_without_sugar</td>\n      <td>waxy</td>\n      <td>cloying</td>\n      <td>vegetal</td>\n      <td>NaN</td>\n    </tr>\n    <tr>\n      <th>2220</th>\n      <td>Colombia</td>\n      <td>75.0</td>\n      <td>3.75</td>\n      <td>3</td>\n      <td>have_bean</td>\n      <td>have_cocoa_butter</td>\n      <td>have_not_vanila</td>\n      <td>have_not_lecithin</td>\n      <td>have_not_salt</td>\n      <td>have_sugar</td>\n      <td>have_not_sweetener_without_sugar</td>\n      <td>strong nutty</td>\n      <td>marshmallow</td>\n      <td>NaN</td>\n      <td>NaN</td>\n    </tr>\n    <tr>\n      <th>2221</th>\n      <td>Belize</td>\n      <td>72.0</td>\n      <td>3.50</td>\n      <td>3</td>\n      <td>have_bean</td>\n      <td>have_cocoa_butter</td>\n      <td>have_not_vanila</td>\n      <td>have_not_lecithin</td>\n      <td>have_not_salt</td>\n      <td>have_sugar</td>\n      <td>have_not_sweetener_without_sugar</td>\n      <td>muted</td>\n      <td>roasty</td>\n      <td>accessible</td>\n      <td>NaN</td>\n    </tr>\n    <tr>\n      <th>2222</th>\n      <td>Congo</td>\n      <td>70.0</td>\n      <td>3.25</td>\n      <td>3</td>\n      <td>have_bean</td>\n      <td>have_cocoa_butter</td>\n      <td>have_not_vanila</td>\n      <td>have_not_lecithin</td>\n      <td>have_not_salt</td>\n      <td>have_sugar</td>\n      <td>have_not_sweetener_without_sugar</td>\n      <td>fatty</td>\n      <td>mild nuts</td>\n      <td>mild fruit</td>\n      <td>NaN</td>\n    </tr>\n    <tr>\n      <th>2223</th>\n      <td>Blend</td>\n      <td>75.0</td>\n      <td>3.00</td>\n      <td>3</td>\n      <td>have_bean</td>\n      <td>have_cocoa_butter</td>\n      <td>have_not_vanila</td>\n      <td>have_not_lecithin</td>\n      <td>have_not_salt</td>\n      <td>have_sugar</td>\n      <td>have_not_sweetener_without_sugar</td>\n      <td>fatty</td>\n      <td>earthy</td>\n      <td>cocoa</td>\n      <td>NaN</td>\n    </tr>\n  </tbody>\n</table>\n<p>2224 rows × 15 columns</p>\n</div>"
     },
     "execution_count": 354,
     "metadata": {},
     "output_type": "execute_result"
    }
   ],
   "source": [
    "dropc = [\"specific_bean_origin_or_bar_name\"]\n",
    "chocolate_n = chocolate.iloc[:,4:]\n",
    "chocolate_n = chocolate_n.drop(dropc, axis = 1)\n",
    "chocolate_n"
   ],
   "metadata": {
    "collapsed": false,
    "pycharm": {
     "name": "#%%\n"
    }
   }
  },
  {
   "cell_type": "markdown",
   "source": [
    "### Look into Object dtypes, that are potential categories."
   ],
   "metadata": {
    "collapsed": false,
    "pycharm": {
     "name": "#%% md\n"
    }
   }
  },
  {
   "cell_type": "code",
   "execution_count": 355,
   "outputs": [
    {
     "name": "stdout",
     "output_type": "stream",
     "text": [
      "country_of_bean_origin 62\n",
      "cocoa_butter ['have_cocoa_butter' 'have_not_cocoa_butter']\n",
      "vanilla ['have_not_vanila' 'have_vanila']\n",
      "lecithin ['have_not_lecithin' 'have_lecithin']\n",
      "salt ['have_not_salt' 'have_salt']\n",
      "sugar ['have_sugar' 'have_not_sugar']\n",
      "sweetener_without_sugar ['have_not_sweetener_without_sugar' 'have_sweetener_without_sugar']\n",
      "first_taste 456\n",
      "second_taste 480\n",
      "third_taste 333\n",
      "fourth_taste 89\n"
     ]
    },
    {
     "data": {
      "text/plain": "     country_of_bean_origin  cocoa_percent  rating  counts_of_ingredients  \\\n0                Madagascar           76.0    3.75                      3   \n1        Dominican republic           76.0    3.50                      3   \n2                  Tanzania           76.0    3.25                      3   \n3                      Peru           63.0    3.75                      4   \n4                   Bolivia           70.0    3.50                      4   \n...                     ...            ...     ...                    ...   \n2219                  Blend           80.0    2.75                      4   \n2220               Colombia           75.0    3.75                      3   \n2221                 Belize           72.0    3.50                      3   \n2222                  Congo           70.0    3.25                      3   \n2223                  Blend           75.0    3.00                      3   \n\n           cocoa_butter          vanilla           lecithin           salt  \\\n0     have_cocoa_butter  have_not_vanila  have_not_lecithin  have_not_salt   \n1     have_cocoa_butter  have_not_vanila  have_not_lecithin  have_not_salt   \n2     have_cocoa_butter  have_not_vanila  have_not_lecithin  have_not_salt   \n3     have_cocoa_butter  have_not_vanila      have_lecithin  have_not_salt   \n4     have_cocoa_butter  have_not_vanila      have_lecithin  have_not_salt   \n...                 ...              ...                ...            ...   \n2219  have_cocoa_butter  have_not_vanila  have_not_lecithin      have_salt   \n2220  have_cocoa_butter  have_not_vanila  have_not_lecithin  have_not_salt   \n2221  have_cocoa_butter  have_not_vanila  have_not_lecithin  have_not_salt   \n2222  have_cocoa_butter  have_not_vanila  have_not_lecithin  have_not_salt   \n2223  have_cocoa_butter  have_not_vanila  have_not_lecithin  have_not_salt   \n\n               sugar           sweetener_without_sugar   first_taste  \\\n0         have_sugar  have_not_sweetener_without_sugar         cocoa   \n1         have_sugar  have_not_sweetener_without_sugar         cocoa   \n2         have_sugar  have_not_sweetener_without_sugar    rich cocoa   \n3         have_sugar  have_not_sweetener_without_sugar        fruity   \n4         have_sugar  have_not_sweetener_without_sugar       vegetal   \n...              ...                               ...           ...   \n2219  have_not_sugar      have_sweetener_without_sugar          waxy   \n2220      have_sugar  have_not_sweetener_without_sugar  strong nutty   \n2221      have_sugar  have_not_sweetener_without_sugar         muted   \n2222      have_sugar  have_not_sweetener_without_sugar         fatty   \n2223      have_sugar  have_not_sweetener_without_sugar         fatty   \n\n     second_taste third_taste fourth_taste  \n0      blackberry   full body          NaN  \n1         vegetal      savory          NaN  \n2           fatty      bready          NaN  \n3           melon      roasty          NaN  \n4           nutty         NaN          NaN  \n...           ...         ...          ...  \n2219      cloying     vegetal          NaN  \n2220  marshmallow         NaN          NaN  \n2221       roasty  accessible          NaN  \n2222    mild nuts  mild fruit          NaN  \n2223       earthy       cocoa          NaN  \n\n[2224 rows x 14 columns]",
      "text/html": "<div>\n<style scoped>\n    .dataframe tbody tr th:only-of-type {\n        vertical-align: middle;\n    }\n\n    .dataframe tbody tr th {\n        vertical-align: top;\n    }\n\n    .dataframe thead th {\n        text-align: right;\n    }\n</style>\n<table border=\"1\" class=\"dataframe\">\n  <thead>\n    <tr style=\"text-align: right;\">\n      <th></th>\n      <th>country_of_bean_origin</th>\n      <th>cocoa_percent</th>\n      <th>rating</th>\n      <th>counts_of_ingredients</th>\n      <th>cocoa_butter</th>\n      <th>vanilla</th>\n      <th>lecithin</th>\n      <th>salt</th>\n      <th>sugar</th>\n      <th>sweetener_without_sugar</th>\n      <th>first_taste</th>\n      <th>second_taste</th>\n      <th>third_taste</th>\n      <th>fourth_taste</th>\n    </tr>\n  </thead>\n  <tbody>\n    <tr>\n      <th>0</th>\n      <td>Madagascar</td>\n      <td>76.0</td>\n      <td>3.75</td>\n      <td>3</td>\n      <td>have_cocoa_butter</td>\n      <td>have_not_vanila</td>\n      <td>have_not_lecithin</td>\n      <td>have_not_salt</td>\n      <td>have_sugar</td>\n      <td>have_not_sweetener_without_sugar</td>\n      <td>cocoa</td>\n      <td>blackberry</td>\n      <td>full body</td>\n      <td>NaN</td>\n    </tr>\n    <tr>\n      <th>1</th>\n      <td>Dominican republic</td>\n      <td>76.0</td>\n      <td>3.50</td>\n      <td>3</td>\n      <td>have_cocoa_butter</td>\n      <td>have_not_vanila</td>\n      <td>have_not_lecithin</td>\n      <td>have_not_salt</td>\n      <td>have_sugar</td>\n      <td>have_not_sweetener_without_sugar</td>\n      <td>cocoa</td>\n      <td>vegetal</td>\n      <td>savory</td>\n      <td>NaN</td>\n    </tr>\n    <tr>\n      <th>2</th>\n      <td>Tanzania</td>\n      <td>76.0</td>\n      <td>3.25</td>\n      <td>3</td>\n      <td>have_cocoa_butter</td>\n      <td>have_not_vanila</td>\n      <td>have_not_lecithin</td>\n      <td>have_not_salt</td>\n      <td>have_sugar</td>\n      <td>have_not_sweetener_without_sugar</td>\n      <td>rich cocoa</td>\n      <td>fatty</td>\n      <td>bready</td>\n      <td>NaN</td>\n    </tr>\n    <tr>\n      <th>3</th>\n      <td>Peru</td>\n      <td>63.0</td>\n      <td>3.75</td>\n      <td>4</td>\n      <td>have_cocoa_butter</td>\n      <td>have_not_vanila</td>\n      <td>have_lecithin</td>\n      <td>have_not_salt</td>\n      <td>have_sugar</td>\n      <td>have_not_sweetener_without_sugar</td>\n      <td>fruity</td>\n      <td>melon</td>\n      <td>roasty</td>\n      <td>NaN</td>\n    </tr>\n    <tr>\n      <th>4</th>\n      <td>Bolivia</td>\n      <td>70.0</td>\n      <td>3.50</td>\n      <td>4</td>\n      <td>have_cocoa_butter</td>\n      <td>have_not_vanila</td>\n      <td>have_lecithin</td>\n      <td>have_not_salt</td>\n      <td>have_sugar</td>\n      <td>have_not_sweetener_without_sugar</td>\n      <td>vegetal</td>\n      <td>nutty</td>\n      <td>NaN</td>\n      <td>NaN</td>\n    </tr>\n    <tr>\n      <th>...</th>\n      <td>...</td>\n      <td>...</td>\n      <td>...</td>\n      <td>...</td>\n      <td>...</td>\n      <td>...</td>\n      <td>...</td>\n      <td>...</td>\n      <td>...</td>\n      <td>...</td>\n      <td>...</td>\n      <td>...</td>\n      <td>...</td>\n      <td>...</td>\n    </tr>\n    <tr>\n      <th>2219</th>\n      <td>Blend</td>\n      <td>80.0</td>\n      <td>2.75</td>\n      <td>4</td>\n      <td>have_cocoa_butter</td>\n      <td>have_not_vanila</td>\n      <td>have_not_lecithin</td>\n      <td>have_salt</td>\n      <td>have_not_sugar</td>\n      <td>have_sweetener_without_sugar</td>\n      <td>waxy</td>\n      <td>cloying</td>\n      <td>vegetal</td>\n      <td>NaN</td>\n    </tr>\n    <tr>\n      <th>2220</th>\n      <td>Colombia</td>\n      <td>75.0</td>\n      <td>3.75</td>\n      <td>3</td>\n      <td>have_cocoa_butter</td>\n      <td>have_not_vanila</td>\n      <td>have_not_lecithin</td>\n      <td>have_not_salt</td>\n      <td>have_sugar</td>\n      <td>have_not_sweetener_without_sugar</td>\n      <td>strong nutty</td>\n      <td>marshmallow</td>\n      <td>NaN</td>\n      <td>NaN</td>\n    </tr>\n    <tr>\n      <th>2221</th>\n      <td>Belize</td>\n      <td>72.0</td>\n      <td>3.50</td>\n      <td>3</td>\n      <td>have_cocoa_butter</td>\n      <td>have_not_vanila</td>\n      <td>have_not_lecithin</td>\n      <td>have_not_salt</td>\n      <td>have_sugar</td>\n      <td>have_not_sweetener_without_sugar</td>\n      <td>muted</td>\n      <td>roasty</td>\n      <td>accessible</td>\n      <td>NaN</td>\n    </tr>\n    <tr>\n      <th>2222</th>\n      <td>Congo</td>\n      <td>70.0</td>\n      <td>3.25</td>\n      <td>3</td>\n      <td>have_cocoa_butter</td>\n      <td>have_not_vanila</td>\n      <td>have_not_lecithin</td>\n      <td>have_not_salt</td>\n      <td>have_sugar</td>\n      <td>have_not_sweetener_without_sugar</td>\n      <td>fatty</td>\n      <td>mild nuts</td>\n      <td>mild fruit</td>\n      <td>NaN</td>\n    </tr>\n    <tr>\n      <th>2223</th>\n      <td>Blend</td>\n      <td>75.0</td>\n      <td>3.00</td>\n      <td>3</td>\n      <td>have_cocoa_butter</td>\n      <td>have_not_vanila</td>\n      <td>have_not_lecithin</td>\n      <td>have_not_salt</td>\n      <td>have_sugar</td>\n      <td>have_not_sweetener_without_sugar</td>\n      <td>fatty</td>\n      <td>earthy</td>\n      <td>cocoa</td>\n      <td>NaN</td>\n    </tr>\n  </tbody>\n</table>\n<p>2224 rows × 14 columns</p>\n</div>"
     },
     "execution_count": 355,
     "metadata": {},
     "output_type": "execute_result"
    }
   ],
   "source": [
    "# select the columns where the dtype is object\n",
    "cat = chocolate_n.select_dtypes(include=['object']).copy()\n",
    "\n",
    "huge = []\n",
    "is_binary = []\n",
    "drop_cols = []\n",
    "for col in cat.columns:\n",
    "    num = len(cat[col].unique())\n",
    "    if num < 4:\n",
    "        if num == 1:\n",
    "            drop_cols.append(col)\n",
    "            continue\n",
    "        elif num == 2:\n",
    "            is_binary.append(col)\n",
    "        else:\n",
    "            huge.append(col)\n",
    "        print(col, cat[col].unique())\n",
    "    else:\n",
    "        huge.append(col)\n",
    "        print(col, num)\n",
    "chocolate_n = chocolate_n.drop(drop_cols, axis=1)\n",
    "chocolate_n\n",
    "#chocolate[\"sugar\"].unique()"
   ],
   "metadata": {
    "collapsed": false,
    "pycharm": {
     "name": "#%%\n"
    }
   }
  },
  {
   "cell_type": "markdown",
   "source": [
    "## First look\n",
    "for instance \"sugar\" has only two values, so it's a boolean value,\n",
    "<br> on the other hand \"beans\" have just 1 value, so we can drop that column."
   ],
   "metadata": {
    "collapsed": false
   }
  },
  {
   "cell_type": "code",
   "execution_count": 356,
   "outputs": [
    {
     "data": {
      "text/plain": "     country_of_bean_origin  cocoa_percent  rating  counts_of_ingredients  \\\n0                Madagascar           76.0    3.75                      3   \n1        Dominican republic           76.0    3.50                      3   \n2                  Tanzania           76.0    3.25                      3   \n3                      Peru           63.0    3.75                      4   \n4                   Bolivia           70.0    3.50                      4   \n...                     ...            ...     ...                    ...   \n2219                  Blend           80.0    2.75                      4   \n2220               Colombia           75.0    3.75                      3   \n2221                 Belize           72.0    3.50                      3   \n2222                  Congo           70.0    3.25                      3   \n2223                  Blend           75.0    3.00                      3   \n\n      cocoa_butter  vanilla  lecithin  salt  sugar  sweetener_without_sugar  \\\n0                1        0         0     0      1                        0   \n1                1        0         0     0      1                        0   \n2                1        0         0     0      1                        0   \n3                1        0         1     0      1                        0   \n4                1        0         1     0      1                        0   \n...            ...      ...       ...   ...    ...                      ...   \n2219             1        0         0     1      0                        1   \n2220             1        0         0     0      1                        0   \n2221             1        0         0     0      1                        0   \n2222             1        0         0     0      1                        0   \n2223             1        0         0     0      1                        0   \n\n       first_taste second_taste third_taste fourth_taste  \n0            cocoa   blackberry   full body          NaN  \n1            cocoa      vegetal      savory          NaN  \n2       rich cocoa        fatty      bready          NaN  \n3           fruity        melon      roasty          NaN  \n4          vegetal        nutty         NaN          NaN  \n...            ...          ...         ...          ...  \n2219          waxy      cloying     vegetal          NaN  \n2220  strong nutty  marshmallow         NaN          NaN  \n2221         muted       roasty  accessible          NaN  \n2222         fatty    mild nuts  mild fruit          NaN  \n2223         fatty       earthy       cocoa          NaN  \n\n[2224 rows x 14 columns]",
      "text/html": "<div>\n<style scoped>\n    .dataframe tbody tr th:only-of-type {\n        vertical-align: middle;\n    }\n\n    .dataframe tbody tr th {\n        vertical-align: top;\n    }\n\n    .dataframe thead th {\n        text-align: right;\n    }\n</style>\n<table border=\"1\" class=\"dataframe\">\n  <thead>\n    <tr style=\"text-align: right;\">\n      <th></th>\n      <th>country_of_bean_origin</th>\n      <th>cocoa_percent</th>\n      <th>rating</th>\n      <th>counts_of_ingredients</th>\n      <th>cocoa_butter</th>\n      <th>vanilla</th>\n      <th>lecithin</th>\n      <th>salt</th>\n      <th>sugar</th>\n      <th>sweetener_without_sugar</th>\n      <th>first_taste</th>\n      <th>second_taste</th>\n      <th>third_taste</th>\n      <th>fourth_taste</th>\n    </tr>\n  </thead>\n  <tbody>\n    <tr>\n      <th>0</th>\n      <td>Madagascar</td>\n      <td>76.0</td>\n      <td>3.75</td>\n      <td>3</td>\n      <td>1</td>\n      <td>0</td>\n      <td>0</td>\n      <td>0</td>\n      <td>1</td>\n      <td>0</td>\n      <td>cocoa</td>\n      <td>blackberry</td>\n      <td>full body</td>\n      <td>NaN</td>\n    </tr>\n    <tr>\n      <th>1</th>\n      <td>Dominican republic</td>\n      <td>76.0</td>\n      <td>3.50</td>\n      <td>3</td>\n      <td>1</td>\n      <td>0</td>\n      <td>0</td>\n      <td>0</td>\n      <td>1</td>\n      <td>0</td>\n      <td>cocoa</td>\n      <td>vegetal</td>\n      <td>savory</td>\n      <td>NaN</td>\n    </tr>\n    <tr>\n      <th>2</th>\n      <td>Tanzania</td>\n      <td>76.0</td>\n      <td>3.25</td>\n      <td>3</td>\n      <td>1</td>\n      <td>0</td>\n      <td>0</td>\n      <td>0</td>\n      <td>1</td>\n      <td>0</td>\n      <td>rich cocoa</td>\n      <td>fatty</td>\n      <td>bready</td>\n      <td>NaN</td>\n    </tr>\n    <tr>\n      <th>3</th>\n      <td>Peru</td>\n      <td>63.0</td>\n      <td>3.75</td>\n      <td>4</td>\n      <td>1</td>\n      <td>0</td>\n      <td>1</td>\n      <td>0</td>\n      <td>1</td>\n      <td>0</td>\n      <td>fruity</td>\n      <td>melon</td>\n      <td>roasty</td>\n      <td>NaN</td>\n    </tr>\n    <tr>\n      <th>4</th>\n      <td>Bolivia</td>\n      <td>70.0</td>\n      <td>3.50</td>\n      <td>4</td>\n      <td>1</td>\n      <td>0</td>\n      <td>1</td>\n      <td>0</td>\n      <td>1</td>\n      <td>0</td>\n      <td>vegetal</td>\n      <td>nutty</td>\n      <td>NaN</td>\n      <td>NaN</td>\n    </tr>\n    <tr>\n      <th>...</th>\n      <td>...</td>\n      <td>...</td>\n      <td>...</td>\n      <td>...</td>\n      <td>...</td>\n      <td>...</td>\n      <td>...</td>\n      <td>...</td>\n      <td>...</td>\n      <td>...</td>\n      <td>...</td>\n      <td>...</td>\n      <td>...</td>\n      <td>...</td>\n    </tr>\n    <tr>\n      <th>2219</th>\n      <td>Blend</td>\n      <td>80.0</td>\n      <td>2.75</td>\n      <td>4</td>\n      <td>1</td>\n      <td>0</td>\n      <td>0</td>\n      <td>1</td>\n      <td>0</td>\n      <td>1</td>\n      <td>waxy</td>\n      <td>cloying</td>\n      <td>vegetal</td>\n      <td>NaN</td>\n    </tr>\n    <tr>\n      <th>2220</th>\n      <td>Colombia</td>\n      <td>75.0</td>\n      <td>3.75</td>\n      <td>3</td>\n      <td>1</td>\n      <td>0</td>\n      <td>0</td>\n      <td>0</td>\n      <td>1</td>\n      <td>0</td>\n      <td>strong nutty</td>\n      <td>marshmallow</td>\n      <td>NaN</td>\n      <td>NaN</td>\n    </tr>\n    <tr>\n      <th>2221</th>\n      <td>Belize</td>\n      <td>72.0</td>\n      <td>3.50</td>\n      <td>3</td>\n      <td>1</td>\n      <td>0</td>\n      <td>0</td>\n      <td>0</td>\n      <td>1</td>\n      <td>0</td>\n      <td>muted</td>\n      <td>roasty</td>\n      <td>accessible</td>\n      <td>NaN</td>\n    </tr>\n    <tr>\n      <th>2222</th>\n      <td>Congo</td>\n      <td>70.0</td>\n      <td>3.25</td>\n      <td>3</td>\n      <td>1</td>\n      <td>0</td>\n      <td>0</td>\n      <td>0</td>\n      <td>1</td>\n      <td>0</td>\n      <td>fatty</td>\n      <td>mild nuts</td>\n      <td>mild fruit</td>\n      <td>NaN</td>\n    </tr>\n    <tr>\n      <th>2223</th>\n      <td>Blend</td>\n      <td>75.0</td>\n      <td>3.00</td>\n      <td>3</td>\n      <td>1</td>\n      <td>0</td>\n      <td>0</td>\n      <td>0</td>\n      <td>1</td>\n      <td>0</td>\n      <td>fatty</td>\n      <td>earthy</td>\n      <td>cocoa</td>\n      <td>NaN</td>\n    </tr>\n  </tbody>\n</table>\n<p>2224 rows × 14 columns</p>\n</div>"
     },
     "execution_count": 356,
     "metadata": {},
     "output_type": "execute_result"
    }
   ],
   "source": [
    "def replace_binary(data_set : pd.DataFrame, cols : []):\n",
    "    data_copy = data_set.copy()\n",
    "    for column in cols:\n",
    "        data_copy[column] = np.where(data_set[column].str.contains(\"_not_\"), 0, 1)\n",
    "    return data_copy\n",
    "\n",
    "chocolate_n2 = replace_binary(chocolate_n, is_binary)\n",
    "chocolate_n2"
   ],
   "metadata": {
    "collapsed": false,
    "pycharm": {
     "name": "#%%\n"
    }
   }
  },
  {
   "cell_type": "markdown",
   "source": [
    "# first approach\n",
    "###  Label Encoding\n",
    "let's use label encoding to encode the tastes, and try to predict the score after that.\n",
    "\n",
    "this approach is quite easy to implement but might work badly,\n",
    "due to the fact that we will \"rank\" some categories by order and there is no way,\n",
    "for instance that \"cocoa\" should be 10 when \"mild fruit\" would be given the value 1.\n",
    "<br>hence it will add x10 weight."
   ],
   "metadata": {
    "collapsed": false,
    "pycharm": {
     "name": "#%% md\n"
    }
   }
  },
  {
   "cell_type": "code",
   "execution_count": 357,
   "outputs": [
    {
     "data": {
      "text/plain": "      country_of_bean_origin  cocoa_percent  rating  counts_of_ingredients  \\\n0                         28           76.0    3.75                      3   \n1                         12           76.0    3.50                      3   \n2                         52           76.0    3.25                      3   \n3                         36           63.0    3.75                      4   \n4                          3           70.0    3.50                      4   \n...                      ...            ...     ...                    ...   \n2219                       2           80.0    2.75                      4   \n2220                       8           75.0    3.75                      3   \n2221                       1           72.0    3.50                      3   \n2222                       9           70.0    3.25                      3   \n2223                       2           75.0    3.00                      3   \n\n      cocoa_butter  vanilla  lecithin  salt  sugar  sweetener_without_sugar  \\\n0                1        0         0     0      1                        0   \n1                1        0         0     0      1                        0   \n2                1        0         0     0      1                        0   \n3                1        0         1     0      1                        0   \n4                1        0         1     0      1                        0   \n...            ...      ...       ...   ...    ...                      ...   \n2219             1        0         0     1      0                        1   \n2220             1        0         0     0      1                        0   \n2221             1        0         0     0      1                        0   \n2222             1        0         0     0      1                        0   \n2223             1        0         0     0      1                        0   \n\n      first_taste  second_taste  third_taste  fourth_taste  \n0              86            27          111            -1  \n1              86           460          256            -1  \n2             319           126           26            -1  \n3             137           222          247            -1  \n4             437           288           -1            -1  \n...           ...           ...          ...           ...  \n2219          446            84          316            -1  \n2220          397           214           -1            -1  \n2221          265           357            0            -1  \n2222          130           255          180            -1  \n2223          130           121           63            -1  \n\n[2224 rows x 14 columns]",
      "text/html": "<div>\n<style scoped>\n    .dataframe tbody tr th:only-of-type {\n        vertical-align: middle;\n    }\n\n    .dataframe tbody tr th {\n        vertical-align: top;\n    }\n\n    .dataframe thead th {\n        text-align: right;\n    }\n</style>\n<table border=\"1\" class=\"dataframe\">\n  <thead>\n    <tr style=\"text-align: right;\">\n      <th></th>\n      <th>country_of_bean_origin</th>\n      <th>cocoa_percent</th>\n      <th>rating</th>\n      <th>counts_of_ingredients</th>\n      <th>cocoa_butter</th>\n      <th>vanilla</th>\n      <th>lecithin</th>\n      <th>salt</th>\n      <th>sugar</th>\n      <th>sweetener_without_sugar</th>\n      <th>first_taste</th>\n      <th>second_taste</th>\n      <th>third_taste</th>\n      <th>fourth_taste</th>\n    </tr>\n  </thead>\n  <tbody>\n    <tr>\n      <th>0</th>\n      <td>28</td>\n      <td>76.0</td>\n      <td>3.75</td>\n      <td>3</td>\n      <td>1</td>\n      <td>0</td>\n      <td>0</td>\n      <td>0</td>\n      <td>1</td>\n      <td>0</td>\n      <td>86</td>\n      <td>27</td>\n      <td>111</td>\n      <td>-1</td>\n    </tr>\n    <tr>\n      <th>1</th>\n      <td>12</td>\n      <td>76.0</td>\n      <td>3.50</td>\n      <td>3</td>\n      <td>1</td>\n      <td>0</td>\n      <td>0</td>\n      <td>0</td>\n      <td>1</td>\n      <td>0</td>\n      <td>86</td>\n      <td>460</td>\n      <td>256</td>\n      <td>-1</td>\n    </tr>\n    <tr>\n      <th>2</th>\n      <td>52</td>\n      <td>76.0</td>\n      <td>3.25</td>\n      <td>3</td>\n      <td>1</td>\n      <td>0</td>\n      <td>0</td>\n      <td>0</td>\n      <td>1</td>\n      <td>0</td>\n      <td>319</td>\n      <td>126</td>\n      <td>26</td>\n      <td>-1</td>\n    </tr>\n    <tr>\n      <th>3</th>\n      <td>36</td>\n      <td>63.0</td>\n      <td>3.75</td>\n      <td>4</td>\n      <td>1</td>\n      <td>0</td>\n      <td>1</td>\n      <td>0</td>\n      <td>1</td>\n      <td>0</td>\n      <td>137</td>\n      <td>222</td>\n      <td>247</td>\n      <td>-1</td>\n    </tr>\n    <tr>\n      <th>4</th>\n      <td>3</td>\n      <td>70.0</td>\n      <td>3.50</td>\n      <td>4</td>\n      <td>1</td>\n      <td>0</td>\n      <td>1</td>\n      <td>0</td>\n      <td>1</td>\n      <td>0</td>\n      <td>437</td>\n      <td>288</td>\n      <td>-1</td>\n      <td>-1</td>\n    </tr>\n    <tr>\n      <th>...</th>\n      <td>...</td>\n      <td>...</td>\n      <td>...</td>\n      <td>...</td>\n      <td>...</td>\n      <td>...</td>\n      <td>...</td>\n      <td>...</td>\n      <td>...</td>\n      <td>...</td>\n      <td>...</td>\n      <td>...</td>\n      <td>...</td>\n      <td>...</td>\n    </tr>\n    <tr>\n      <th>2219</th>\n      <td>2</td>\n      <td>80.0</td>\n      <td>2.75</td>\n      <td>4</td>\n      <td>1</td>\n      <td>0</td>\n      <td>0</td>\n      <td>1</td>\n      <td>0</td>\n      <td>1</td>\n      <td>446</td>\n      <td>84</td>\n      <td>316</td>\n      <td>-1</td>\n    </tr>\n    <tr>\n      <th>2220</th>\n      <td>8</td>\n      <td>75.0</td>\n      <td>3.75</td>\n      <td>3</td>\n      <td>1</td>\n      <td>0</td>\n      <td>0</td>\n      <td>0</td>\n      <td>1</td>\n      <td>0</td>\n      <td>397</td>\n      <td>214</td>\n      <td>-1</td>\n      <td>-1</td>\n    </tr>\n    <tr>\n      <th>2221</th>\n      <td>1</td>\n      <td>72.0</td>\n      <td>3.50</td>\n      <td>3</td>\n      <td>1</td>\n      <td>0</td>\n      <td>0</td>\n      <td>0</td>\n      <td>1</td>\n      <td>0</td>\n      <td>265</td>\n      <td>357</td>\n      <td>0</td>\n      <td>-1</td>\n    </tr>\n    <tr>\n      <th>2222</th>\n      <td>9</td>\n      <td>70.0</td>\n      <td>3.25</td>\n      <td>3</td>\n      <td>1</td>\n      <td>0</td>\n      <td>0</td>\n      <td>0</td>\n      <td>1</td>\n      <td>0</td>\n      <td>130</td>\n      <td>255</td>\n      <td>180</td>\n      <td>-1</td>\n    </tr>\n    <tr>\n      <th>2223</th>\n      <td>2</td>\n      <td>75.0</td>\n      <td>3.00</td>\n      <td>3</td>\n      <td>1</td>\n      <td>0</td>\n      <td>0</td>\n      <td>0</td>\n      <td>1</td>\n      <td>0</td>\n      <td>130</td>\n      <td>121</td>\n      <td>63</td>\n      <td>-1</td>\n    </tr>\n  </tbody>\n</table>\n<p>2224 rows × 14 columns</p>\n</div>"
     },
     "execution_count": 357,
     "metadata": {},
     "output_type": "execute_result"
    }
   ],
   "source": [
    "def label_encode(data_set : pd.DataFrame, columns : []):\n",
    "    data_copy = data_set.copy()\n",
    "    for column in columns:\n",
    "        data_copy[column] = data_copy[column].astype('category')\n",
    "        data_copy[column] = data_copy[column].cat.codes\n",
    "    return data_copy\n",
    "chocolate_cat = label_encode(chocolate_n2, huge)\n",
    "chocolate_cat"
   ],
   "metadata": {
    "collapsed": false,
    "pycharm": {
     "name": "#%%\n"
    }
   }
  },
  {
   "cell_type": "markdown",
   "source": [
    "## Trying few models\n",
    "### preparing the data"
   ],
   "metadata": {
    "collapsed": false,
    "pycharm": {
     "name": "#%% md\n"
    }
   }
  },
  {
   "cell_type": "code",
   "execution_count": 358,
   "outputs": [
    {
     "name": "stdout",
     "output_type": "stream",
     "text": [
      "(1779, 14) (445, 14)\n"
     ]
    }
   ],
   "source": [
    "train_set, test_set = train_test_split(chocolate_cat, test_size = 0.2, random_state = 2)\n",
    "# print( train_set.shape)\n",
    "# print( test_set.shape)\n",
    "\n",
    "def split_test_train(data_set):\n",
    "    return data_set.drop('rating', axis = 1), data_set['rating']\n",
    "\n",
    "x_train, y_train = split_test_train(train_set)\n",
    "x_test, y_test = split_test_train(test_set)\n",
    "print(train_set.shape, test_set.shape)"
   ],
   "metadata": {
    "collapsed": false,
    "pycharm": {
     "name": "#%%\n"
    }
   }
  },
  {
   "cell_type": "markdown",
   "source": [
    "## KNN\n",
    "let's use knn for our first try"
   ],
   "metadata": {
    "collapsed": false,
    "pycharm": {
     "name": "#%% md\n"
    }
   }
  },
  {
   "cell_type": "code",
   "execution_count": 359,
   "outputs": [
    {
     "name": "stdout",
     "output_type": "stream",
     "text": [
      "KNeighborsRegressor(n_neighbors=3)\n",
      "Scores: [-0.26611267 -0.20962079 -0.21281991 -0.20934613 -0.22830836 -0.21393727\n",
      " -0.25016074 -0.22315855 -0.22023252 -0.18278249]\n",
      "Mean: -0.22164794271990518\n",
      "Standard deviation: 0.021869242289076347\n",
      "\n",
      "KNeighborsRegressor(n_neighbors=9)\n",
      "Scores: [-0.20648668 -0.18822392 -0.18356395 -0.17416042 -0.20407806 -0.18778853\n",
      " -0.21254456 -0.19711281 -0.1996383  -0.14536479]\n",
      "Mean: -0.1898962029964114\n",
      "Standard deviation: 0.01847783244351037\n",
      "\n",
      "KNeighborsRegressor(n_neighbors=15)\n",
      "Scores: [-0.20169788 -0.17312353 -0.1676475  -0.16825612 -0.19271086 -0.18534644\n",
      " -0.20266648 -0.19138009 -0.18984794 -0.15076472]\n",
      "Mean: -0.18234415621010455\n",
      "Standard deviation: 0.015933441456796652\n",
      "\n",
      "KNeighborsRegressor(n_neighbors=21)\n",
      "Scores: [-0.20460454 -0.17163953 -0.16468837 -0.1628273  -0.19006366 -0.18469209\n",
      " -0.19692737 -0.19076375 -0.18744025 -0.15304476]\n",
      "Mean: -0.18066916385145226\n",
      "Standard deviation: 0.015835972876983226\n",
      "\n",
      "KNeighborsRegressor(n_neighbors=27)\n",
      "Scores: [-0.20378824 -0.16945743 -0.16404381 -0.16024948 -0.18965995 -0.18315736\n",
      " -0.1956851  -0.18898663 -0.18786611 -0.15176682]\n",
      "Mean: -0.17946609215985773\n",
      "Standard deviation: 0.01614903366971156\n",
      "\n"
     ]
    }
   ],
   "source": [
    "def display_scores(m_scores):\n",
    "    print(\"Scores:\", m_scores)\n",
    "    print(\"Mean:\", m_scores.mean())\n",
    "    print(\"Standard deviation:\", m_scores.std())\n",
    "\n",
    "from sklearn.neighbors import KNeighborsRegressor\n",
    "\n",
    "x_train_copy = x_train.copy()\n",
    "\n",
    "scalar = StandardScaler()\n",
    "x_train_copy = scalar.fit_transform(x_train_copy)\n",
    "\n",
    "for i in range(3, 30, 6):\n",
    "    model = KNeighborsRegressor(n_neighbors=i)\n",
    "    scores = cross_val_score(model, x_train_copy, y_train, scoring=\"neg_mean_squared_error\", cv = 10)\n",
    "    print(model)\n",
    "    display_scores(scores)\n",
    "    print()"
   ],
   "metadata": {
    "collapsed": false,
    "pycharm": {
     "name": "#%%\n"
    }
   }
  },
  {
   "cell_type": "markdown",
   "source": [
    "### KNN overview\n",
    "Surprisingly even with the \"Bad\" encoding of tastes its looks like KNN performs pretty well.\n",
    "with an average error of -0.18, that actually might be just enough as again,\n",
    "this is an expert rating and well it might be a bit subjective, so 0.18 error is quite low.\n",
    "\n",
    "on the other hand most of our values are between 2.5-4 so 0.2 error might be significant.\n",
    "\n",
    "\n",
    "#### we will try to improve the score later\n",
    "\n",
    "## linear Regression\n",
    "next step lets try the linear regression model"
   ],
   "metadata": {
    "collapsed": false,
    "pycharm": {
     "name": "#%% md\n"
    }
   }
  },
  {
   "cell_type": "code",
   "execution_count": 360,
   "outputs": [
    {
     "name": "stdout",
     "output_type": "stream",
     "text": [
      "Scores: [-0.19441201 -0.17255794 -0.16861555 -0.15908916 -0.1738905  -0.18376131\n",
      " -0.18789632 -0.19395831 -0.18730547 -0.14521   ]\n",
      "Mean: -0.17666965675048202\n",
      "Standard deviation: 0.015137441089699288\n"
     ]
    }
   ],
   "source": [
    "from sklearn.linear_model import LinearRegression\n",
    "from sklearn.metrics import mean_squared_error\n",
    "\n",
    "lin_reg = LinearRegression()\n",
    "scores = cross_val_score(lin_reg, x_train_copy, y_train, scoring=\"neg_mean_squared_error\", cv = 10)\n",
    "\n",
    "display_scores(scores)"
   ],
   "metadata": {
    "collapsed": false,
    "pycharm": {
     "name": "#%%\n"
    }
   }
  },
  {
   "cell_type": "markdown",
   "source": [
    "### Linear Regression overview\n",
    "linear regression actually perform a little bit better than the KNN model.\n",
    "with an error of 0.17 that again isn't that bad.\n"
   ],
   "metadata": {
    "collapsed": false,
    "pycharm": {
     "name": "#%% md\n"
    }
   }
  },
  {
   "cell_type": "code",
   "execution_count": 361,
   "outputs": [
    {
     "name": "stdout",
     "output_type": "stream",
     "text": [
      "0.430718973948816 0.18551883451952084\n"
     ]
    }
   ],
   "source": [
    "lin_reg.fit(x_train_copy, y_train)\n",
    "\n",
    "x_test_copy = scalar.transform(x_test)\n",
    "pred = lin_reg.predict(x_test_copy)\n",
    "\n",
    "lin_mse = mean_squared_error(y_test, pred)\n",
    "lin_rmse = np.sqrt(lin_mse)\n",
    "lin_rmse\n",
    "print(lin_rmse, lin_mse)\n",
    "#pred"
   ],
   "metadata": {
    "collapsed": false,
    "pycharm": {
     "name": "#%%\n"
    }
   }
  },
  {
   "cell_type": "code",
   "execution_count": 362,
   "outputs": [
    {
     "data": {
      "text/plain": "0.5043699484939802"
     },
     "execution_count": 362,
     "metadata": {},
     "output_type": "execute_result"
    }
   ],
   "source": [
    "model = KNeighborsRegressor(n_neighbors=10)\n",
    "model.fit(x_train, y_train)\n",
    "\n",
    "pred = model.predict(x_test_copy)\n",
    "\n",
    "lin_mse = mean_squared_error(y_test, pred)\n",
    "lin_rmse = np.sqrt(lin_mse)\n",
    "lin_rmse"
   ],
   "metadata": {
    "collapsed": false,
    "pycharm": {
     "name": "#%%\n"
    }
   }
  },
  {
   "cell_type": "markdown",
   "source": [
    "### Correlation to rating\n",
    "lets take a look at the correlation's we have to \"rating\""
   ],
   "metadata": {
    "collapsed": false,
    "pycharm": {
     "name": "#%% md\n",
     "is_executing": true
    }
   }
  },
  {
   "cell_type": "code",
   "execution_count": 363,
   "outputs": [
    {
     "data": {
      "text/plain": "country_of_bean_origin     0.038539\ncocoa_percent             -0.082468\nrating                     1.000000\ncounts_of_ingredients     -0.083579\ncocoa_butter               0.022779\nvanilla                   -0.158961\nlecithin                  -0.063290\nsalt                      -0.043152\nsugar                      0.099833\nsweetener_without_sugar   -0.096052\nfirst_taste               -0.061379\nsecond_taste              -0.074703\nthird_taste               -0.103739\nfourth_taste              -0.044089\nName: rating, dtype: float64"
     },
     "execution_count": 363,
     "metadata": {},
     "output_type": "execute_result"
    }
   ],
   "source": [
    "train_set.corr()[\"rating\"]"
   ],
   "metadata": {
    "collapsed": false,
    "pycharm": {
     "name": "#%%\n"
    }
   }
  },
  {
   "cell_type": "markdown",
   "source": [
    "we can see that more or less every thing effect the outcome,\n",
    "\n",
    "country of bean origin doesnt have any effect ( expected due to poor choice of encoding )\n",
    "and surprisingly first,second... tastes hae some minor impact,\n",
    "with the negative correlation i the fact that -1 is No taste\n",
    "we can conclude that the less taste's there are in a chocolate the higher the quality is.\n",
    "\n",
    "## Another approach\n",
    "let's take a look at home many \"Values\" there are in country of bean.\n",
    "and binary encode only the top choices for country of origin."
   ],
   "metadata": {
    "collapsed": false
   }
  },
  {
   "cell_type": "code",
   "execution_count": 364,
   "outputs": [
    {
     "data": {
      "text/plain": "Venezuela             238\nPeru                  207\nDominican republic    200\nEcuador               194\nMadagascar            157\nBlend                 140\nNicaragua              92\nBrazil                 74\nBolivia                71\nColombia               65\nBelize                 65\nVietnam                64\nTanzania               63\nGuatemala              53\nPapua new guinea       48\nMexico                 45\nCosta rica             42\nTrinidad               38\nGhana                  32\nU.s.a.                 28\nName: country_of_bean_origin, dtype: int64"
     },
     "execution_count": 364,
     "metadata": {},
     "output_type": "execute_result"
    }
   ],
   "source": [
    "chocolate_n2[\"country_of_bean_origin\"].value_counts().head(20)"
   ],
   "metadata": {
    "collapsed": false,
    "pycharm": {
     "name": "#%%\n"
    }
   }
  },
  {
   "cell_type": "code",
   "execution_count": 365,
   "outputs": [
    {
     "data": {
      "text/plain": "     country_of_bean_origin  cocoa_percent  rating  counts_of_ingredients  \\\n0                Madagascar           76.0    3.75                      3   \n1        Dominican republic           76.0    3.50                      3   \n2                  Tanzania           76.0    3.25                      3   \n3                      Peru           63.0    3.75                      4   \n4                   Bolivia           70.0    3.50                      4   \n...                     ...            ...     ...                    ...   \n2219                  Blend           80.0    2.75                      4   \n2220               Colombia           75.0    3.75                      3   \n2221                 Belize           72.0    3.50                      3   \n2222                  Congo           70.0    3.25                      3   \n2223                  Blend           75.0    3.00                      3   \n\n      cocoa_butter  vanilla  lecithin  salt  sugar  sweetener_without_sugar  \\\n0                1        0         0     0      1                        0   \n1                1        0         0     0      1                        0   \n2                1        0         0     0      1                        0   \n3                1        0         1     0      1                        0   \n4                1        0         1     0      1                        0   \n...            ...      ...       ...   ...    ...                      ...   \n2219             1        0         0     1      0                        1   \n2220             1        0         0     0      1                        0   \n2221             1        0         0     0      1                        0   \n2222             1        0         0     0      1                        0   \n2223             1        0         0     0      1                        0   \n\n       first_taste second_taste third_taste fourth_taste  \n0            cocoa   blackberry   full body          NaN  \n1            cocoa      vegetal      savory          NaN  \n2       rich cocoa        fatty      bready          NaN  \n3           fruity        melon      roasty          NaN  \n4          vegetal        nutty         NaN          NaN  \n...            ...          ...         ...          ...  \n2219          waxy      cloying     vegetal          NaN  \n2220  strong nutty  marshmallow         NaN          NaN  \n2221         muted       roasty  accessible          NaN  \n2222         fatty    mild nuts  mild fruit          NaN  \n2223         fatty       earthy       cocoa          NaN  \n\n[2224 rows x 14 columns]",
      "text/html": "<div>\n<style scoped>\n    .dataframe tbody tr th:only-of-type {\n        vertical-align: middle;\n    }\n\n    .dataframe tbody tr th {\n        vertical-align: top;\n    }\n\n    .dataframe thead th {\n        text-align: right;\n    }\n</style>\n<table border=\"1\" class=\"dataframe\">\n  <thead>\n    <tr style=\"text-align: right;\">\n      <th></th>\n      <th>country_of_bean_origin</th>\n      <th>cocoa_percent</th>\n      <th>rating</th>\n      <th>counts_of_ingredients</th>\n      <th>cocoa_butter</th>\n      <th>vanilla</th>\n      <th>lecithin</th>\n      <th>salt</th>\n      <th>sugar</th>\n      <th>sweetener_without_sugar</th>\n      <th>first_taste</th>\n      <th>second_taste</th>\n      <th>third_taste</th>\n      <th>fourth_taste</th>\n    </tr>\n  </thead>\n  <tbody>\n    <tr>\n      <th>0</th>\n      <td>Madagascar</td>\n      <td>76.0</td>\n      <td>3.75</td>\n      <td>3</td>\n      <td>1</td>\n      <td>0</td>\n      <td>0</td>\n      <td>0</td>\n      <td>1</td>\n      <td>0</td>\n      <td>cocoa</td>\n      <td>blackberry</td>\n      <td>full body</td>\n      <td>NaN</td>\n    </tr>\n    <tr>\n      <th>1</th>\n      <td>Dominican republic</td>\n      <td>76.0</td>\n      <td>3.50</td>\n      <td>3</td>\n      <td>1</td>\n      <td>0</td>\n      <td>0</td>\n      <td>0</td>\n      <td>1</td>\n      <td>0</td>\n      <td>cocoa</td>\n      <td>vegetal</td>\n      <td>savory</td>\n      <td>NaN</td>\n    </tr>\n    <tr>\n      <th>2</th>\n      <td>Tanzania</td>\n      <td>76.0</td>\n      <td>3.25</td>\n      <td>3</td>\n      <td>1</td>\n      <td>0</td>\n      <td>0</td>\n      <td>0</td>\n      <td>1</td>\n      <td>0</td>\n      <td>rich cocoa</td>\n      <td>fatty</td>\n      <td>bready</td>\n      <td>NaN</td>\n    </tr>\n    <tr>\n      <th>3</th>\n      <td>Peru</td>\n      <td>63.0</td>\n      <td>3.75</td>\n      <td>4</td>\n      <td>1</td>\n      <td>0</td>\n      <td>1</td>\n      <td>0</td>\n      <td>1</td>\n      <td>0</td>\n      <td>fruity</td>\n      <td>melon</td>\n      <td>roasty</td>\n      <td>NaN</td>\n    </tr>\n    <tr>\n      <th>4</th>\n      <td>Bolivia</td>\n      <td>70.0</td>\n      <td>3.50</td>\n      <td>4</td>\n      <td>1</td>\n      <td>0</td>\n      <td>1</td>\n      <td>0</td>\n      <td>1</td>\n      <td>0</td>\n      <td>vegetal</td>\n      <td>nutty</td>\n      <td>NaN</td>\n      <td>NaN</td>\n    </tr>\n    <tr>\n      <th>...</th>\n      <td>...</td>\n      <td>...</td>\n      <td>...</td>\n      <td>...</td>\n      <td>...</td>\n      <td>...</td>\n      <td>...</td>\n      <td>...</td>\n      <td>...</td>\n      <td>...</td>\n      <td>...</td>\n      <td>...</td>\n      <td>...</td>\n      <td>...</td>\n    </tr>\n    <tr>\n      <th>2219</th>\n      <td>Blend</td>\n      <td>80.0</td>\n      <td>2.75</td>\n      <td>4</td>\n      <td>1</td>\n      <td>0</td>\n      <td>0</td>\n      <td>1</td>\n      <td>0</td>\n      <td>1</td>\n      <td>waxy</td>\n      <td>cloying</td>\n      <td>vegetal</td>\n      <td>NaN</td>\n    </tr>\n    <tr>\n      <th>2220</th>\n      <td>Colombia</td>\n      <td>75.0</td>\n      <td>3.75</td>\n      <td>3</td>\n      <td>1</td>\n      <td>0</td>\n      <td>0</td>\n      <td>0</td>\n      <td>1</td>\n      <td>0</td>\n      <td>strong nutty</td>\n      <td>marshmallow</td>\n      <td>NaN</td>\n      <td>NaN</td>\n    </tr>\n    <tr>\n      <th>2221</th>\n      <td>Belize</td>\n      <td>72.0</td>\n      <td>3.50</td>\n      <td>3</td>\n      <td>1</td>\n      <td>0</td>\n      <td>0</td>\n      <td>0</td>\n      <td>1</td>\n      <td>0</td>\n      <td>muted</td>\n      <td>roasty</td>\n      <td>accessible</td>\n      <td>NaN</td>\n    </tr>\n    <tr>\n      <th>2222</th>\n      <td>Congo</td>\n      <td>70.0</td>\n      <td>3.25</td>\n      <td>3</td>\n      <td>1</td>\n      <td>0</td>\n      <td>0</td>\n      <td>0</td>\n      <td>1</td>\n      <td>0</td>\n      <td>fatty</td>\n      <td>mild nuts</td>\n      <td>mild fruit</td>\n      <td>NaN</td>\n    </tr>\n    <tr>\n      <th>2223</th>\n      <td>Blend</td>\n      <td>75.0</td>\n      <td>3.00</td>\n      <td>3</td>\n      <td>1</td>\n      <td>0</td>\n      <td>0</td>\n      <td>0</td>\n      <td>1</td>\n      <td>0</td>\n      <td>fatty</td>\n      <td>earthy</td>\n      <td>cocoa</td>\n      <td>NaN</td>\n    </tr>\n  </tbody>\n</table>\n<p>2224 rows × 14 columns</p>\n</div>"
     },
     "execution_count": 365,
     "metadata": {},
     "output_type": "execute_result"
    }
   ],
   "source": [
    "chocolate_n2"
   ],
   "metadata": {
    "collapsed": false,
    "pycharm": {
     "name": "#%%\n"
    }
   }
  },
  {
   "cell_type": "code",
   "execution_count": 366,
   "outputs": [
    {
     "name": "stdout",
     "output_type": "stream",
     "text": [
      "Venezuela 0\n",
      "Peru 1\n",
      "Dominican republic 2\n",
      "Ecuador 3\n",
      "Madagascar 4\n",
      "Blend 5\n",
      "Nicaragua 6\n",
      "Brazil 7\n",
      "Bolivia 8\n",
      "Colombia 9\n",
      "Belize 10\n",
      "Vietnam 11\n",
      "Tanzania 12\n",
      "Guatemala 13\n",
      "Papua new guinea 14\n"
     ]
    },
    {
     "data": {
      "text/plain": "      bean_origin  cocoa_percent  rating  counts_of_ingredients  cocoa_butter  \\\n0               4           76.0    3.75                      3             1   \n1               2           76.0    3.50                      3             1   \n2              12           76.0    3.25                      3             1   \n3               1           63.0    3.75                      4             1   \n4               8           70.0    3.50                      4             1   \n...           ...            ...     ...                    ...           ...   \n2219            5           80.0    2.75                      4             1   \n2220            9           75.0    3.75                      3             1   \n2221           10           72.0    3.50                      3             1   \n2222           15           70.0    3.25                      3             1   \n2223            5           75.0    3.00                      3             1   \n\n      vanilla  lecithin  salt  sugar  sweetener_without_sugar   first_taste  \\\n0           0         0     0      1                        0         cocoa   \n1           0         0     0      1                        0         cocoa   \n2           0         0     0      1                        0    rich cocoa   \n3           0         1     0      1                        0        fruity   \n4           0         1     0      1                        0       vegetal   \n...       ...       ...   ...    ...                      ...           ...   \n2219        0         0     1      0                        1          waxy   \n2220        0         0     0      1                        0  strong nutty   \n2221        0         0     0      1                        0         muted   \n2222        0         0     0      1                        0         fatty   \n2223        0         0     0      1                        0         fatty   \n\n     second_taste third_taste fourth_taste  \n0      blackberry   full body          NaN  \n1         vegetal      savory          NaN  \n2           fatty      bready          NaN  \n3           melon      roasty          NaN  \n4           nutty         NaN          NaN  \n...           ...         ...          ...  \n2219      cloying     vegetal          NaN  \n2220  marshmallow         NaN          NaN  \n2221       roasty  accessible          NaN  \n2222    mild nuts  mild fruit          NaN  \n2223       earthy       cocoa          NaN  \n\n[2224 rows x 14 columns]",
      "text/html": "<div>\n<style scoped>\n    .dataframe tbody tr th:only-of-type {\n        vertical-align: middle;\n    }\n\n    .dataframe tbody tr th {\n        vertical-align: top;\n    }\n\n    .dataframe thead th {\n        text-align: right;\n    }\n</style>\n<table border=\"1\" class=\"dataframe\">\n  <thead>\n    <tr style=\"text-align: right;\">\n      <th></th>\n      <th>bean_origin</th>\n      <th>cocoa_percent</th>\n      <th>rating</th>\n      <th>counts_of_ingredients</th>\n      <th>cocoa_butter</th>\n      <th>vanilla</th>\n      <th>lecithin</th>\n      <th>salt</th>\n      <th>sugar</th>\n      <th>sweetener_without_sugar</th>\n      <th>first_taste</th>\n      <th>second_taste</th>\n      <th>third_taste</th>\n      <th>fourth_taste</th>\n    </tr>\n  </thead>\n  <tbody>\n    <tr>\n      <th>0</th>\n      <td>4</td>\n      <td>76.0</td>\n      <td>3.75</td>\n      <td>3</td>\n      <td>1</td>\n      <td>0</td>\n      <td>0</td>\n      <td>0</td>\n      <td>1</td>\n      <td>0</td>\n      <td>cocoa</td>\n      <td>blackberry</td>\n      <td>full body</td>\n      <td>NaN</td>\n    </tr>\n    <tr>\n      <th>1</th>\n      <td>2</td>\n      <td>76.0</td>\n      <td>3.50</td>\n      <td>3</td>\n      <td>1</td>\n      <td>0</td>\n      <td>0</td>\n      <td>0</td>\n      <td>1</td>\n      <td>0</td>\n      <td>cocoa</td>\n      <td>vegetal</td>\n      <td>savory</td>\n      <td>NaN</td>\n    </tr>\n    <tr>\n      <th>2</th>\n      <td>12</td>\n      <td>76.0</td>\n      <td>3.25</td>\n      <td>3</td>\n      <td>1</td>\n      <td>0</td>\n      <td>0</td>\n      <td>0</td>\n      <td>1</td>\n      <td>0</td>\n      <td>rich cocoa</td>\n      <td>fatty</td>\n      <td>bready</td>\n      <td>NaN</td>\n    </tr>\n    <tr>\n      <th>3</th>\n      <td>1</td>\n      <td>63.0</td>\n      <td>3.75</td>\n      <td>4</td>\n      <td>1</td>\n      <td>0</td>\n      <td>1</td>\n      <td>0</td>\n      <td>1</td>\n      <td>0</td>\n      <td>fruity</td>\n      <td>melon</td>\n      <td>roasty</td>\n      <td>NaN</td>\n    </tr>\n    <tr>\n      <th>4</th>\n      <td>8</td>\n      <td>70.0</td>\n      <td>3.50</td>\n      <td>4</td>\n      <td>1</td>\n      <td>0</td>\n      <td>1</td>\n      <td>0</td>\n      <td>1</td>\n      <td>0</td>\n      <td>vegetal</td>\n      <td>nutty</td>\n      <td>NaN</td>\n      <td>NaN</td>\n    </tr>\n    <tr>\n      <th>...</th>\n      <td>...</td>\n      <td>...</td>\n      <td>...</td>\n      <td>...</td>\n      <td>...</td>\n      <td>...</td>\n      <td>...</td>\n      <td>...</td>\n      <td>...</td>\n      <td>...</td>\n      <td>...</td>\n      <td>...</td>\n      <td>...</td>\n      <td>...</td>\n    </tr>\n    <tr>\n      <th>2219</th>\n      <td>5</td>\n      <td>80.0</td>\n      <td>2.75</td>\n      <td>4</td>\n      <td>1</td>\n      <td>0</td>\n      <td>0</td>\n      <td>1</td>\n      <td>0</td>\n      <td>1</td>\n      <td>waxy</td>\n      <td>cloying</td>\n      <td>vegetal</td>\n      <td>NaN</td>\n    </tr>\n    <tr>\n      <th>2220</th>\n      <td>9</td>\n      <td>75.0</td>\n      <td>3.75</td>\n      <td>3</td>\n      <td>1</td>\n      <td>0</td>\n      <td>0</td>\n      <td>0</td>\n      <td>1</td>\n      <td>0</td>\n      <td>strong nutty</td>\n      <td>marshmallow</td>\n      <td>NaN</td>\n      <td>NaN</td>\n    </tr>\n    <tr>\n      <th>2221</th>\n      <td>10</td>\n      <td>72.0</td>\n      <td>3.50</td>\n      <td>3</td>\n      <td>1</td>\n      <td>0</td>\n      <td>0</td>\n      <td>0</td>\n      <td>1</td>\n      <td>0</td>\n      <td>muted</td>\n      <td>roasty</td>\n      <td>accessible</td>\n      <td>NaN</td>\n    </tr>\n    <tr>\n      <th>2222</th>\n      <td>15</td>\n      <td>70.0</td>\n      <td>3.25</td>\n      <td>3</td>\n      <td>1</td>\n      <td>0</td>\n      <td>0</td>\n      <td>0</td>\n      <td>1</td>\n      <td>0</td>\n      <td>fatty</td>\n      <td>mild nuts</td>\n      <td>mild fruit</td>\n      <td>NaN</td>\n    </tr>\n    <tr>\n      <th>2223</th>\n      <td>5</td>\n      <td>75.0</td>\n      <td>3.00</td>\n      <td>3</td>\n      <td>1</td>\n      <td>0</td>\n      <td>0</td>\n      <td>0</td>\n      <td>1</td>\n      <td>0</td>\n      <td>fatty</td>\n      <td>earthy</td>\n      <td>cocoa</td>\n      <td>NaN</td>\n    </tr>\n  </tbody>\n</table>\n<p>2224 rows × 14 columns</p>\n</div>"
     },
     "execution_count": 366,
     "metadata": {},
     "output_type": "execute_result"
    }
   ],
   "source": [
    "def replace_names(data_set : pd.DataFrame, column : str, top_n = 15):\n",
    "    value_map = {}\n",
    "    data_copy = data_set.copy()\n",
    "    index_val = 0\n",
    "    for name in chocolate_n2[column].value_counts().index:\n",
    "        val = chocolate_n2[column].value_counts()[name]\n",
    "        #print(name, val)\n",
    "        if index_val < top_n:\n",
    "            print(name, index_val)\n",
    "            value_map[name] = index_val\n",
    "        else:\n",
    "            #print(name, top_n)\n",
    "            value_map[name] = top_n\n",
    "        index_val += 1\n",
    "    data_copy[column] = data_copy[column].replace(value_map)\n",
    "    return data_copy\n",
    "\n",
    "\n",
    "#chocolate_n2[\"country_of_bean_origin\"].value_counts().index\n",
    "chocolate_n3 = replace_names(chocolate_n2, \"country_of_bean_origin\")\n",
    "chocolate_n3 = chocolate_n3.rename(columns={\"country_of_bean_origin\" : \"bean_origin\"})\n",
    "chocolate_n3"
   ],
   "metadata": {
    "collapsed": false,
    "pycharm": {
     "name": "#%%\n"
    }
   }
  },
  {
   "cell_type": "code",
   "execution_count": 367,
   "outputs": [
    {
     "name": "stderr",
     "output_type": "stream",
     "text": [
      "f:\\python\\projects\\pythonnotebooks\\venv\\lib\\site-packages\\category_encoders\\utils.py:21: FutureWarning: is_categorical is deprecated and will be removed in a future version.  Use is_categorical_dtype instead\n",
      "  elif pd.api.types.is_categorical(cols):\n"
     ]
    },
    {
     "data": {
      "text/plain": "      bean_origin_0  bean_origin_1  bean_origin_2  bean_origin_3  \\\n0                 0              0              0              0   \n1                 0              0              0              1   \n2                 0              0              0              1   \n3                 0              0              1              0   \n4                 0              0              1              0   \n...             ...            ...            ...            ...   \n2219              0              1              1              1   \n2220              0              1              0              1   \n2221              0              1              1              1   \n2222              0              1              0              1   \n2223              0              1              1              1   \n\n      bean_origin_4  cocoa_percent  rating  counts_of_ingredients  \\\n0                 1           76.0    3.75                      3   \n1                 0           76.0    3.50                      3   \n2                 1           76.0    3.25                      3   \n3                 0           63.0    3.75                      4   \n4                 1           70.0    3.50                      4   \n...             ...            ...     ...                    ...   \n2219              1           80.0    2.75                      4   \n2220              1           75.0    3.75                      3   \n2221              0           72.0    3.50                      3   \n2222              0           70.0    3.25                      3   \n2223              1           75.0    3.00                      3   \n\n      cocoa_butter  vanilla  lecithin  salt  sugar  sweetener_without_sugar  \\\n0                1        0         0     0      1                        0   \n1                1        0         0     0      1                        0   \n2                1        0         0     0      1                        0   \n3                1        0         1     0      1                        0   \n4                1        0         1     0      1                        0   \n...            ...      ...       ...   ...    ...                      ...   \n2219             1        0         0     1      0                        1   \n2220             1        0         0     0      1                        0   \n2221             1        0         0     0      1                        0   \n2222             1        0         0     0      1                        0   \n2223             1        0         0     0      1                        0   \n\n       first_taste second_taste third_taste fourth_taste  \n0            cocoa   blackberry   full body          NaN  \n1            cocoa      vegetal      savory          NaN  \n2       rich cocoa        fatty      bready          NaN  \n3           fruity        melon      roasty          NaN  \n4          vegetal        nutty         NaN          NaN  \n...            ...          ...         ...          ...  \n2219          waxy      cloying     vegetal          NaN  \n2220  strong nutty  marshmallow         NaN          NaN  \n2221         muted       roasty  accessible          NaN  \n2222         fatty    mild nuts  mild fruit          NaN  \n2223         fatty       earthy       cocoa          NaN  \n\n[2224 rows x 18 columns]",
      "text/html": "<div>\n<style scoped>\n    .dataframe tbody tr th:only-of-type {\n        vertical-align: middle;\n    }\n\n    .dataframe tbody tr th {\n        vertical-align: top;\n    }\n\n    .dataframe thead th {\n        text-align: right;\n    }\n</style>\n<table border=\"1\" class=\"dataframe\">\n  <thead>\n    <tr style=\"text-align: right;\">\n      <th></th>\n      <th>bean_origin_0</th>\n      <th>bean_origin_1</th>\n      <th>bean_origin_2</th>\n      <th>bean_origin_3</th>\n      <th>bean_origin_4</th>\n      <th>cocoa_percent</th>\n      <th>rating</th>\n      <th>counts_of_ingredients</th>\n      <th>cocoa_butter</th>\n      <th>vanilla</th>\n      <th>lecithin</th>\n      <th>salt</th>\n      <th>sugar</th>\n      <th>sweetener_without_sugar</th>\n      <th>first_taste</th>\n      <th>second_taste</th>\n      <th>third_taste</th>\n      <th>fourth_taste</th>\n    </tr>\n  </thead>\n  <tbody>\n    <tr>\n      <th>0</th>\n      <td>0</td>\n      <td>0</td>\n      <td>0</td>\n      <td>0</td>\n      <td>1</td>\n      <td>76.0</td>\n      <td>3.75</td>\n      <td>3</td>\n      <td>1</td>\n      <td>0</td>\n      <td>0</td>\n      <td>0</td>\n      <td>1</td>\n      <td>0</td>\n      <td>cocoa</td>\n      <td>blackberry</td>\n      <td>full body</td>\n      <td>NaN</td>\n    </tr>\n    <tr>\n      <th>1</th>\n      <td>0</td>\n      <td>0</td>\n      <td>0</td>\n      <td>1</td>\n      <td>0</td>\n      <td>76.0</td>\n      <td>3.50</td>\n      <td>3</td>\n      <td>1</td>\n      <td>0</td>\n      <td>0</td>\n      <td>0</td>\n      <td>1</td>\n      <td>0</td>\n      <td>cocoa</td>\n      <td>vegetal</td>\n      <td>savory</td>\n      <td>NaN</td>\n    </tr>\n    <tr>\n      <th>2</th>\n      <td>0</td>\n      <td>0</td>\n      <td>0</td>\n      <td>1</td>\n      <td>1</td>\n      <td>76.0</td>\n      <td>3.25</td>\n      <td>3</td>\n      <td>1</td>\n      <td>0</td>\n      <td>0</td>\n      <td>0</td>\n      <td>1</td>\n      <td>0</td>\n      <td>rich cocoa</td>\n      <td>fatty</td>\n      <td>bready</td>\n      <td>NaN</td>\n    </tr>\n    <tr>\n      <th>3</th>\n      <td>0</td>\n      <td>0</td>\n      <td>1</td>\n      <td>0</td>\n      <td>0</td>\n      <td>63.0</td>\n      <td>3.75</td>\n      <td>4</td>\n      <td>1</td>\n      <td>0</td>\n      <td>1</td>\n      <td>0</td>\n      <td>1</td>\n      <td>0</td>\n      <td>fruity</td>\n      <td>melon</td>\n      <td>roasty</td>\n      <td>NaN</td>\n    </tr>\n    <tr>\n      <th>4</th>\n      <td>0</td>\n      <td>0</td>\n      <td>1</td>\n      <td>0</td>\n      <td>1</td>\n      <td>70.0</td>\n      <td>3.50</td>\n      <td>4</td>\n      <td>1</td>\n      <td>0</td>\n      <td>1</td>\n      <td>0</td>\n      <td>1</td>\n      <td>0</td>\n      <td>vegetal</td>\n      <td>nutty</td>\n      <td>NaN</td>\n      <td>NaN</td>\n    </tr>\n    <tr>\n      <th>...</th>\n      <td>...</td>\n      <td>...</td>\n      <td>...</td>\n      <td>...</td>\n      <td>...</td>\n      <td>...</td>\n      <td>...</td>\n      <td>...</td>\n      <td>...</td>\n      <td>...</td>\n      <td>...</td>\n      <td>...</td>\n      <td>...</td>\n      <td>...</td>\n      <td>...</td>\n      <td>...</td>\n      <td>...</td>\n      <td>...</td>\n    </tr>\n    <tr>\n      <th>2219</th>\n      <td>0</td>\n      <td>1</td>\n      <td>1</td>\n      <td>1</td>\n      <td>1</td>\n      <td>80.0</td>\n      <td>2.75</td>\n      <td>4</td>\n      <td>1</td>\n      <td>0</td>\n      <td>0</td>\n      <td>1</td>\n      <td>0</td>\n      <td>1</td>\n      <td>waxy</td>\n      <td>cloying</td>\n      <td>vegetal</td>\n      <td>NaN</td>\n    </tr>\n    <tr>\n      <th>2220</th>\n      <td>0</td>\n      <td>1</td>\n      <td>0</td>\n      <td>1</td>\n      <td>1</td>\n      <td>75.0</td>\n      <td>3.75</td>\n      <td>3</td>\n      <td>1</td>\n      <td>0</td>\n      <td>0</td>\n      <td>0</td>\n      <td>1</td>\n      <td>0</td>\n      <td>strong nutty</td>\n      <td>marshmallow</td>\n      <td>NaN</td>\n      <td>NaN</td>\n    </tr>\n    <tr>\n      <th>2221</th>\n      <td>0</td>\n      <td>1</td>\n      <td>1</td>\n      <td>1</td>\n      <td>0</td>\n      <td>72.0</td>\n      <td>3.50</td>\n      <td>3</td>\n      <td>1</td>\n      <td>0</td>\n      <td>0</td>\n      <td>0</td>\n      <td>1</td>\n      <td>0</td>\n      <td>muted</td>\n      <td>roasty</td>\n      <td>accessible</td>\n      <td>NaN</td>\n    </tr>\n    <tr>\n      <th>2222</th>\n      <td>0</td>\n      <td>1</td>\n      <td>0</td>\n      <td>1</td>\n      <td>0</td>\n      <td>70.0</td>\n      <td>3.25</td>\n      <td>3</td>\n      <td>1</td>\n      <td>0</td>\n      <td>0</td>\n      <td>0</td>\n      <td>1</td>\n      <td>0</td>\n      <td>fatty</td>\n      <td>mild nuts</td>\n      <td>mild fruit</td>\n      <td>NaN</td>\n    </tr>\n    <tr>\n      <th>2223</th>\n      <td>0</td>\n      <td>1</td>\n      <td>1</td>\n      <td>1</td>\n      <td>1</td>\n      <td>75.0</td>\n      <td>3.00</td>\n      <td>3</td>\n      <td>1</td>\n      <td>0</td>\n      <td>0</td>\n      <td>0</td>\n      <td>1</td>\n      <td>0</td>\n      <td>fatty</td>\n      <td>earthy</td>\n      <td>cocoa</td>\n      <td>NaN</td>\n    </tr>\n  </tbody>\n</table>\n<p>2224 rows × 18 columns</p>\n</div>"
     },
     "execution_count": 367,
     "metadata": {},
     "output_type": "execute_result"
    }
   ],
   "source": [
    "import category_encoders as ce\n",
    "\n",
    "encoder = ce.BinaryEncoder(cols=['bean_origin'])\n",
    "df_binary = encoder.fit_transform(chocolate_n3)\n",
    "\n",
    "df_binary"
   ],
   "metadata": {
    "collapsed": false,
    "pycharm": {
     "name": "#%%\n"
    }
   }
  },
  {
   "cell_type": "markdown",
   "source": [
    "## let's take a look at how well this approach performes\n",
    "but we will drop the taste columns for now."
   ],
   "metadata": {
    "collapsed": false,
    "pycharm": {
     "name": "#%% md\n"
    }
   }
  },
  {
   "cell_type": "code",
   "execution_count": 368,
   "outputs": [],
   "source": [
    "# function for easy comparing two data sets performances.\n",
    "def run_lin_reg(data_set, name):\n",
    "    print()\n",
    "    print(name)\n",
    "    train_set_r, test_set_r = train_test_split(data_set, test_size = 0.2, random_state = 2)\n",
    "    x_train_r, y_train_r = split_test_train(train_set_r)\n",
    "\n",
    "    scalar_r = StandardScaler()\n",
    "    x_train_copy_r = scalar_r.fit_transform(x_train_r)\n",
    "\n",
    "    lin_reg_r = LinearRegression()\n",
    "    scores_r = cross_val_score(lin_reg_r, x_train_copy_r, y_train_r, scoring=\"neg_mean_squared_error\", cv = 10)\n",
    "\n",
    "    display_scores(scores_r)\n"
   ],
   "metadata": {
    "collapsed": false,
    "pycharm": {
     "name": "#%%\n"
    }
   }
  },
  {
   "cell_type": "code",
   "execution_count": 369,
   "outputs": [
    {
     "name": "stdout",
     "output_type": "stream",
     "text": [
      "\n",
      "test binary encoding\n",
      "Scores: [-0.19760977 -0.18023177 -0.17177274 -0.16226619 -0.17803492 -0.17966442\n",
      " -0.19381151 -0.19440513 -0.18471919 -0.15712038]\n",
      "Mean: -0.17996360267928352\n",
      "Standard deviation: 0.012807449770013812\n",
      "\n",
      "test without origin\n",
      "Scores: [-0.19702002 -0.1792923  -0.17117128 -0.16173    -0.17898647 -0.18225628\n",
      " -0.19560809 -0.19414489 -0.18500996 -0.15106753]\n",
      "Mean: -0.17962868152277503\n",
      "Standard deviation: 0.014186397656965215\n",
      "\n",
      "test cat encoding\n",
      "Scores: [-0.19611467 -0.1798936  -0.17155319 -0.16015839 -0.17983221 -0.18440125\n",
      " -0.19338259 -0.19382862 -0.18457848 -0.15203581]\n",
      "Mean: -0.17957788221790646\n",
      "Standard deviation: 0.01384063728212879\n"
     ]
    }
   ],
   "source": [
    "df_binary_nl = df_binary.iloc[:,:-4]\n",
    "run_lin_reg(df_binary_nl, \"test binary encoding\")\n",
    "\n",
    "df_binary_nl = df_binary_nl.iloc[:,5:]\n",
    "run_lin_reg(df_binary_nl, \"test without origin\")\n",
    "\n",
    "chocolate_cat_r = chocolate_cat.iloc[:,:-4]\n",
    "run_lin_reg(chocolate_cat_r, \"test cat encoding\")"
   ],
   "metadata": {
    "collapsed": false,
    "pycharm": {
     "name": "#%%\n"
    }
   }
  },
  {
   "cell_type": "markdown",
   "source": [
    "Well we can see that this approach has actually failed to produce any value.\n",
    "\n",
    "in fact it even worse then the cat encoding.\n",
    "\n",
    "another approach we can do!\n",
    "lets "
   ],
   "metadata": {
    "collapsed": false,
    "pycharm": {
     "name": "#%% md\n"
    }
   }
  },
  {
   "cell_type": "code",
   "execution_count": 369,
   "outputs": [],
   "source": [],
   "metadata": {
    "collapsed": false,
    "pycharm": {
     "name": "#%%\n"
    }
   }
  },
  {
   "cell_type": "code",
   "execution_count": 369,
   "outputs": [],
   "source": [],
   "metadata": {
    "collapsed": false,
    "pycharm": {
     "name": "#%%\n"
    }
   }
  },
  {
   "cell_type": "markdown",
   "source": [
    "## let's do the same thing for the taste values"
   ],
   "metadata": {
    "collapsed": false,
    "pycharm": {
     "name": "#%% md\n"
    }
   }
  },
  {
   "cell_type": "code",
   "execution_count": 370,
   "outputs": [
    {
     "name": "stdout",
     "output_type": "stream",
     "text": [
      "no flavor 2679\n",
      "nutty 238\n",
      "sweet 237\n",
      "cocoa 203\n",
      "roasty 198\n",
      "creamy 184\n",
      "earthy 164\n",
      "sandy 153\n",
      "fatty 149\n",
      "floral 133\n",
      "intense 132\n",
      "spicy 122\n",
      "sour 122\n",
      "molasses 82\n",
      "woody 80\n",
      "vanilla 78\n",
      "sticky 77\n",
      "fruit 74\n",
      "coffee 69\n",
      "rich 67\n",
      "gritty 65\n",
      "dried fruit 60\n",
      "dry 59\n",
      "grassy 56\n",
      "bitter 56\n",
      "tart 54\n",
      "caramel 54\n"
     ]
    }
   ],
   "source": [
    "def count_flavors(df_data : pd.DataFrame):\n",
    "    df_copy = df_data.copy()\n",
    "    df_copy[\"num_flavors\"] = 0\n",
    "    flavors = {}\n",
    "    for column in df_copy.columns:\n",
    "        if \"_taste\" in column:\n",
    "            df_copy[column] = df_copy[column].fillna(\"no flavor\")\n",
    "            df_copy[\"num_flavors\"] += np.where(df_copy[column] == \"no flavor\", 0, 1)\n",
    "            for name in df_copy[column].value_counts().index:\n",
    "                val = df_copy[column].value_counts()[name]\n",
    "                if name in flavors:\n",
    "                    flavors[name] += val\n",
    "                else:\n",
    "                    flavors[name] = val\n",
    "    flavors = dict(sorted(flavors.items(), key=lambda item: -item[1]))\n",
    "    topn = 25\n",
    "    for name, freq in flavors.items():\n",
    "        print(name, freq)\n",
    "        if topn < 0:\n",
    "            break\n",
    "        topn -= 1\n",
    "    return df_copy, flavors\n",
    "\n",
    "chocolate_b1, best_flavors = count_flavors(df_binary)"
   ],
   "metadata": {
    "collapsed": false,
    "pycharm": {
     "name": "#%%\n"
    }
   }
  },
  {
   "cell_type": "markdown",
   "source": [
    "## flavor look\n",
    "we can see that there is quite a lot of \"flavors\", but the top \"12\" flavors are all above 100\n",
    "times found in chocolates.\n",
    "\n",
    "lets use the One-Hot encoding approach and encode the values that way\n",
    "\n",
    "\n"
   ],
   "metadata": {
    "collapsed": false,
    "pycharm": {
     "name": "#%% md\n"
    }
   }
  }
 ],
 "metadata": {
  "kernelspec": {
   "display_name": "Python 3",
   "language": "python",
   "name": "python3"
  },
  "language_info": {
   "codemirror_mode": {
    "name": "ipython",
    "version": 2
   },
   "file_extension": ".py",
   "mimetype": "text/x-python",
   "name": "python",
   "nbconvert_exporter": "python",
   "pygments_lexer": "ipython2",
   "version": "2.7.6"
  }
 },
 "nbformat": 4,
 "nbformat_minor": 0
}