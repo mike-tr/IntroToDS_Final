{
 "cells": [
  {
   "cell_type": "raw",
   "source": [
    "Get a number at base 10,\n",
    "print the number at base 2 8 and 16.\n"
   ],
   "metadata": {
    "collapsed": false,
    "pycharm": {
     "name": "#%% raw\n"
    }
   }
  },
  {
   "cell_type": "code",
   "execution_count": 86,
   "outputs": [],
   "source": [
    "def print_base_x(num, x):\n",
    "    basex = \"\"\n",
    "    while num > 0:\n",
    "        basex = str(num % x) + basex\n",
    "        num = int(num/x)\n",
    "    print(\"base\", x, \":\", basex)\n",
    "\n",
    "def convert_base_16(n):\n",
    "    if n >= 10:\n",
    "        return chr(ord('A') + (n-10))\n",
    "    return str(n)\n",
    "\n",
    "def print_base_16(num):\n",
    "    base16 = \"\"\n",
    "    while num > 0:\n",
    "        base16 = convert_base_16(num % 16) + base16\n",
    "        num = int(num/16)\n",
    "    print(\"base 16 :\", base16)\n",
    "\n",
    "def print_number_in_all_bases(num):\n",
    "    print(\"converting\",num,\"to other bases\")\n",
    "    print_base_x(num,2)\n",
    "    print_base_x(num,8)\n",
    "    print_base_16(num)"
   ],
   "metadata": {
    "collapsed": false,
    "pycharm": {
     "name": "#%%\n"
    }
   }
  },
  {
   "cell_type": "code",
   "execution_count": 87,
   "outputs": [
    {
     "name": "stdout",
     "output_type": "stream",
     "text": [
      "converting 10 to other bases\n",
      "base 2 : 1010\n",
      "base 8 : 12\n",
      "base 16 : A\n",
      "converting 17 to other bases\n",
      "base 2 : 10001\n",
      "base 8 : 21\n",
      "base 16 : 11\n",
      "converting 100 to other bases\n",
      "base 2 : 1100100\n",
      "base 8 : 144\n",
      "base 16 : 64\n",
      "converting 254 to other bases\n",
      "base 2 : 11111110\n",
      "base 8 : 376\n",
      "base 16 : FE\n"
     ]
    }
   ],
   "source": [
    "print_number_in_all_bases(10)\n",
    "print_number_in_all_bases(17)\n",
    "print_number_in_all_bases(100)\n",
    "print_number_in_all_bases(254)"
   ],
   "metadata": {
    "collapsed": false,
    "pycharm": {
     "name": "#%%\n"
    }
   }
  },
  {
   "cell_type": "raw",
   "source": [
    "import cast, print the head"
   ],
   "metadata": {
    "collapsed": false,
    "pycharm": {
     "name": "#%% raw\n"
    }
   }
  },
  {
   "cell_type": "code",
   "execution_count": 88,
   "metadata": {
    "collapsed": true
   },
   "outputs": [
    {
     "data": {
      "text/plain": "                               title  year       name   type character     n\n0                    Suuri illusioni  1985     Homo $  actor    Guests  22.0\n1     Gangsta Rap: The Glockumentary  2007  Too $hort  actor   Himself   NaN\n2                  Menace II Society  1993  Too $hort  actor   Lew-Loc  27.0\n3  Porndogs: The Adventures of Sadie  2009  Too $hort  actor     Bosco   3.0\n4                 Stop Pepper Palmer  2014  Too $hort  actor   Himself   NaN",
      "text/html": "<div>\n<style scoped>\n    .dataframe tbody tr th:only-of-type {\n        vertical-align: middle;\n    }\n\n    .dataframe tbody tr th {\n        vertical-align: top;\n    }\n\n    .dataframe thead th {\n        text-align: right;\n    }\n</style>\n<table border=\"1\" class=\"dataframe\">\n  <thead>\n    <tr style=\"text-align: right;\">\n      <th></th>\n      <th>title</th>\n      <th>year</th>\n      <th>name</th>\n      <th>type</th>\n      <th>character</th>\n      <th>n</th>\n    </tr>\n  </thead>\n  <tbody>\n    <tr>\n      <th>0</th>\n      <td>Suuri illusioni</td>\n      <td>1985</td>\n      <td>Homo $</td>\n      <td>actor</td>\n      <td>Guests</td>\n      <td>22.0</td>\n    </tr>\n    <tr>\n      <th>1</th>\n      <td>Gangsta Rap: The Glockumentary</td>\n      <td>2007</td>\n      <td>Too $hort</td>\n      <td>actor</td>\n      <td>Himself</td>\n      <td>NaN</td>\n    </tr>\n    <tr>\n      <th>2</th>\n      <td>Menace II Society</td>\n      <td>1993</td>\n      <td>Too $hort</td>\n      <td>actor</td>\n      <td>Lew-Loc</td>\n      <td>27.0</td>\n    </tr>\n    <tr>\n      <th>3</th>\n      <td>Porndogs: The Adventures of Sadie</td>\n      <td>2009</td>\n      <td>Too $hort</td>\n      <td>actor</td>\n      <td>Bosco</td>\n      <td>3.0</td>\n    </tr>\n    <tr>\n      <th>4</th>\n      <td>Stop Pepper Palmer</td>\n      <td>2014</td>\n      <td>Too $hort</td>\n      <td>actor</td>\n      <td>Himself</td>\n      <td>NaN</td>\n    </tr>\n  </tbody>\n</table>\n</div>"
     },
     "execution_count": 88,
     "metadata": {},
     "output_type": "execute_result"
    }
   ],
   "source": [
    "import pandas as pd\n",
    "cast = pd.read_csv('data/cast.csv')\n",
    "cast.head()"
   ]
  },
  {
   "cell_type": "raw",
   "source": [
    "How many movies have the title \"Hamlet\"?"
   ],
   "metadata": {
    "collapsed": false,
    "pycharm": {
     "name": "#%% raw\n"
    }
   }
  },
  {
   "cell_type": "code",
   "execution_count": 89,
   "outputs": [
    {
     "name": "stdout",
     "output_type": "stream",
     "text": [
      "there is 17 movies named \"Hamlet\"\n"
     ]
    }
   ],
   "source": [
    "hamlet_movies = cast[cast[\"title\"] == \"Hamlet\"]\n",
    "h2 = hamlet_movies.drop_duplicates('year', keep='first').reindex()\n",
    "print(\"there is\",h2.shape[0],\"movies named \\\"Hamlet\\\"\")"
   ],
   "metadata": {
    "collapsed": false,
    "pycharm": {
     "name": "#%%\n"
    }
   }
  },
  {
   "cell_type": "raw",
   "source": [
    "List all of the \"Treasure Island\" movies from earliest to most recent."
   ],
   "metadata": {
    "collapsed": false
   }
  },
  {
   "cell_type": "code",
   "execution_count": 90,
   "outputs": [
    {
     "data": {
      "text/plain": "                   title  year                  name     type  \\\n1312766  Treasure Island  1918       Herschel Mayall    actor   \n3280557  Treasure Island  1918    Eleanor Washington  actress   \n3046750  Treasure Island  1918      Violet Radcliffe  actress   \n1167783  Treasure Island  1918           Raymond Lee    actor   \n1195421  Treasure Island  1918          Elmo Lincoln    actor   \n...                  ...   ...                   ...      ...   \n1663860  Treasure Island  1999  Victor Raider-Wexler    actor   \n1731182  Treasure Island  1999  Scot Thomas Robinson    actor   \n1813707  Treasure Island  1999        Richard Schave    actor   \n2710458  Treasure Island  1999    Stephanie Ittleson  actress   \n815338   Treasure Island  1999          Rio Hackford    actor   \n\n                character     n  \n1312766   Prologue Player   NaN  \n3280557   Prologue Player   NaN  \n3046750  Long John Silver   3.0  \n1167783          Bit Role   NaN  \n1195421   Prologue Player   NaN  \n...                   ...   ...  \n1663860          Samowitz  10.0  \n1731182             Jimmy  11.0  \n1813707               Man  21.0  \n2710458            Stella   7.0  \n815338               Hans  23.0  \n\n[187 rows x 6 columns]",
      "text/html": "<div>\n<style scoped>\n    .dataframe tbody tr th:only-of-type {\n        vertical-align: middle;\n    }\n\n    .dataframe tbody tr th {\n        vertical-align: top;\n    }\n\n    .dataframe thead th {\n        text-align: right;\n    }\n</style>\n<table border=\"1\" class=\"dataframe\">\n  <thead>\n    <tr style=\"text-align: right;\">\n      <th></th>\n      <th>title</th>\n      <th>year</th>\n      <th>name</th>\n      <th>type</th>\n      <th>character</th>\n      <th>n</th>\n    </tr>\n  </thead>\n  <tbody>\n    <tr>\n      <th>1312766</th>\n      <td>Treasure Island</td>\n      <td>1918</td>\n      <td>Herschel Mayall</td>\n      <td>actor</td>\n      <td>Prologue Player</td>\n      <td>NaN</td>\n    </tr>\n    <tr>\n      <th>3280557</th>\n      <td>Treasure Island</td>\n      <td>1918</td>\n      <td>Eleanor Washington</td>\n      <td>actress</td>\n      <td>Prologue Player</td>\n      <td>NaN</td>\n    </tr>\n    <tr>\n      <th>3046750</th>\n      <td>Treasure Island</td>\n      <td>1918</td>\n      <td>Violet Radcliffe</td>\n      <td>actress</td>\n      <td>Long John Silver</td>\n      <td>3.0</td>\n    </tr>\n    <tr>\n      <th>1167783</th>\n      <td>Treasure Island</td>\n      <td>1918</td>\n      <td>Raymond Lee</td>\n      <td>actor</td>\n      <td>Bit Role</td>\n      <td>NaN</td>\n    </tr>\n    <tr>\n      <th>1195421</th>\n      <td>Treasure Island</td>\n      <td>1918</td>\n      <td>Elmo Lincoln</td>\n      <td>actor</td>\n      <td>Prologue Player</td>\n      <td>NaN</td>\n    </tr>\n    <tr>\n      <th>...</th>\n      <td>...</td>\n      <td>...</td>\n      <td>...</td>\n      <td>...</td>\n      <td>...</td>\n      <td>...</td>\n    </tr>\n    <tr>\n      <th>1663860</th>\n      <td>Treasure Island</td>\n      <td>1999</td>\n      <td>Victor Raider-Wexler</td>\n      <td>actor</td>\n      <td>Samowitz</td>\n      <td>10.0</td>\n    </tr>\n    <tr>\n      <th>1731182</th>\n      <td>Treasure Island</td>\n      <td>1999</td>\n      <td>Scot Thomas Robinson</td>\n      <td>actor</td>\n      <td>Jimmy</td>\n      <td>11.0</td>\n    </tr>\n    <tr>\n      <th>1813707</th>\n      <td>Treasure Island</td>\n      <td>1999</td>\n      <td>Richard Schave</td>\n      <td>actor</td>\n      <td>Man</td>\n      <td>21.0</td>\n    </tr>\n    <tr>\n      <th>2710458</th>\n      <td>Treasure Island</td>\n      <td>1999</td>\n      <td>Stephanie Ittleson</td>\n      <td>actress</td>\n      <td>Stella</td>\n      <td>7.0</td>\n    </tr>\n    <tr>\n      <th>815338</th>\n      <td>Treasure Island</td>\n      <td>1999</td>\n      <td>Rio Hackford</td>\n      <td>actor</td>\n      <td>Hans</td>\n      <td>23.0</td>\n    </tr>\n  </tbody>\n</table>\n<p>187 rows × 6 columns</p>\n</div>"
     },
     "execution_count": 90,
     "metadata": {},
     "output_type": "execute_result"
    }
   ],
   "source": [
    "TI = cast[cast[\"title\"] == \"Treasure Island\"]\n",
    "TI.sort_values(\"year\")"
   ],
   "metadata": {
    "collapsed": false,
    "pycharm": {
     "name": "#%%\n"
    }
   }
  },
  {
   "cell_type": "raw",
   "source": [
    "How many roles were credited in the silent 1921 version of Hamlet?"
   ],
   "metadata": {
    "collapsed": false,
    "pycharm": {
     "name": "#%% raw\n"
    }
   }
  },
  {
   "cell_type": "code",
   "execution_count": 206,
   "outputs": [
    {
     "name": "stdout",
     "output_type": "stream",
     "text": [
      "the number of roles that were credited in the Hamlet 1921 is 9\n"
     ]
    }
   ],
   "source": [
    "H1 = hamlet_movies.loc[cast[\"year\"] == 1921]\n",
    "print(\"the number of roles that were credited in the Hamlet 1921 is\", H1.shape[0])"
   ],
   "metadata": {
    "collapsed": false,
    "pycharm": {
     "name": "#%%\n"
    }
   }
  },
  {
   "cell_type": "raw",
   "source": [
    "Use groupby() to plot the number of \"Hamlet\" films made each decade"
   ],
   "metadata": {
    "collapsed": false,
    "pycharm": {
     "name": "#%% raw\n"
    }
   }
  },
  {
   "cell_type": "code",
   "execution_count": 133,
   "outputs": [
    {
     "data": {
      "text/plain": "          Hamlet movie's per decade\nInterval                           \n1910s                             3\n1920s                             1\n1940s                             1\n1950s                             1\n1960s                             2\n1970s                             2\n1980s                             1\n1990s                             2\n2000s                             2\n2010s                             2",
      "text/html": "<div>\n<style scoped>\n    .dataframe tbody tr th:only-of-type {\n        vertical-align: middle;\n    }\n\n    .dataframe tbody tr th {\n        vertical-align: top;\n    }\n\n    .dataframe thead th {\n        text-align: right;\n    }\n</style>\n<table border=\"1\" class=\"dataframe\">\n  <thead>\n    <tr style=\"text-align: right;\">\n      <th></th>\n      <th>Hamlet movie's per decade</th>\n    </tr>\n    <tr>\n      <th>Interval</th>\n      <th></th>\n    </tr>\n  </thead>\n  <tbody>\n    <tr>\n      <th>1910s</th>\n      <td>3</td>\n    </tr>\n    <tr>\n      <th>1920s</th>\n      <td>1</td>\n    </tr>\n    <tr>\n      <th>1940s</th>\n      <td>1</td>\n    </tr>\n    <tr>\n      <th>1950s</th>\n      <td>1</td>\n    </tr>\n    <tr>\n      <th>1960s</th>\n      <td>2</td>\n    </tr>\n    <tr>\n      <th>1970s</th>\n      <td>2</td>\n    </tr>\n    <tr>\n      <th>1980s</th>\n      <td>1</td>\n    </tr>\n    <tr>\n      <th>1990s</th>\n      <td>2</td>\n    </tr>\n    <tr>\n      <th>2000s</th>\n      <td>2</td>\n    </tr>\n    <tr>\n      <th>2010s</th>\n      <td>2</td>\n    </tr>\n  </tbody>\n</table>\n</div>"
     },
     "execution_count": 133,
     "metadata": {},
     "output_type": "execute_result"
    }
   ],
   "source": [
    "h2 = hamlet_movies.groupby(\"year\").sum().reset_index(0, drop=False)\n",
    "\n",
    "#h2[\"year\"]\n",
    "h2[\"Interval\"] = (10 * (h2[\"year\"] // 10)).astype(str) + 's'\n",
    "h2['Hamlet movie\\'s per decade'] = 1\n",
    "h2 = h2.drop(['n', \"year\"], axis=1).groupby(\"Interval\").sum()\n",
    "h2"
   ],
   "metadata": {
    "collapsed": false,
    "pycharm": {
     "name": "#%%\n"
    }
   }
  },
  {
   "cell_type": "raw",
   "source": [
    "How many leading (n=1) roles were available to actors, and how many to\n",
    "actresses, in each year of the 1950s?"
   ],
   "metadata": {
    "collapsed": false,
    "pycharm": {
     "name": "#%% raw\n"
    }
   }
  },
  {
   "cell_type": "code",
   "execution_count": 152,
   "outputs": [
    {
     "name": "stdout",
     "output_type": "stream",
     "text": [
      "number of leading roles (n=1) for actress are 2813\n",
      "number of leading roles (n=1) for actors are 6388\n"
     ]
    }
   ],
   "source": [
    "c50s = cast.loc[cast[\"year\"] < 1960].loc[cast[\"year\"] >= 1950]\n",
    "c50sn1 = c50s.loc[cast[\"n\"] == 1]\n",
    "c50sn1actor = c50sn1.loc[cast[\"type\"] == \"actor\"]\n",
    "c50sn1actress = c50sn1.loc[cast[\"type\"] == \"actress\"]\n",
    "# c50s = cast[df2]\n",
    "# c50s\n",
    "print(\"number of leading roles (n=1) for actress are\", c50sn1actress.shape[0])\n",
    "print(\"number of leading roles (n=1) for actors are\", c50sn1actor.shape[0])"
   ],
   "metadata": {
    "collapsed": false,
    "pycharm": {
     "name": "#%%\n"
    }
   }
  },
  {
   "cell_type": "raw",
   "source": [
    "List the 10 actors/actresses that have the most leading roles (n=1) since the 1990's"
   ],
   "metadata": {
    "collapsed": false,
    "pycharm": {
     "name": "#%% raw\n"
    }
   }
  },
  {
   "cell_type": "code",
   "execution_count": 205,
   "outputs": [
    {
     "data": {
      "text/plain": "    type                name  roles\n0  actor            Mohanlal    126\n1  actor           Mammootty    118\n2  actor        Akshay Kumar     87\n3  actor             Jayaram     76\n4  actor            Andy Lau     72\n5  actor          Ajay Devgn     69\n6  actor    Amitabh Bachchan     68\n7  actor        Eric Roberts     68\n8  actor  Nagarjuna Akkineni     60\n9  actor               Dilip     59",
      "text/html": "<div>\n<style scoped>\n    .dataframe tbody tr th:only-of-type {\n        vertical-align: middle;\n    }\n\n    .dataframe tbody tr th {\n        vertical-align: top;\n    }\n\n    .dataframe thead th {\n        text-align: right;\n    }\n</style>\n<table border=\"1\" class=\"dataframe\">\n  <thead>\n    <tr style=\"text-align: right;\">\n      <th></th>\n      <th>type</th>\n      <th>name</th>\n      <th>roles</th>\n    </tr>\n  </thead>\n  <tbody>\n    <tr>\n      <th>0</th>\n      <td>actor</td>\n      <td>Mohanlal</td>\n      <td>126</td>\n    </tr>\n    <tr>\n      <th>1</th>\n      <td>actor</td>\n      <td>Mammootty</td>\n      <td>118</td>\n    </tr>\n    <tr>\n      <th>2</th>\n      <td>actor</td>\n      <td>Akshay Kumar</td>\n      <td>87</td>\n    </tr>\n    <tr>\n      <th>3</th>\n      <td>actor</td>\n      <td>Jayaram</td>\n      <td>76</td>\n    </tr>\n    <tr>\n      <th>4</th>\n      <td>actor</td>\n      <td>Andy Lau</td>\n      <td>72</td>\n    </tr>\n    <tr>\n      <th>5</th>\n      <td>actor</td>\n      <td>Ajay Devgn</td>\n      <td>69</td>\n    </tr>\n    <tr>\n      <th>6</th>\n      <td>actor</td>\n      <td>Amitabh Bachchan</td>\n      <td>68</td>\n    </tr>\n    <tr>\n      <th>7</th>\n      <td>actor</td>\n      <td>Eric Roberts</td>\n      <td>68</td>\n    </tr>\n    <tr>\n      <th>8</th>\n      <td>actor</td>\n      <td>Nagarjuna Akkineni</td>\n      <td>60</td>\n    </tr>\n    <tr>\n      <th>9</th>\n      <td>actor</td>\n      <td>Dilip</td>\n      <td>59</td>\n    </tr>\n  </tbody>\n</table>\n</div>"
     },
     "execution_count": 205,
     "metadata": {},
     "output_type": "execute_result"
    }
   ],
   "source": [
    "cfrom90s = cast.loc[cast[\"year\"] >= 1990].loc[cast[\"n\"] == 1]\n",
    "cfrom90s = cfrom90s.drop(['n', \"year\"], axis=1)\n",
    "cfrom90s[\"roles\"] = 1\n",
    "cfrom90s = cfrom90s.groupby([\"name\", \"type\"]).sum().reset_index(0, drop=False).reset_index(0, drop=False)\n",
    "cfrom90s.sort_values(\"roles\", ascending=False).reset_index(0, drop=True).head(10)"
   ],
   "metadata": {
    "collapsed": false,
    "pycharm": {
     "name": "#%%\n"
    }
   }
  },
  {
   "cell_type": "raw",
   "source": [
    "List, in order by year, each of the films in which Frank Oz has played more than\n",
    "1 role"
   ],
   "metadata": {
    "collapsed": false,
    "pycharm": {
     "name": "#%% raw\n"
    }
   }
  },
  {
   "cell_type": "code",
   "execution_count": 194,
   "outputs": [
    {
     "data": {
      "text/plain": "   year                                     title  roles\n0  1979                          The Muppet Movie      8\n1  1981                    The Great Muppet Caper      6\n2  1981            An American Werewolf in London      2\n3  1982                          The Dark Crystal      2\n4  1984                The Muppets Take Manhattan      7\n5  1985  Sesame Street Presents: Follow that Bird      3\n6  1992                The Muppet Christmas Carol      7\n7  1996                    Muppet Treasure Island      4\n8  1999                        Muppets from Space      4\n9  1999      The Adventures of Elmo in Grouchland      3",
      "text/html": "<div>\n<style scoped>\n    .dataframe tbody tr th:only-of-type {\n        vertical-align: middle;\n    }\n\n    .dataframe tbody tr th {\n        vertical-align: top;\n    }\n\n    .dataframe thead th {\n        text-align: right;\n    }\n</style>\n<table border=\"1\" class=\"dataframe\">\n  <thead>\n    <tr style=\"text-align: right;\">\n      <th></th>\n      <th>year</th>\n      <th>title</th>\n      <th>roles</th>\n    </tr>\n  </thead>\n  <tbody>\n    <tr>\n      <th>0</th>\n      <td>1979</td>\n      <td>The Muppet Movie</td>\n      <td>8</td>\n    </tr>\n    <tr>\n      <th>1</th>\n      <td>1981</td>\n      <td>The Great Muppet Caper</td>\n      <td>6</td>\n    </tr>\n    <tr>\n      <th>2</th>\n      <td>1981</td>\n      <td>An American Werewolf in London</td>\n      <td>2</td>\n    </tr>\n    <tr>\n      <th>3</th>\n      <td>1982</td>\n      <td>The Dark Crystal</td>\n      <td>2</td>\n    </tr>\n    <tr>\n      <th>4</th>\n      <td>1984</td>\n      <td>The Muppets Take Manhattan</td>\n      <td>7</td>\n    </tr>\n    <tr>\n      <th>5</th>\n      <td>1985</td>\n      <td>Sesame Street Presents: Follow that Bird</td>\n      <td>3</td>\n    </tr>\n    <tr>\n      <th>6</th>\n      <td>1992</td>\n      <td>The Muppet Christmas Carol</td>\n      <td>7</td>\n    </tr>\n    <tr>\n      <th>7</th>\n      <td>1996</td>\n      <td>Muppet Treasure Island</td>\n      <td>4</td>\n    </tr>\n    <tr>\n      <th>8</th>\n      <td>1999</td>\n      <td>Muppets from Space</td>\n      <td>4</td>\n    </tr>\n    <tr>\n      <th>9</th>\n      <td>1999</td>\n      <td>The Adventures of Elmo in Grouchland</td>\n      <td>3</td>\n    </tr>\n  </tbody>\n</table>\n</div>"
     },
     "execution_count": 194,
     "metadata": {},
     "output_type": "execute_result"
    }
   ],
   "source": [
    "foz = cast.loc[cast[\"name\"] == \"Frank Oz\"].sort_values(\"year\")\n",
    "foz[\"roles\"] = 1\n",
    "foz = foz.drop(['n', \"type\"], axis=1).groupby([\"title\", \"year\"]).agg({'roles':'sum'})\n",
    "foz = foz.sort_values(\"year\").loc[foz[\"roles\"] > 1].reset_index(0, drop=False).reset_index(0, drop=False)\n",
    "foz"
   ],
   "metadata": {
    "collapsed": false,
    "pycharm": {
     "name": "#%%\n"
    }
   }
  }
 ],
 "metadata": {
  "kernelspec": {
   "display_name": "Python 3",
   "language": "python",
   "name": "python3"
  },
  "language_info": {
   "codemirror_mode": {
    "name": "ipython",
    "version": 2
   },
   "file_extension": ".py",
   "mimetype": "text/x-python",
   "name": "python",
   "nbconvert_exporter": "python",
   "pygments_lexer": "ipython2",
   "version": "2.7.6"
  }
 },
 "nbformat": 4,
 "nbformat_minor": 0
}